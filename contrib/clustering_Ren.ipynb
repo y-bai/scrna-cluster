{
 "cells": [
  {
   "cell_type": "code",
   "execution_count": 1,
   "metadata": {},
   "outputs": [],
   "source": [
    "import os\n",
    "import numpy as np\n",
    "import pandas as pd\n",
    "import random\n",
    "import time\n",
    "import scanpy as sc\n",
    "import torch\n",
    "\n",
    "import warnings\n",
    "warnings.filterwarnings('ignore')\n",
    "import logging\n",
    "logging.basicConfig(level=logging.INFO)\n",
    "import scDualGN\n",
    "\n",
    "def seed_torch(seed=666):\n",
    "    random.seed(seed)\n",
    "    os.environ['PYTHONHASHSEED'] = str(seed)\n",
    "    np.random.seed(seed)\n",
    "    torch.manual_seed(seed)\n",
    "    torch.cuda.manual_seed(seed)\n",
    "    torch.cuda.manual_seed_all(seed) # if you are using multi-GPU.\n",
    "    torch.backends.cudnn.benchmark = False\n",
    "    torch.backends.cudnn.deterministic = True\n",
    "    torch.backends.cudnn.enabled = False\n",
    "seed_torch()"
   ]
  },
  {
   "cell_type": "code",
   "execution_count": 2,
   "metadata": {},
   "outputs": [
    {
     "name": "stdout",
     "output_type": "stream",
     "text": [
      "AnnData object with n_obs × n_vars = 1462702 × 2499\n",
      "    obs: 'celltype', 'sampleID', 'PatientID', 'datasets', 'City', 'Age', 'Sex', 'Sample type', 'CoVID-19 severity', 'Sample time', 'Sampling day (Days after symptom onset)', 'SARS-CoV-2', 'Single cell sequencing platform', 'BCR single cell sequencing', 'TCR single cell sequencing', 'Outcome', 'Comorbidities', 'COVID-19-related medication and anti-microbials', 'Leukocytes [G/L]', 'Neutrophils [G/L]', 'Lymphocytes [G/L]', 'Unpublished', 'celltype_str'\n",
      "    var: 'highly_variable', 'means', 'dispersions', 'dispersions_norm', 'mean', 'std'\n",
      "    uns: 'hvg', 'neighbors', 'pca'\n",
      "    obsp: 'connectivities', 'distances'\n"
     ]
    }
   ],
   "source": [
    "adata = sc.read_h5ad('/media/bgi/zhouruilong/genebank_new/tfs11/ST_MCHRI_BIGDATA/zhouruilong/scanpy_plot/covid_6.h5ad')\n",
    "del adata.obsm['X_tsne'],adata.obsm['X_pca'],adata.obsm['har_emb']\n",
    "\n",
    "adata.obs['celltype'] = adata.obs['majorType']\n",
    "del adata.obs['majorType']\n",
    "adata.obs['celltype_str'] = adata.obs['celltype']\n",
    "\n",
    "arr = np.array(adata.obs['celltype'])\n",
    "np.place(arr,arr=='B',[0])\n",
    "np.place(arr,arr=='CD8',[1])\n",
    "np.place(arr,arr=='Mono',[2])\n",
    "np.place(arr,arr=='CD4',[3])\n",
    "np.place(arr,arr=='NK',[4])\n",
    "np.place(arr,arr=='Macro',[5])\n",
    "np.place(arr,arr=='DC',[6])\n",
    "np.place(arr,arr=='Plasma',[7])\n",
    "np.place(arr,arr=='Mega',[8])\n",
    "np.place(arr,arr=='Epi',[9])\n",
    "np.place(arr,arr=='Neu',[10])\n",
    "np.place(arr,arr=='Mast',[11])\n",
    "\n",
    "arr = arr.astype(np.int32)\n",
    "adata.obs['celltype'] = arr\n",
    "del arr\n",
    "print(adata)"
   ]
  },
  {
   "cell_type": "code",
   "execution_count": null,
   "metadata": {},
   "outputs": [
    {
     "name": "stderr",
     "output_type": "stream",
     "text": [
      "INFO:scDualGN.run:device: cuda:2\n",
      "INFO:scDualGN.run:pretrain device: cuda:2\n",
      "INFO:scDualGN.run:start pretraining...\n",
      "INFO:scDualGN.run:Epoch 0/50,Overall loss:32022.2834,MSE:1513.4809,MSE1:438.0606,KL: 10.5723\n",
      "INFO:scDualGN.run:Epoch 1/50,Overall loss:29067.1840,MSE:1394.8473,MSE1:292.3866,KL: 17.2661\n",
      "INFO:scDualGN.run:Epoch 2/50,Overall loss:26585.6889,MSE:1287.9692,MSE1:206.3464,KL: 22.9920\n",
      "INFO:scDualGN.run:Epoch 3/50,Overall loss:24712.1004,MSE:1204.6203,MSE1:154.6500,KL: 27.3390\n",
      "INFO:scDualGN.run:Epoch 4/50,Overall loss:23362.5169,MSE:1143.9201,MSE1:120.7213,KL: 30.7560\n",
      "INFO:scDualGN.run:Epoch 5/50,Overall loss:22398.9088,MSE:1100.4845,MSE1:96.9687,KL: 33.5856\n",
      "INFO:scDualGN.run:Epoch 6/50,Overall loss:21701.1238,MSE:1069.0760,MSE1:79.5400,KL: 36.0701\n",
      "INFO:scDualGN.run:Epoch 7/50,Overall loss:21179.4102,MSE:1045.6500,MSE1:66.2190,KL: 38.3769\n"
     ]
    }
   ],
   "source": [
    "#kmeans\n",
    "start = time.time()\n",
    "z_final, y_pred_lab, model = scDualGN.run_scDualGN(adata, n_cluster=12,n_z=32,n_epoch_update_pq=5, n_epochs=30,alpha_dualvae=0.04,beta_daulvae=20,gamma_dualvae=4,GPU_id=2)\n",
    "end = time.time()\n",
    "\n",
    "print('running time = {}'.format(end-start))"
   ]
  },
  {
   "cell_type": "code",
   "execution_count": null,
   "metadata": {},
   "outputs": [],
   "source": []
  },
  {
   "cell_type": "code",
   "execution_count": null,
   "metadata": {},
   "outputs": [],
   "source": []
  },
  {
   "cell_type": "code",
   "execution_count": null,
   "metadata": {},
   "outputs": [],
   "source": []
  }
 ],
 "metadata": {
  "kernelspec": {
   "display_name": "Python 3 (ipykernel)",
   "language": "python",
   "name": "python3"
  },
  "language_info": {
   "codemirror_mode": {
    "name": "ipython",
    "version": 3
   },
   "file_extension": ".py",
   "mimetype": "text/x-python",
   "name": "python",
   "nbconvert_exporter": "python",
   "pygments_lexer": "ipython3",
   "version": "3.8.13"
  }
 },
 "nbformat": 4,
 "nbformat_minor": 4
}
