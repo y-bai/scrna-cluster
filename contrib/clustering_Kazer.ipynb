{
 "cells": [
  {
   "cell_type": "code",
   "execution_count": 1,
   "metadata": {},
   "outputs": [],
   "source": [
    "import os\n",
    "import numpy as np\n",
    "import pandas as pd\n",
    "import random\n",
    "import time\n",
    "import scanpy as sc\n",
    "import torch\n",
    "\n",
    "import warnings\n",
    "warnings.filterwarnings('ignore')\n",
    "import logging\n",
    "logging.basicConfig(level=logging.INFO)\n",
    "import scDualGN\n",
    "\n",
    "def seed_torch(seed=666):\n",
    "    random.seed(seed)\n",
    "    os.environ['PYTHONHASHSEED'] = str(seed)\n",
    "    np.random.seed(seed)\n",
    "    torch.manual_seed(seed)\n",
    "    torch.cuda.manual_seed(seed)\n",
    "    torch.cuda.manual_seed_all(seed) # if you are using multi-GPU.\n",
    "    torch.backends.cudnn.benchmark = False\n",
    "    torch.backends.cudnn.deterministic = True\n",
    "    torch.backends.cudnn.enabled = False\n",
    "seed_torch()"
   ]
  },
  {
   "cell_type": "code",
   "execution_count": 2,
   "metadata": {},
   "outputs": [],
   "source": [
    "adata = sc.read_h5ad('/media/bgi/zhouruilong/paper_test/cluster/our_model/scRNA-seq数据新/HIV/HIV.h5ad')\n",
    "adata.obs['celltype_str'] = adata.obs['celltype']\n",
    "adata.obs['celltype'].cat.categories = list(range(0,8))\n",
    "adata.obs['celltype'] = adata.obs['celltype'].astype(np.int)"
   ]
  },
  {
   "cell_type": "code",
   "execution_count": 3,
   "metadata": {},
   "outputs": [
    {
     "data": {
      "text/plain": [
       "AnnData object with n_obs × n_vars = 59286 × 16980\n",
       "    obs: 'celltype', 'celltype_str'"
      ]
     },
     "execution_count": 3,
     "metadata": {},
     "output_type": "execute_result"
    }
   ],
   "source": [
    "adata"
   ]
  },
  {
   "cell_type": "code",
   "execution_count": 4,
   "metadata": {},
   "outputs": [],
   "source": [
    "sc.pp.highly_variable_genes(adata, n_top_genes=2500)\n",
    "adata = adata[:, adata.var.highly_variable]\n",
    "sc.pp.scale(adata,max_value=10)"
   ]
  },
  {
   "cell_type": "code",
   "execution_count": 5,
   "metadata": {},
   "outputs": [
    {
     "data": {
      "text/plain": [
       "AnnData object with n_obs × n_vars = 59286 × 2500\n",
       "    obs: 'celltype', 'celltype_str'\n",
       "    var: 'highly_variable', 'means', 'dispersions', 'dispersions_norm', 'mean', 'std'\n",
       "    uns: 'hvg'"
      ]
     },
     "execution_count": 5,
     "metadata": {},
     "output_type": "execute_result"
    }
   ],
   "source": [
    "adata"
   ]
  },
  {
   "cell_type": "code",
   "execution_count": null,
   "metadata": {},
   "outputs": [
    {
     "name": "stderr",
     "output_type": "stream",
     "text": [
      "INFO:scDualGN.run:device: cuda:1\n",
      "INFO:scDualGN.run:pretrain device: cuda:1\n",
      "INFO:scDualGN.run:start pretraining...\n",
      "INFO:scDualGN.run:Epoch 0/50,Overall loss:16661.7837,MSE:1634.7912,MSE1:78.3318,KL: 54.4616\n",
      "INFO:scDualGN.run:Epoch 1/50,Overall loss:15400.7522,MSE:1538.9527,MSE1:2.5083,KL: 119.1711\n",
      "INFO:scDualGN.run:Epoch 2/50,Overall loss:15300.9876,MSE:1529.2079,MSE1:1.8877,KL: 135.8102\n",
      "INFO:scDualGN.run:Epoch 3/50,Overall loss:15229.1063,MSE:1522.0935,MSE1:1.6949,KL: 139.2111\n",
      "INFO:scDualGN.run:Epoch 4/50,Overall loss:15162.1329,MSE:1515.4911,MSE1:1.4372,KL: 147.3379\n",
      "INFO:scDualGN.run:Epoch 5/50,Overall loss:15099.7342,MSE:1509.3171,MSE1:1.2611,KL: 151.8857\n",
      "INFO:scDualGN.run:Epoch 6/50,Overall loss:15038.0339,MSE:1503.1942,MSE1:1.1323,KL: 156.2815\n",
      "INFO:scDualGN.run:Epoch 7/50,Overall loss:14975.7000,MSE:1497.0082,MSE1:0.9979,KL: 162.6222\n",
      "INFO:scDualGN.run:Epoch 8/50,Overall loss:14911.3404,MSE:1490.6234,MSE1:0.8493,KL: 170.8835\n",
      "INFO:scDualGN.run:Epoch 9/50,Overall loss:14847.7488,MSE:1484.3109,MSE1:0.7093,KL: 180.2425\n",
      "INFO:scDualGN.run:Epoch 10/50,Overall loss:14785.2135,MSE:1478.0929,MSE1:0.5973,KL: 189.5038\n",
      "INFO:scDualGN.run:Epoch 11/50,Overall loss:14728.6933,MSE:1472.4725,MSE1:0.4933,KL: 199.4709\n",
      "INFO:scDualGN.run:Epoch 12/50,Overall loss:14674.2313,MSE:1467.0492,MSE1:0.4128,KL: 208.8546\n",
      "INFO:scDualGN.run:Epoch 13/50,Overall loss:14624.5138,MSE:1462.0945,MSE1:0.3476,KL: 217.8502\n",
      "INFO:scDualGN.run:Epoch 14/50,Overall loss:14581.4001,MSE:1457.7963,MSE1:0.2925,KL: 226.6765\n",
      "INFO:scDualGN.run:Epoch 15/50,Overall loss:14544.7191,MSE:1454.1374,MSE1:0.2499,KL: 234.5054\n",
      "INFO:scDualGN.run:Epoch 16/50,Overall loss:14510.4013,MSE:1450.7130,MSE1:0.2153,KL: 240.9515\n",
      "INFO:scDualGN.run:Epoch 17/50,Overall loss:14479.2391,MSE:1447.6016,MSE1:0.1881,KL: 247.0489\n",
      "INFO:scDualGN.run:Epoch 18/50,Overall loss:14450.0860,MSE:1444.6898,MSE1:0.1660,KL: 252.4155\n",
      "INFO:scDualGN.run:Epoch 19/50,Overall loss:14423.8483,MSE:1442.0681,MSE1:0.1488,KL: 257.2375\n",
      "INFO:scDualGN.run:Epoch 20/50,Overall loss:14398.4722,MSE:1439.5323,MSE1:0.1329,KL: 261.7620\n",
      "INFO:scDualGN.run:Epoch 21/50,Overall loss:14374.3586,MSE:1437.1217,MSE1:0.1206,KL: 265.8847\n",
      "INFO:scDualGN.run:Epoch 22/50,Overall loss:14350.5654,MSE:1434.7433,MSE1:0.1090,KL: 269.6590\n",
      "INFO:scDualGN.run:Epoch 23/50,Overall loss:14328.6925,MSE:1432.5559,MSE1:0.1002,KL: 273.2986\n",
      "INFO:scDualGN.run:Epoch 24/50,Overall loss:14309.4500,MSE:1430.6316,MSE1:0.0916,KL: 276.7368\n",
      "INFO:scDualGN.run:Epoch 25/50,Overall loss:14289.6554,MSE:1428.6517,MSE1:0.0849,KL: 279.8902\n",
      "INFO:scDualGN.run:Epoch 26/50,Overall loss:14270.4380,MSE:1426.7295,MSE1:0.0786,KL: 282.9070\n",
      "INFO:scDualGN.run:Epoch 27/50,Overall loss:14251.7821,MSE:1424.8631,MSE1:0.0731,KL: 285.8547\n",
      "INFO:scDualGN.run:Epoch 28/50,Overall loss:14233.5483,MSE:1423.0389,MSE1:0.0684,KL: 288.5661\n",
      "INFO:scDualGN.run:Epoch 29/50,Overall loss:14216.0173,MSE:1421.2850,MSE1:0.0643,KL: 290.9804\n",
      "INFO:scDualGN.run:Epoch 30/50,Overall loss:14200.7693,MSE:1419.7593,MSE1:0.0605,KL: 293.4616\n",
      "INFO:scDualGN.run:Epoch 31/50,Overall loss:14184.4990,MSE:1418.1314,MSE1:0.0575,KL: 295.5194\n",
      "INFO:scDualGN.run:Epoch 32/50,Overall loss:14170.0507,MSE:1416.6857,MSE1:0.0546,KL: 297.5152\n",
      "INFO:scDualGN.run:Epoch 33/50,Overall loss:14153.5947,MSE:1415.0390,MSE1:0.0523,KL: 299.5703\n",
      "INFO:scDualGN.run:Epoch 34/50,Overall loss:14139.9363,MSE:1413.6722,MSE1:0.0502,KL: 301.4004\n",
      "INFO:scDualGN.run:Epoch 35/50,Overall loss:14126.6895,MSE:1412.3466,MSE1:0.0479,KL: 303.2329\n",
      "INFO:scDualGN.run:Epoch 36/50,Overall loss:14112.8251,MSE:1410.9592,MSE1:0.0459,KL: 304.9218\n",
      "INFO:scDualGN.run:Epoch 37/50,Overall loss:14099.9266,MSE:1409.6686,MSE1:0.0440,KL: 306.4090\n",
      "INFO:scDualGN.run:Epoch 38/50,Overall loss:14086.1594,MSE:1408.2909,MSE1:0.0430,KL: 307.8159\n",
      "INFO:scDualGN.run:Epoch 39/50,Overall loss:14075.9870,MSE:1407.2728,MSE1:0.0417,KL: 309.1864\n",
      "INFO:scDualGN.run:Epoch 40/50,Overall loss:14063.0838,MSE:1405.9817,MSE1:0.0404,KL: 310.5023\n",
      "INFO:scDualGN.run:Epoch 41/50,Overall loss:14050.3952,MSE:1404.7123,MSE1:0.0392,KL: 311.5534\n",
      "INFO:scDualGN.run:Epoch 42/50,Overall loss:14040.6659,MSE:1403.7387,MSE1:0.0382,KL: 312.6658\n",
      "INFO:scDualGN.run:Epoch 43/50,Overall loss:14026.5008,MSE:1402.3214,MSE1:0.0375,KL: 313.7110\n",
      "INFO:scDualGN.run:Epoch 44/50,Overall loss:14018.0177,MSE:1401.4724,MSE1:0.0368,KL: 314.6108\n",
      "INFO:scDualGN.run:Epoch 45/50,Overall loss:14007.2304,MSE:1400.3930,MSE1:0.0359,KL: 315.6480\n",
      "INFO:scDualGN.run:Epoch 46/50,Overall loss:13997.0769,MSE:1399.3771,MSE1:0.0351,KL: 316.5613\n",
      "INFO:scDualGN.run:Epoch 47/50,Overall loss:13985.1676,MSE:1398.1854,MSE1:0.0347,KL: 317.4492\n",
      "INFO:scDualGN.run:Epoch 48/50,Overall loss:13976.3559,MSE:1397.3038,MSE1:0.0339,KL: 318.2697\n",
      "INFO:scDualGN.run:Epoch 49/50,Overall loss:13966.9549,MSE:1396.3631,MSE1:0.0336,KL: 318.9980\n",
      "INFO:scDualGN.run:dual-VAE pretrain finished!\n",
      "INFO:scDualGN.run:obtain daul-VAE z-vector and x_bar\n",
      "INFO:scDualGN.run:perform kmeans to cluster....\n",
      "INFO:scDualGN.run:training scDualGN...\n",
      "INFO:scDualGN.run:epoch 1/30\n",
      "INFO:scDualGN.evalution:acc=0.7621, nmi=0.7225, ari=0.6569\n",
      "INFO:scDualGN.run:Epoch 1/30, Loss - overall: 14079.0867,daul_VAE:14079.0597,KL:0.0201,Center:71.4331\n",
      "INFO:scDualGN.run:Epoch 2/30, Loss - overall: 13967.1003,daul_VAE:13967.0736,KL:0.0199,Center:70.9156\n",
      "INFO:scDualGN.run:Epoch 3/30, Loss - overall: 13939.2047,daul_VAE:13939.1790,KL:0.0190,Center:69.9330\n",
      "INFO:scDualGN.run:Epoch 4/30, Loss - overall: 13878.1268,daul_VAE:13878.1016,KL:0.0183,Center:69.4703\n",
      "INFO:scDualGN.run:Epoch 5/30, Loss - overall: 13893.1327,daul_VAE:13893.1079,KL:0.0180,Center:69.1773\n",
      "INFO:scDualGN.run:epoch 6/30\n",
      "INFO:scDualGN.evalution:acc=0.7700, nmi=0.7226, ari=0.6679\n",
      "INFO:scDualGN.run:Epoch 6/30, Loss - overall: 13888.6123,daul_VAE:13888.5879,KL:0.0177,Center:69.3716\n",
      "INFO:scDualGN.run:Epoch 7/30, Loss - overall: 13879.5214,daul_VAE:13879.4969,KL:0.0175,Center:69.2731\n",
      "INFO:scDualGN.run:Epoch 8/30, Loss - overall: 13869.6836,daul_VAE:13869.6593,KL:0.0174,Center:68.9846\n"
     ]
    }
   ],
   "source": [
    "#kmeans\n",
    "start = time.time()\n",
    "z_final, y_pred_lab, model = scDualGN.run_scDualGN(adata, n_cluster=8,n_z=32,n_epoch_update_pq=5, n_epochs=30,beta_daulvae=10,gamma_dualvae=4,GPU_id=1)\n",
    "end = time.time()\n",
    "\n",
    "print('running time = {}'.format(end-start))"
   ]
  },
  {
   "cell_type": "code",
   "execution_count": 6,
   "metadata": {},
   "outputs": [
    {
     "name": "stderr",
     "output_type": "stream",
     "text": [
      "INFO:scDualGN.run:device: cuda:2\n",
      "INFO:scDualGN.run:pretrain device: cuda:2\n",
      "INFO:scDualGN.run:start pretraining...\n",
      "INFO:scDualGN.run:Epoch 0/50,Overall loss:16661.7837,MSE:1634.7912,MSE1:78.3318,KL: 54.4616\n",
      "INFO:scDualGN.run:Epoch 1/50,Overall loss:15400.7522,MSE:1538.9527,MSE1:2.5083,KL: 119.1711\n",
      "INFO:scDualGN.run:Epoch 2/50,Overall loss:15300.9876,MSE:1529.2079,MSE1:1.8877,KL: 135.8102\n",
      "INFO:scDualGN.run:Epoch 3/50,Overall loss:15229.1063,MSE:1522.0935,MSE1:1.6949,KL: 139.2111\n",
      "INFO:scDualGN.run:Epoch 4/50,Overall loss:15162.1329,MSE:1515.4911,MSE1:1.4372,KL: 147.3379\n",
      "INFO:scDualGN.run:Epoch 5/50,Overall loss:15099.7342,MSE:1509.3171,MSE1:1.2611,KL: 151.8857\n",
      "INFO:scDualGN.run:Epoch 6/50,Overall loss:15038.0339,MSE:1503.1942,MSE1:1.1323,KL: 156.2815\n",
      "INFO:scDualGN.run:Epoch 7/50,Overall loss:14975.7000,MSE:1497.0082,MSE1:0.9979,KL: 162.6222\n",
      "INFO:scDualGN.run:Epoch 8/50,Overall loss:14911.3404,MSE:1490.6234,MSE1:0.8493,KL: 170.8835\n",
      "INFO:scDualGN.run:Epoch 9/50,Overall loss:14847.7488,MSE:1484.3109,MSE1:0.7093,KL: 180.2425\n",
      "INFO:scDualGN.run:Epoch 10/50,Overall loss:14785.2135,MSE:1478.0929,MSE1:0.5973,KL: 189.5038\n",
      "INFO:scDualGN.run:Epoch 11/50,Overall loss:14728.6933,MSE:1472.4725,MSE1:0.4933,KL: 199.4709\n",
      "INFO:scDualGN.run:Epoch 12/50,Overall loss:14674.2313,MSE:1467.0492,MSE1:0.4128,KL: 208.8546\n",
      "INFO:scDualGN.run:Epoch 13/50,Overall loss:14624.5138,MSE:1462.0945,MSE1:0.3476,KL: 217.8502\n",
      "INFO:scDualGN.run:Epoch 14/50,Overall loss:14581.4001,MSE:1457.7963,MSE1:0.2925,KL: 226.6765\n",
      "INFO:scDualGN.run:Epoch 15/50,Overall loss:14544.7191,MSE:1454.1374,MSE1:0.2499,KL: 234.5054\n",
      "INFO:scDualGN.run:Epoch 16/50,Overall loss:14510.4013,MSE:1450.7130,MSE1:0.2153,KL: 240.9515\n",
      "INFO:scDualGN.run:Epoch 17/50,Overall loss:14479.2391,MSE:1447.6016,MSE1:0.1881,KL: 247.0489\n",
      "INFO:scDualGN.run:Epoch 18/50,Overall loss:14450.0860,MSE:1444.6898,MSE1:0.1660,KL: 252.4155\n",
      "INFO:scDualGN.run:Epoch 19/50,Overall loss:14423.8483,MSE:1442.0681,MSE1:0.1488,KL: 257.2375\n",
      "INFO:scDualGN.run:Epoch 20/50,Overall loss:14398.4722,MSE:1439.5323,MSE1:0.1329,KL: 261.7620\n",
      "INFO:scDualGN.run:Epoch 21/50,Overall loss:14374.3586,MSE:1437.1217,MSE1:0.1206,KL: 265.8847\n",
      "INFO:scDualGN.run:Epoch 22/50,Overall loss:14350.5654,MSE:1434.7433,MSE1:0.1090,KL: 269.6590\n",
      "INFO:scDualGN.run:Epoch 23/50,Overall loss:14328.6925,MSE:1432.5559,MSE1:0.1002,KL: 273.2986\n",
      "INFO:scDualGN.run:Epoch 24/50,Overall loss:14309.4500,MSE:1430.6316,MSE1:0.0916,KL: 276.7368\n",
      "INFO:scDualGN.run:Epoch 25/50,Overall loss:14289.6554,MSE:1428.6517,MSE1:0.0849,KL: 279.8902\n",
      "INFO:scDualGN.run:Epoch 26/50,Overall loss:14270.4380,MSE:1426.7295,MSE1:0.0786,KL: 282.9070\n",
      "INFO:scDualGN.run:Epoch 27/50,Overall loss:14251.7821,MSE:1424.8631,MSE1:0.0731,KL: 285.8547\n",
      "INFO:scDualGN.run:Epoch 28/50,Overall loss:14233.5483,MSE:1423.0389,MSE1:0.0684,KL: 288.5661\n",
      "INFO:scDualGN.run:Epoch 29/50,Overall loss:14216.0173,MSE:1421.2850,MSE1:0.0643,KL: 290.9804\n",
      "INFO:scDualGN.run:Epoch 30/50,Overall loss:14200.7693,MSE:1419.7593,MSE1:0.0605,KL: 293.4616\n",
      "INFO:scDualGN.run:Epoch 31/50,Overall loss:14184.4990,MSE:1418.1314,MSE1:0.0575,KL: 295.5194\n",
      "INFO:scDualGN.run:Epoch 32/50,Overall loss:14170.0507,MSE:1416.6857,MSE1:0.0546,KL: 297.5152\n",
      "INFO:scDualGN.run:Epoch 33/50,Overall loss:14153.5947,MSE:1415.0390,MSE1:0.0523,KL: 299.5703\n",
      "INFO:scDualGN.run:Epoch 34/50,Overall loss:14139.9363,MSE:1413.6722,MSE1:0.0502,KL: 301.4004\n",
      "INFO:scDualGN.run:Epoch 35/50,Overall loss:14126.6895,MSE:1412.3466,MSE1:0.0479,KL: 303.2329\n",
      "INFO:scDualGN.run:Epoch 36/50,Overall loss:14112.8251,MSE:1410.9592,MSE1:0.0459,KL: 304.9218\n",
      "INFO:scDualGN.run:Epoch 37/50,Overall loss:14099.9266,MSE:1409.6686,MSE1:0.0440,KL: 306.4090\n",
      "INFO:scDualGN.run:Epoch 38/50,Overall loss:14086.1594,MSE:1408.2909,MSE1:0.0430,KL: 307.8159\n",
      "INFO:scDualGN.run:Epoch 39/50,Overall loss:14075.9870,MSE:1407.2728,MSE1:0.0417,KL: 309.1864\n",
      "INFO:scDualGN.run:Epoch 40/50,Overall loss:14063.0838,MSE:1405.9817,MSE1:0.0404,KL: 310.5023\n",
      "INFO:scDualGN.run:Epoch 41/50,Overall loss:14050.3952,MSE:1404.7123,MSE1:0.0392,KL: 311.5534\n",
      "INFO:scDualGN.run:Epoch 42/50,Overall loss:14040.6659,MSE:1403.7387,MSE1:0.0382,KL: 312.6658\n",
      "INFO:scDualGN.run:Epoch 43/50,Overall loss:14026.5008,MSE:1402.3214,MSE1:0.0375,KL: 313.7110\n",
      "INFO:scDualGN.run:Epoch 44/50,Overall loss:14018.0177,MSE:1401.4724,MSE1:0.0368,KL: 314.6108\n",
      "INFO:scDualGN.run:Epoch 45/50,Overall loss:14007.2304,MSE:1400.3930,MSE1:0.0359,KL: 315.6480\n",
      "INFO:scDualGN.run:Epoch 46/50,Overall loss:13997.0769,MSE:1399.3771,MSE1:0.0351,KL: 316.5613\n",
      "INFO:scDualGN.run:Epoch 47/50,Overall loss:13985.1676,MSE:1398.1854,MSE1:0.0347,KL: 317.4492\n",
      "INFO:scDualGN.run:Epoch 48/50,Overall loss:13976.3559,MSE:1397.3038,MSE1:0.0339,KL: 318.2697\n",
      "INFO:scDualGN.run:Epoch 49/50,Overall loss:13966.9549,MSE:1396.3631,MSE1:0.0336,KL: 318.9980\n",
      "INFO:scDualGN.run:dual-VAE pretrain finished!\n",
      "INFO:scDualGN.run:obtain daul-VAE z-vector and x_bar\n",
      "INFO:scDualGN.run:perform leiden to cluster....\n",
      "INFO:scDualGN.run:training scDualGN...\n",
      "INFO:scDualGN.run:epoch 1/30\n",
      "INFO:scDualGN.evalution:acc=0.6950, nmi=0.7016, ari=0.5617\n",
      "INFO:scDualGN.run:Epoch 1/30, Loss - overall: 14076.0151,daul_VAE:14075.9896,KL:0.0178,Center:81.0423\n",
      "INFO:scDualGN.run:Epoch 2/30, Loss - overall: 13960.2354,daul_VAE:13960.2100,KL:0.0176,Center:80.4344\n",
      "INFO:scDualGN.run:Epoch 3/30, Loss - overall: 13910.7908,daul_VAE:13910.7664,KL:0.0168,Center:79.5024\n",
      "INFO:scDualGN.run:Epoch 4/30, Loss - overall: 13908.6527,daul_VAE:13908.6284,KL:0.0163,Center:79.1398\n",
      "INFO:scDualGN.run:Epoch 5/30, Loss - overall: 13908.6936,daul_VAE:13908.6699,KL:0.0161,Center:78.8348\n",
      "INFO:scDualGN.run:epoch 6/30\n",
      "INFO:scDualGN.evalution:acc=0.7057, nmi=0.7029, ari=0.5768\n",
      "INFO:scDualGN.run:Epoch 6/30, Loss - overall: 13898.0068,daul_VAE:13897.9825,KL:0.0162,Center:79.0008\n",
      "INFO:scDualGN.run:Epoch 7/30, Loss - overall: 13884.2325,daul_VAE:13884.2085,KL:0.0161,Center:79.0468\n",
      "INFO:scDualGN.run:Epoch 8/30, Loss - overall: 13874.5697,daul_VAE:13874.5463,KL:0.0160,Center:78.9665\n",
      "INFO:scDualGN.run:Epoch 9/30, Loss - overall: 13875.7542,daul_VAE:13875.7307,KL:0.0158,Center:78.6857\n",
      "INFO:scDualGN.run:Epoch 10/30, Loss - overall: 13864.4917,daul_VAE:13864.4683,KL:0.0158,Center:78.5426\n",
      "INFO:scDualGN.run:epoch 11/30\n",
      "INFO:scDualGN.evalution:acc=0.7166, nmi=0.7049, ari=0.5934\n",
      "INFO:scDualGN.run:Epoch 11/30, Loss - overall: 13863.7690,daul_VAE:13863.7446,KL:0.0167,Center:78.6427\n",
      "INFO:scDualGN.run:Epoch 12/30, Loss - overall: 13869.8885,daul_VAE:13869.8641,KL:0.0166,Center:78.4819\n",
      "INFO:scDualGN.run:Epoch 13/30, Loss - overall: 13850.6416,daul_VAE:13850.6172,KL:0.0165,Center:78.2824\n",
      "INFO:scDualGN.run:Epoch 14/30, Loss - overall: 13856.1815,daul_VAE:13856.1571,KL:0.0164,Center:78.1566\n",
      "INFO:scDualGN.run:Epoch 15/30, Loss - overall: 13850.8156,daul_VAE:13850.7913,KL:0.0163,Center:77.9138\n",
      "INFO:scDualGN.run:epoch 16/30\n",
      "INFO:scDualGN.evalution:acc=0.7247, nmi=0.7084, ari=0.6075\n",
      "INFO:scDualGN.run:Epoch 16/30, Loss - overall: 13834.7932,daul_VAE:13834.7688,KL:0.0167,Center:77.9595\n",
      "INFO:scDualGN.run:Epoch 17/30, Loss - overall: 13860.6125,daul_VAE:13860.5881,KL:0.0167,Center:77.9068\n",
      "INFO:scDualGN.run:Epoch 18/30, Loss - overall: 13826.5477,daul_VAE:13826.5234,KL:0.0166,Center:77.6703\n",
      "INFO:scDualGN.run:Epoch 19/30, Loss - overall: 13817.8146,daul_VAE:13817.7902,KL:0.0166,Center:77.6039\n",
      "INFO:scDualGN.run:Epoch 20/30, Loss - overall: 13832.1888,daul_VAE:13832.1644,KL:0.0165,Center:77.5150\n",
      "INFO:scDualGN.run:epoch 21/30\n",
      "INFO:scDualGN.evalution:acc=0.7285, nmi=0.7081, ari=0.6146\n",
      "INFO:scDualGN.run:Epoch 21/30, Loss - overall: 13846.0337,daul_VAE:13846.0087,KL:0.0171,Center:77.5081\n",
      "INFO:scDualGN.run:Epoch 22/30, Loss - overall: 13849.6260,daul_VAE:13849.6010,KL:0.0171,Center:77.1440\n",
      "INFO:scDualGN.run:Epoch 23/30, Loss - overall: 13818.5991,daul_VAE:13818.5745,KL:0.0170,Center:77.0773\n",
      "INFO:scDualGN.run:Epoch 24/30, Loss - overall: 13828.7716,daul_VAE:13828.7471,KL:0.0170,Center:76.9699\n",
      "INFO:scDualGN.run:Epoch 25/30, Loss - overall: 13828.4047,daul_VAE:13828.3802,KL:0.0169,Center:76.8492\n",
      "INFO:scDualGN.run:epoch 26/30\n",
      "INFO:scDualGN.evalution:acc=0.7295, nmi=0.7069, ari=0.6163\n",
      "INFO:scDualGN.run:Epoch 26/30, Loss - overall: 13806.6692,daul_VAE:13806.6438,KL:0.0173,Center:76.7973\n",
      "INFO:scDualGN.run:Epoch 27/30, Loss - overall: 13812.0070,daul_VAE:13811.9817,KL:0.0173,Center:76.6332\n"
     ]
    },
    {
     "name": "stderr",
     "output_type": "stream",
     "text": [
      "INFO:scDualGN.run:Epoch 28/30, Loss - overall: 13831.3253,daul_VAE:13831.3000,KL:0.0173,Center:76.6598\n",
      "INFO:scDualGN.run:Epoch 29/30, Loss - overall: 13792.0892,daul_VAE:13792.0642,KL:0.0172,Center:76.3561\n",
      "INFO:scDualGN.run:Epoch 30/30, Loss - overall: 13819.0430,daul_VAE:13819.0177,KL:0.0172,Center:76.3791\n",
      "INFO:scDualGN.run:scDualGN train finished.\n",
      "INFO:scDualGN.evalution:acc=0.7317, nmi=0.7040, ari=0.6196\n"
     ]
    },
    {
     "name": "stdout",
     "output_type": "stream",
     "text": [
      "running time = 211.85083961486816\n"
     ]
    }
   ],
   "source": [
    "#leiden\n",
    "start = time.time()\n",
    "z_final, y_pred_lab, model = scDualGN.run_scDualGN(adata,n_z=32,n_epoch_update_pq=5, n_epochs=30,beta_daulvae=10,gamma_dualvae=4,cluster_alg='leiden',GPU_id=2,n_neighbors=50)\n",
    "end = time.time()\n",
    "\n",
    "print('running time = {}'.format(end-start))"
   ]
  },
  {
   "cell_type": "code",
   "execution_count": null,
   "metadata": {},
   "outputs": [],
   "source": []
  }
 ],
 "metadata": {
  "kernelspec": {
   "display_name": "pytorch1.6",
   "language": "python",
   "name": "pytorch1.6"
  },
  "language_info": {
   "codemirror_mode": {
    "name": "ipython",
    "version": 3
   },
   "file_extension": ".py",
   "mimetype": "text/x-python",
   "name": "python",
   "nbconvert_exporter": "python",
   "pygments_lexer": "ipython3",
   "version": "3.6.13"
  }
 },
 "nbformat": 4,
 "nbformat_minor": 4
}
