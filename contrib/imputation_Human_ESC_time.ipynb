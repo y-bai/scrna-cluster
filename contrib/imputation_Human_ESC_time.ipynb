{
 "cells": [
  {
   "cell_type": "code",
   "execution_count": 1,
   "metadata": {},
   "outputs": [],
   "source": [
    "import os\n",
    "import numpy as np\n",
    "import pandas as pd\n",
    "import random\n",
    "import time\n",
    "import scanpy as sc\n",
    "import torch\n",
    "\n",
    "import warnings\n",
    "warnings.filterwarnings('ignore')\n",
    "import logging\n",
    "logging.basicConfig(level=logging.INFO)\n",
    "import scDualGN\n",
    "\n",
    "def seed_torch(seed=666):\n",
    "    random.seed(seed)\n",
    "    os.environ['PYTHONHASHSEED'] = str(seed)\n",
    "    np.random.seed(seed)\n",
    "    torch.manual_seed(seed)\n",
    "    torch.cuda.manual_seed(seed)\n",
    "    torch.cuda.manual_seed_all(seed) # if you are using multi-GPU.\n",
    "    torch.backends.cudnn.benchmark = False\n",
    "    torch.backends.cudnn.deterministic = True\n",
    "    torch.backends.cudnn.enabled = False\n",
    "seed_torch()\n",
    "\n",
    "sc.settings.verbosity = 3\n",
    "sc.settings.set_figure_params(dpi=100)\n",
    "sc.settings.set_figure_params(dpi_save=300)"
   ]
  },
  {
   "cell_type": "code",
   "execution_count": 3,
   "metadata": {},
   "outputs": [],
   "source": [
    "#adata = sc.read_h5ad('./imputation_data/Human_ESC_Raw_celltype.h5ad')\n",
    "adata = sc.read_h5ad('./Human_ESC_Raw_time.h5ad')\n",
    "adata.obs['celltype'] = 0\n",
    "adata.obs['celltype_str'] = adata.obs['celltype']"
   ]
  },
  {
   "cell_type": "code",
   "execution_count": 4,
   "metadata": {},
   "outputs": [
    {
     "data": {
      "text/plain": [
       "AnnData object with n_obs × n_vars = 350 × 19097\n",
       "    obs: 'celltype', 'celltype_str'\n",
       "    layers: 'raw'"
      ]
     },
     "execution_count": 4,
     "metadata": {},
     "output_type": "execute_result"
    }
   ],
   "source": [
    "adata"
   ]
  },
  {
   "cell_type": "code",
   "execution_count": 5,
   "metadata": {},
   "outputs": [
    {
     "name": "stderr",
     "output_type": "stream",
     "text": [
      "normalizing counts per cell\n",
      "    finished (0:00:00)\n"
     ]
    }
   ],
   "source": [
    "sc.pp.normalize_total(adata)"
   ]
  },
  {
   "cell_type": "code",
   "execution_count": 6,
   "metadata": {},
   "outputs": [
    {
     "data": {
      "text/plain": [
       "AnnData object with n_obs × n_vars = 350 × 19097\n",
       "    obs: 'celltype', 'celltype_str'\n",
       "    layers: 'raw'"
      ]
     },
     "execution_count": 6,
     "metadata": {},
     "output_type": "execute_result"
    }
   ],
   "source": [
    "adata"
   ]
  },
  {
   "cell_type": "code",
   "execution_count": 7,
   "metadata": {},
   "outputs": [
    {
     "name": "stderr",
     "output_type": "stream",
     "text": [
      "INFO:scDualGN.run:device: cuda:2\n"
     ]
    },
    {
     "name": "stdout",
     "output_type": "stream",
     "text": [
      "0.001\n"
     ]
    },
    {
     "name": "stderr",
     "output_type": "stream",
     "text": [
      "INFO:scDualGN.run:pretrain device: cuda:2\n",
      "INFO:scDualGN.run:start pretraining...\n",
      "INFO:scDualGN.run:Epoch 0/100,Overall loss:31114209280.0000,MSE:31114190848.0000,MSE1:3995.6558,KL: 7.6262\n",
      "INFO:scDualGN.run:Epoch 1/100,Overall loss:31112849408.0000,MSE:31112835072.0000,MSE1:3403.7986,KL: 14.2155\n",
      "INFO:scDualGN.run:Epoch 2/100,Overall loss:31111514112.0000,MSE:31111501824.0000,MSE1:3170.6843,KL: 17.0040\n",
      "INFO:scDualGN.run:Epoch 3/100,Overall loss:31110207488.0000,MSE:31110195200.0000,MSE1:3281.3496,KL: 18.2192\n",
      "INFO:scDualGN.run:Epoch 4/100,Overall loss:31108855808.0000,MSE:31108847616.0000,MSE1:3219.0671,KL: 19.3535\n",
      "INFO:scDualGN.run:Epoch 5/100,Overall loss:31107526656.0000,MSE:31107510272.0000,MSE1:3493.4243,KL: 20.5216\n",
      "INFO:scDualGN.run:Epoch 6/100,Overall loss:31106187264.0000,MSE:31106174976.0000,MSE1:3481.7114,KL: 22.1578\n",
      "INFO:scDualGN.run:Epoch 7/100,Overall loss:31104786432.0000,MSE:31104772096.0000,MSE1:3493.4561,KL: 24.1059\n",
      "INFO:scDualGN.run:Epoch 8/100,Overall loss:31103404032.0000,MSE:31103391744.0000,MSE1:3582.6863,KL: 26.3885\n",
      "INFO:scDualGN.run:Epoch 9/100,Overall loss:31101943808.0000,MSE:31101929472.0000,MSE1:3364.5696,KL: 28.7880\n",
      "INFO:scDualGN.run:Epoch 10/100,Overall loss:31100473344.0000,MSE:31100461056.0000,MSE1:3319.6333,KL: 31.3310\n",
      "INFO:scDualGN.run:Epoch 11/100,Overall loss:31098947584.0000,MSE:31098935296.0000,MSE1:2951.9475,KL: 34.2579\n",
      "INFO:scDualGN.run:Epoch 12/100,Overall loss:31097407488.0000,MSE:31097399296.0000,MSE1:3120.7539,KL: 37.5549\n",
      "INFO:scDualGN.run:Epoch 13/100,Overall loss:31095736320.0000,MSE:31095724032.0000,MSE1:2961.5493,KL: 41.1892\n",
      "INFO:scDualGN.run:Epoch 14/100,Overall loss:31094040576.0000,MSE:31094032384.0000,MSE1:2827.1882,KL: 45.2979\n",
      "INFO:scDualGN.run:Epoch 15/100,Overall loss:31092318208.0000,MSE:31092310016.0000,MSE1:2693.5945,KL: 49.9294\n",
      "INFO:scDualGN.run:Epoch 16/100,Overall loss:31090479104.0000,MSE:31090466816.0000,MSE1:2595.5281,KL: 55.1280\n",
      "INFO:scDualGN.run:Epoch 17/100,Overall loss:31088640000.0000,MSE:31088629760.0000,MSE1:2494.4028,KL: 60.8459\n",
      "INFO:scDualGN.run:Epoch 18/100,Overall loss:31086727168.0000,MSE:31086718976.0000,MSE1:2181.3179,KL: 67.1134\n",
      "INFO:scDualGN.run:Epoch 19/100,Overall loss:31084853248.0000,MSE:31084843008.0000,MSE1:2187.5134,KL: 73.9062\n",
      "INFO:scDualGN.run:Epoch 20/100,Overall loss:31082913792.0000,MSE:31082905600.0000,MSE1:2096.9854,KL: 81.2159\n",
      "INFO:scDualGN.run:Epoch 21/100,Overall loss:31080931328.0000,MSE:31080925184.0000,MSE1:1776.7637,KL: 88.9225\n",
      "INFO:scDualGN.run:Epoch 22/100,Overall loss:31078995968.0000,MSE:31078983680.0000,MSE1:1840.8568,KL: 96.8743\n",
      "INFO:scDualGN.run:Epoch 23/100,Overall loss:31076988928.0000,MSE:31076976640.0000,MSE1:1743.3250,KL: 105.1081\n",
      "INFO:scDualGN.run:Epoch 24/100,Overall loss:31074992128.0000,MSE:31074983936.0000,MSE1:1526.6454,KL: 113.4659\n",
      "INFO:scDualGN.run:Epoch 25/100,Overall loss:31073024000.0000,MSE:31073021952.0000,MSE1:1470.8960,KL: 121.8860\n",
      "INFO:scDualGN.run:Epoch 26/100,Overall loss:31071059968.0000,MSE:31071055872.0000,MSE1:1539.9711,KL: 130.3741\n",
      "INFO:scDualGN.run:Epoch 27/100,Overall loss:31069106176.0000,MSE:31069095936.0000,MSE1:1481.0948,KL: 138.8800\n",
      "INFO:scDualGN.run:Epoch 28/100,Overall loss:31067113472.0000,MSE:31067113472.0000,MSE1:1064.4706,KL: 147.4125\n",
      "INFO:scDualGN.run:Epoch 29/100,Overall loss:31065190400.0000,MSE:31065184256.0000,MSE1:1137.7208,KL: 155.8416\n",
      "INFO:scDualGN.run:Epoch 30/100,Overall loss:31063261184.0000,MSE:31063257088.0000,MSE1:1220.1799,KL: 164.1862\n",
      "INFO:scDualGN.run:Epoch 31/100,Overall loss:31061315584.0000,MSE:31061313536.0000,MSE1:1177.9684,KL: 172.4075\n",
      "INFO:scDualGN.run:Epoch 32/100,Overall loss:31059363840.0000,MSE:31059359744.0000,MSE1:1128.3817,KL: 180.4431\n",
      "INFO:scDualGN.run:Epoch 33/100,Overall loss:31057389568.0000,MSE:31057385472.0000,MSE1:904.9667,KL: 188.2648\n",
      "INFO:scDualGN.run:Epoch 34/100,Overall loss:31055443968.0000,MSE:31055441920.0000,MSE1:1018.1870,KL: 195.7996\n",
      "INFO:scDualGN.run:Epoch 35/100,Overall loss:31053469696.0000,MSE:31053463552.0000,MSE1:1017.0670,KL: 203.0579\n",
      "INFO:scDualGN.run:Epoch 36/100,Overall loss:31051481088.0000,MSE:31051474944.0000,MSE1:982.2886,KL: 210.0492\n",
      "INFO:scDualGN.run:Epoch 37/100,Overall loss:31049488384.0000,MSE:31049486336.0000,MSE1:979.8064,KL: 216.7712\n",
      "INFO:scDualGN.run:Epoch 38/100,Overall loss:31047481344.0000,MSE:31047477248.0000,MSE1:889.6516,KL: 223.2213\n",
      "INFO:scDualGN.run:Epoch 39/100,Overall loss:31045468160.0000,MSE:31045462016.0000,MSE1:992.7239,KL: 229.3866\n",
      "INFO:scDualGN.run:Epoch 40/100,Overall loss:31043450880.0000,MSE:31043444736.0000,MSE1:1028.9216,KL: 235.3113\n",
      "INFO:scDualGN.run:Epoch 41/100,Overall loss:31041402880.0000,MSE:31041402880.0000,MSE1:1060.2675,KL: 241.0019\n",
      "INFO:scDualGN.run:Epoch 42/100,Overall loss:31039352832.0000,MSE:31039350784.0000,MSE1:842.7322,KL: 246.4482\n",
      "INFO:scDualGN.run:Epoch 43/100,Overall loss:31037294592.0000,MSE:31037294592.0000,MSE1:934.7959,KL: 251.6389\n",
      "INFO:scDualGN.run:Epoch 44/100,Overall loss:31035228160.0000,MSE:31035224064.0000,MSE1:920.1255,KL: 256.6088\n",
      "INFO:scDualGN.run:Epoch 45/100,Overall loss:31033145344.0000,MSE:31033139200.0000,MSE1:871.7905,KL: 261.3765\n",
      "INFO:scDualGN.run:Epoch 46/100,Overall loss:31031058432.0000,MSE:31031054336.0000,MSE1:929.7051,KL: 265.9403\n",
      "INFO:scDualGN.run:Epoch 47/100,Overall loss:31028961280.0000,MSE:31028955136.0000,MSE1:999.9638,KL: 270.3276\n",
      "INFO:scDualGN.run:Epoch 48/100,Overall loss:31026841600.0000,MSE:31026841600.0000,MSE1:934.1501,KL: 274.5405\n",
      "INFO:scDualGN.run:Epoch 49/100,Overall loss:31024728064.0000,MSE:31024721920.0000,MSE1:980.8094,KL: 278.5880\n",
      "INFO:scDualGN.run:Epoch 50/100,Overall loss:31022587904.0000,MSE:31022587904.0000,MSE1:947.1470,KL: 282.4843\n",
      "INFO:scDualGN.run:Epoch 51/100,Overall loss:31020443648.0000,MSE:31020437504.0000,MSE1:927.3936,KL: 286.2068\n",
      "INFO:scDualGN.run:Epoch 52/100,Overall loss:31018291200.0000,MSE:31018285056.0000,MSE1:1003.5348,KL: 289.7911\n",
      "INFO:scDualGN.run:Epoch 53/100,Overall loss:31016122368.0000,MSE:31016116224.0000,MSE1:898.9074,KL: 293.2573\n",
      "INFO:scDualGN.run:Epoch 54/100,Overall loss:31013945344.0000,MSE:31013941248.0000,MSE1:951.7573,KL: 296.6417\n",
      "INFO:scDualGN.run:Epoch 55/100,Overall loss:31011766272.0000,MSE:31011760128.0000,MSE1:1030.2689,KL: 299.9241\n",
      "INFO:scDualGN.run:Epoch 56/100,Overall loss:31009556480.0000,MSE:31009552384.0000,MSE1:1005.4059,KL: 303.1090\n",
      "INFO:scDualGN.run:Epoch 57/100,Overall loss:31007344640.0000,MSE:31007344640.0000,MSE1:911.0157,KL: 306.1964\n",
      "INFO:scDualGN.run:Epoch 58/100,Overall loss:31005130752.0000,MSE:31005128704.0000,MSE1:996.6071,KL: 309.2101\n",
      "INFO:scDualGN.run:Epoch 59/100,Overall loss:31002898432.0000,MSE:31002896384.0000,MSE1:1074.2551,KL: 312.1760\n",
      "INFO:scDualGN.run:Epoch 60/100,Overall loss:31000651776.0000,MSE:31000651776.0000,MSE1:972.7660,KL: 315.0537\n",
      "INFO:scDualGN.run:Epoch 61/100,Overall loss:30998392832.0000,MSE:30998390784.0000,MSE1:1060.5370,KL: 317.8528\n",
      "INFO:scDualGN.run:Epoch 62/100,Overall loss:30996133888.0000,MSE:30996127744.0000,MSE1:917.6080,KL: 320.5944\n",
      "INFO:scDualGN.run:Epoch 63/100,Overall loss:30993862656.0000,MSE:30993856512.0000,MSE1:1083.8464,KL: 323.3153\n",
      "INFO:scDualGN.run:Epoch 64/100,Overall loss:30991562752.0000,MSE:30991556608.0000,MSE1:956.3297,KL: 326.0281\n",
      "INFO:scDualGN.run:Epoch 65/100,Overall loss:30989273088.0000,MSE:30989271040.0000,MSE1:1072.6439,KL: 328.6531\n",
      "INFO:scDualGN.run:Epoch 66/100,Overall loss:30986954752.0000,MSE:30986948608.0000,MSE1:1129.2579,KL: 331.2159\n",
      "INFO:scDualGN.run:Epoch 67/100,Overall loss:30984638464.0000,MSE:30984636416.0000,MSE1:1094.7085,KL: 333.7418\n",
      "INFO:scDualGN.run:Epoch 68/100,Overall loss:30982301696.0000,MSE:30982299648.0000,MSE1:1092.4828,KL: 336.2758\n",
      "INFO:scDualGN.run:Epoch 69/100,Overall loss:30979956736.0000,MSE:30979950592.0000,MSE1:1086.1193,KL: 338.8069\n",
      "INFO:scDualGN.run:Epoch 70/100,Overall loss:30977601536.0000,MSE:30977595392.0000,MSE1:1058.1212,KL: 341.2967\n",
      "INFO:scDualGN.run:Epoch 71/100,Overall loss:30975234048.0000,MSE:30975227904.0000,MSE1:1166.1091,KL: 343.7338\n",
      "INFO:scDualGN.run:Epoch 72/100,Overall loss:30972850176.0000,MSE:30972844032.0000,MSE1:1064.6068,KL: 346.1512\n",
      "INFO:scDualGN.run:Epoch 73/100,Overall loss:30970464256.0000,MSE:30970458112.0000,MSE1:1113.2158,KL: 348.5600\n",
      "INFO:scDualGN.run:Epoch 74/100,Overall loss:30968055808.0000,MSE:30968049664.0000,MSE1:1103.7178,KL: 350.9845\n",
      "INFO:scDualGN.run:Epoch 75/100,Overall loss:30965653504.0000,MSE:30965647360.0000,MSE1:1208.6064,KL: 353.3787\n",
      "INFO:scDualGN.run:Epoch 76/100,Overall loss:30963220480.0000,MSE:30963214336.0000,MSE1:1291.5255,KL: 355.7559\n",
      "INFO:scDualGN.run:Epoch 77/100,Overall loss:30960781312.0000,MSE:30960775168.0000,MSE1:1034.9542,KL: 358.1199\n",
      "INFO:scDualGN.run:Epoch 78/100,Overall loss:30958340096.0000,MSE:30958338048.0000,MSE1:1363.9006,KL: 360.5219\n",
      "INFO:scDualGN.run:Epoch 79/100,Overall loss:30955874304.0000,MSE:30955868160.0000,MSE1:1177.5741,KL: 362.9766\n",
      "INFO:scDualGN.run:Epoch 80/100,Overall loss:30953402368.0000,MSE:30953400320.0000,MSE1:1088.8126,KL: 365.3769\n",
      "INFO:scDualGN.run:Epoch 81/100,Overall loss:30950922240.0000,MSE:30950916096.0000,MSE1:1139.3695,KL: 367.7299\n",
      "INFO:scDualGN.run:Epoch 82/100,Overall loss:30948429824.0000,MSE:30948423680.0000,MSE1:1151.2524,KL: 370.0727\n",
      "INFO:scDualGN.run:Epoch 83/100,Overall loss:30945923072.0000,MSE:30945916928.0000,MSE1:1127.3223,KL: 372.4531\n",
      "INFO:scDualGN.run:Epoch 84/100,Overall loss:30943406080.0000,MSE:30943399936.0000,MSE1:1208.5945,KL: 374.8384\n",
      "INFO:scDualGN.run:Epoch 85/100,Overall loss:30940870656.0000,MSE:30940868608.0000,MSE1:1081.7061,KL: 377.1960\n",
      "INFO:scDualGN.run:Epoch 86/100,Overall loss:30938331136.0000,MSE:30938324992.0000,MSE1:1057.8569,KL: 379.5058\n",
      "INFO:scDualGN.run:Epoch 87/100,Overall loss:30935789568.0000,MSE:30935781376.0000,MSE1:1312.1962,KL: 381.7899\n",
      "INFO:scDualGN.run:Epoch 88/100,Overall loss:30933219328.0000,MSE:30933213184.0000,MSE1:1270.7307,KL: 384.1230\n",
      "INFO:scDualGN.run:Epoch 89/100,Overall loss:30930651136.0000,MSE:30930644992.0000,MSE1:1169.7175,KL: 386.4633\n",
      "INFO:scDualGN.run:Epoch 90/100,Overall loss:30928060416.0000,MSE:30928054272.0000,MSE1:1093.3634,KL: 388.8088\n",
      "INFO:scDualGN.run:Epoch 91/100,Overall loss:30925459456.0000,MSE:30925457408.0000,MSE1:1080.4291,KL: 391.1358\n",
      "INFO:scDualGN.run:Epoch 92/100,Overall loss:30922854400.0000,MSE:30922848256.0000,MSE1:1169.5332,KL: 393.4694\n",
      "INFO:scDualGN.run:Epoch 93/100,Overall loss:30920228864.0000,MSE:30920222720.0000,MSE1:1084.8209,KL: 395.8147\n",
      "INFO:scDualGN.run:Epoch 94/100,Overall loss:30917599232.0000,MSE:30917593088.0000,MSE1:1145.1650,KL: 398.1136\n",
      "INFO:scDualGN.run:Epoch 95/100,Overall loss:30914953216.0000,MSE:30914947072.0000,MSE1:1173.7739,KL: 400.3943\n",
      "INFO:scDualGN.run:Epoch 96/100,Overall loss:30912294912.0000,MSE:30912288768.0000,MSE1:1016.5771,KL: 402.6700\n",
      "INFO:scDualGN.run:Epoch 97/100,Overall loss:30909634560.0000,MSE:30909632512.0000,MSE1:1335.2825,KL: 404.9312\n",
      "INFO:scDualGN.run:Epoch 98/100,Overall loss:30906957824.0000,MSE:30906951680.0000,MSE1:1130.9290,KL: 407.2191\n",
      "INFO:scDualGN.run:Epoch 99/100,Overall loss:30904266752.0000,MSE:30904260608.0000,MSE1:1156.1046,KL: 409.5112\n",
      "INFO:scDualGN.run:dual-VAE pretrain finished!\n",
      "INFO:scDualGN.run:obtain dual-VAE z-vector and x_bar\n",
      "INFO:scDualGN.run:perform leiden to cluster....\n",
      "computing neighbors\n",
      "    finished: added to `.uns['neighbors']`\n",
      "    `.obsp['distances']`, distances for each pair of neighbors\n",
      "    `.obsp['connectivities']`, weighted adjacency matrix (0:00:14)\n",
      "running Leiden clustering\n",
      "    finished: found 2 clusters and added\n",
      "    'leiden', the cluster labels (adata.obs, categorical) (0:00:00)\n",
      "INFO:scDualGN.run:training scDualGN...\n",
      "INFO:scDualGN.run:epoch 1/30\n",
      "INFO:scDualGN.evalution:acc=0.9886, nmi=0.9192, ari=0.9546\n"
     ]
    },
    {
     "name": "stdout",
     "output_type": "stream",
     "text": [
      "350\n"
     ]
    },
    {
     "name": "stderr",
     "output_type": "stream",
     "text": [
      "INFO:scDualGN.run:Epoch 1/30, Loss - overall: 30901563392.0000,daul_VAE:30901563392.0000,KL:0.0015,Center:386.9293\n",
      "INFO:scDualGN.run:Epoch 2/30, Loss - overall: 30899728384.0000,daul_VAE:30899728384.0000,KL:0.0020,Center:402.5963\n",
      "INFO:scDualGN.run:Epoch 3/30, Loss - overall: 30897012736.0000,daul_VAE:30897012736.0000,KL:0.0016,Center:409.6999\n",
      "INFO:scDualGN.run:Epoch 4/30, Loss - overall: 30894944256.0000,daul_VAE:30894944256.0000,KL:0.0019,Center:415.2747\n",
      "INFO:scDualGN.run:Epoch 5/30, Loss - overall: 30892609536.0000,daul_VAE:30892609536.0000,KL:0.0018,Center:422.0048\n",
      "INFO:scDualGN.run:epoch 6/30\n",
      "INFO:scDualGN.evalution:acc=0.9886, nmi=0.9192, ari=0.9546\n",
      "INFO:scDualGN.run:Epoch 6/30, Loss - overall: 30890137600.0000,daul_VAE:30890137600.0000,KL:0.0015,Center:427.8775\n",
      "INFO:scDualGN.run:Epoch 7/30, Loss - overall: 30887776256.0000,daul_VAE:30887776256.0000,KL:0.0015,Center:433.0875\n",
      "INFO:scDualGN.run:Epoch 8/30, Loss - overall: 30885517312.0000,daul_VAE:30885517312.0000,KL:0.0017,Center:439.0117\n",
      "INFO:scDualGN.run:Epoch 9/30, Loss - overall: 30883241984.0000,daul_VAE:30883241984.0000,KL:0.0018,Center:444.6753\n",
      "INFO:scDualGN.run:Epoch 10/30, Loss - overall: 30880888832.0000,daul_VAE:30880888832.0000,KL:0.0019,Center:450.2207\n",
      "INFO:scDualGN.run:epoch 11/30\n",
      "INFO:scDualGN.evalution:acc=0.9886, nmi=0.9192, ari=0.9546\n",
      "INFO:scDualGN.run:Epoch 11/30, Loss - overall: 30878494720.0000,daul_VAE:30878494720.0000,KL:0.0018,Center:456.0265\n",
      "INFO:scDualGN.run:Epoch 12/30, Loss - overall: 30876129280.0000,daul_VAE:30876129280.0000,KL:0.0018,Center:460.6044\n",
      "INFO:scDualGN.run:Epoch 13/30, Loss - overall: 30873794560.0000,daul_VAE:30873794560.0000,KL:0.0020,Center:466.7279\n",
      "INFO:scDualGN.run:Epoch 14/30, Loss - overall: 30871468032.0000,daul_VAE:30871468032.0000,KL:0.0022,Center:471.7337\n",
      "INFO:scDualGN.run:Epoch 15/30, Loss - overall: 30869112832.0000,daul_VAE:30869112832.0000,KL:0.0024,Center:477.4601\n",
      "INFO:scDualGN.run:epoch 16/30\n",
      "INFO:scDualGN.evalution:acc=0.9886, nmi=0.9192, ari=0.9546\n",
      "INFO:scDualGN.run:Epoch 16/30, Loss - overall: 30866739200.0000,daul_VAE:30866739200.0000,KL:0.0021,Center:482.2813\n",
      "INFO:scDualGN.run:Epoch 17/30, Loss - overall: 30864343040.0000,daul_VAE:30864343040.0000,KL:0.0023,Center:488.5753\n",
      "INFO:scDualGN.run:Epoch 18/30, Loss - overall: 30861957120.0000,daul_VAE:30861957120.0000,KL:0.0024,Center:493.9305\n",
      "INFO:scDualGN.run:Epoch 19/30, Loss - overall: 30859573248.0000,daul_VAE:30859573248.0000,KL:0.0026,Center:500.0245\n",
      "INFO:scDualGN.run:Epoch 20/30, Loss - overall: 30857195520.0000,daul_VAE:30857195520.0000,KL:0.0027,Center:505.6636\n",
      "INFO:scDualGN.run:epoch 21/30\n",
      "INFO:scDualGN.evalution:acc=0.9886, nmi=0.9192, ari=0.9546\n",
      "INFO:scDualGN.run:Epoch 21/30, Loss - overall: 30854803456.0000,daul_VAE:30854803456.0000,KL:0.0034,Center:510.1648\n",
      "INFO:scDualGN.run:Epoch 22/30, Loss - overall: 30852392960.0000,daul_VAE:30852392960.0000,KL:0.0036,Center:515.3976\n",
      "INFO:scDualGN.run:Epoch 23/30, Loss - overall: 30849980416.0000,daul_VAE:30849980416.0000,KL:0.0037,Center:519.9017\n",
      "INFO:scDualGN.run:Epoch 24/30, Loss - overall: 30847559680.0000,daul_VAE:30847559680.0000,KL:0.0039,Center:525.6844\n",
      "INFO:scDualGN.run:Epoch 25/30, Loss - overall: 30845140992.0000,daul_VAE:30845140992.0000,KL:0.0041,Center:529.2890\n",
      "INFO:scDualGN.run:epoch 26/30\n",
      "INFO:scDualGN.evalution:acc=0.9886, nmi=0.9192, ari=0.9546\n",
      "INFO:scDualGN.run:Epoch 26/30, Loss - overall: 30842712064.0000,daul_VAE:30842712064.0000,KL:0.0038,Center:534.7869\n",
      "INFO:scDualGN.run:Epoch 27/30, Loss - overall: 30840279040.0000,daul_VAE:30840279040.0000,KL:0.0039,Center:538.2803\n",
      "INFO:scDualGN.run:Epoch 28/30, Loss - overall: 30837835776.0000,daul_VAE:30837835776.0000,KL:0.0040,Center:542.1269\n",
      "INFO:scDualGN.run:Epoch 29/30, Loss - overall: 30835384320.0000,daul_VAE:30835384320.0000,KL:0.0042,Center:546.7029\n",
      "INFO:scDualGN.run:Epoch 30/30, Loss - overall: 30832920576.0000,daul_VAE:30832920576.0000,KL:0.0043,Center:550.9169\n",
      "INFO:scDualGN.run:scDualGN train finished.\n",
      "INFO:scDualGN.evalution:acc=0.9886, nmi=0.9192, ari=0.9546\n"
     ]
    },
    {
     "name": "stdout",
     "output_type": "stream",
     "text": [
      "running time = 34.78262400627136\n"
     ]
    }
   ],
   "source": [
    "#leiden\n",
    "start = time.time()\n",
    "z_final, y_pred_lab, model = scDualGN.run_scDualGN(adata,n_z=32,n_epoch_update_pq=5, n_epochs=30,alpha_dualvae=0.02,beta_daulvae=1,gamma_dualvae=4,cluster_alg='leiden',GPU_id=2,n_neighbors=20)\n",
    "end = time.time()\n",
    "\n",
    "print('running time = {}'.format(end-start))"
   ]
  },
  {
   "cell_type": "code",
   "execution_count": null,
   "metadata": {},
   "outputs": [],
   "source": [
    "adata.obs['celltype_scDualGN']=y_pred_lab\n",
    "adata.obsm['X_scDualGN']=z_final"
   ]
  }
 ],
 "metadata": {
  "kernelspec": {
   "display_name": "Python 3 (ipykernel)",
   "language": "python",
   "name": "python3"
  },
  "language_info": {
   "codemirror_mode": {
    "name": "ipython",
    "version": 3
   },
   "file_extension": ".py",
   "mimetype": "text/x-python",
   "name": "python",
   "nbconvert_exporter": "python",
   "pygments_lexer": "ipython3",
   "version": "3.8.13"
  }
 },
 "nbformat": 4,
 "nbformat_minor": 4
}
