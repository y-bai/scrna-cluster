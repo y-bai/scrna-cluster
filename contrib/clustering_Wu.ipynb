{
 "cells": [
  {
   "cell_type": "code",
   "execution_count": 1,
   "metadata": {},
   "outputs": [],
   "source": [
    "import os\n",
    "import numpy as np\n",
    "import pandas as pd\n",
    "import random\n",
    "import time\n",
    "import scanpy as sc\n",
    "import torch\n",
    "\n",
    "import warnings\n",
    "warnings.filterwarnings('ignore')\n",
    "import logging\n",
    "logging.basicConfig(level=logging.INFO)\n",
    "import scDualGN\n",
    "\n",
    "def seed_torch(seed=666):\n",
    "    random.seed(seed)\n",
    "    os.environ['PYTHONHASHSEED'] = str(seed)\n",
    "    np.random.seed(seed)\n",
    "    torch.manual_seed(seed)\n",
    "    torch.cuda.manual_seed(seed)\n",
    "    torch.cuda.manual_seed_all(seed) # if you are using multi-GPU.\n",
    "    torch.backends.cudnn.benchmark = False\n",
    "    torch.backends.cudnn.deterministic = True\n",
    "    torch.backends.cudnn.enabled = False\n",
    "seed_torch()"
   ]
  },
  {
   "cell_type": "code",
   "execution_count": 2,
   "metadata": {},
   "outputs": [],
   "source": [
    "adata = sc.read_h5ad('/media/bgi/zhouruilong/paper_test/cluster/our_model/scRNA-seq数据新/breast cancers/breast_cancer.h5ad')\n",
    "adata.obs['celltype_str'] = adata.obs['celltype']\n",
    "adata.obs['celltype'].cat.categories = list(range(0,9))\n",
    "adata.obs['celltype'] = adata.obs['celltype'].astype(np.int)"
   ]
  },
  {
   "cell_type": "code",
   "execution_count": 3,
   "metadata": {},
   "outputs": [
    {
     "data": {
      "text/plain": [
       "AnnData object with n_obs × n_vars = 100064 × 29733\n",
       "    obs: 'celltype', 'celltype_str'\n",
       "    var: 'gene_ids'"
      ]
     },
     "execution_count": 3,
     "metadata": {},
     "output_type": "execute_result"
    }
   ],
   "source": [
    "adata"
   ]
  },
  {
   "cell_type": "code",
   "execution_count": 4,
   "metadata": {},
   "outputs": [],
   "source": [
    "sc.pp.highly_variable_genes(adata, n_top_genes=2500)\n",
    "adata = adata[:, adata.var.highly_variable]\n",
    "sc.pp.scale(adata,max_value=10)"
   ]
  },
  {
   "cell_type": "code",
   "execution_count": 5,
   "metadata": {},
   "outputs": [
    {
     "data": {
      "text/plain": [
       "AnnData object with n_obs × n_vars = 100064 × 2500\n",
       "    obs: 'celltype', 'celltype_str'\n",
       "    var: 'gene_ids', 'highly_variable', 'means', 'dispersions', 'dispersions_norm', 'mean', 'std'\n",
       "    uns: 'hvg'"
      ]
     },
     "execution_count": 5,
     "metadata": {},
     "output_type": "execute_result"
    }
   ],
   "source": [
    "adata"
   ]
  },
  {
   "cell_type": "code",
   "execution_count": null,
   "metadata": {},
   "outputs": [
    {
     "name": "stderr",
     "output_type": "stream",
     "text": [
      "INFO:scDualGN.run:device: cuda:1\n",
      "INFO:scDualGN.run:pretrain device: cuda:1\n",
      "INFO:scDualGN.run:start pretraining...\n",
      "INFO:scDualGN.run:Epoch 0/50,Overall loss:18985.0642,MSE:939.7350,MSE1:47.2054,KL: 77.0896\n",
      "INFO:scDualGN.run:Epoch 1/50,Overall loss:16434.3275,MSE:820.8069,MSE1:3.9349,KL: 122.4608\n",
      "INFO:scDualGN.run:Epoch 2/50,Overall loss:15437.7873,MSE:771.2764,MSE1:2.3053,KL: 151.9344\n",
      "INFO:scDualGN.run:Epoch 3/50,Overall loss:14832.1239,MSE:741.1442,MSE1:1.4230,KL: 177.3801\n",
      "INFO:scDualGN.run:Epoch 4/50,Overall loss:14403.6483,MSE:719.7944,MSE1:0.9458,KL: 198.8441\n",
      "INFO:scDualGN.run:Epoch 5/50,Overall loss:14090.6812,MSE:704.1865,MSE1:0.6513,KL: 217.3032\n",
      "INFO:scDualGN.run:Epoch 6/50,Overall loss:13830.3279,MSE:691.1872,MSE1:0.4847,KL: 232.2749\n",
      "INFO:scDualGN.run:Epoch 7/50,Overall loss:13604.5827,MSE:679.9086,MSE1:0.3751,KL: 245.5167\n",
      "INFO:scDualGN.run:Epoch 8/50,Overall loss:13404.2581,MSE:669.8961,MSE1:0.2948,KL: 257.8583\n",
      "INFO:scDualGN.run:Epoch 9/50,Overall loss:13234.0979,MSE:661.3886,MSE1:0.2370,KL: 268.9106\n",
      "INFO:scDualGN.run:Epoch 10/50,Overall loss:13087.8022,MSE:654.0724,MSE1:0.1945,KL: 278.7660\n",
      "INFO:scDualGN.run:Epoch 11/50,Overall loss:12957.3575,MSE:647.5477,MSE1:0.1641,KL: 287.3758\n",
      "INFO:scDualGN.run:Epoch 12/50,Overall loss:12843.2372,MSE:641.8386,MSE1:0.1401,KL: 295.2049\n",
      "INFO:scDualGN.run:Epoch 13/50,Overall loss:12738.4332,MSE:636.5952,MSE1:0.1230,KL: 301.8543\n",
      "INFO:scDualGN.run:Epoch 14/50,Overall loss:12650.4635,MSE:632.1934,MSE1:0.1085,KL: 308.0294\n",
      "INFO:scDualGN.run:Epoch 15/50,Overall loss:12565.8772,MSE:627.9608,MSE1:0.0975,KL: 313.5821\n",
      "INFO:scDualGN.run:Epoch 16/50,Overall loss:12484.0815,MSE:623.8678,MSE1:0.0887,KL: 318.5931\n",
      "INFO:scDualGN.run:Epoch 17/50,Overall loss:12416.5896,MSE:620.4901,MSE1:0.0806,KL: 323.2356\n",
      "INFO:scDualGN.run:Epoch 18/50,Overall loss:12352.0861,MSE:617.2619,MSE1:0.0745,KL: 327.5346\n",
      "INFO:scDualGN.run:Epoch 19/50,Overall loss:12286.2827,MSE:613.9688,MSE1:0.0697,KL: 331.3502\n",
      "INFO:scDualGN.run:Epoch 20/50,Overall loss:12234.6190,MSE:611.3829,MSE1:0.0657,KL: 334.9232\n",
      "INFO:scDualGN.run:Epoch 21/50,Overall loss:12182.3930,MSE:608.7691,MSE1:0.0614,KL: 338.2294\n",
      "INFO:scDualGN.run:Epoch 22/50,Overall loss:12127.5268,MSE:606.0234,MSE1:0.0585,KL: 341.2204\n",
      "INFO:scDualGN.run:Epoch 23/50,Overall loss:12082.8562,MSE:603.7877,MSE1:0.0560,KL: 343.9224\n",
      "INFO:scDualGN.run:Epoch 24/50,Overall loss:12035.2756,MSE:601.4067,MSE1:0.0537,KL: 346.3710\n",
      "INFO:scDualGN.run:Epoch 25/50,Overall loss:12002.1882,MSE:599.7504,MSE1:0.0513,KL: 348.7416\n",
      "INFO:scDualGN.run:Epoch 26/50,Overall loss:11962.8902,MSE:597.7838,MSE1:0.0495,KL: 350.8157\n",
      "INFO:scDualGN.run:Epoch 27/50,Overall loss:11923.1190,MSE:595.7935,MSE1:0.0481,KL: 352.8801\n",
      "INFO:scDualGN.run:Epoch 28/50,Overall loss:11888.0349,MSE:594.0376,MSE1:0.0469,KL: 354.7955\n",
      "INFO:scDualGN.run:Epoch 29/50,Overall loss:11853.4964,MSE:592.3092,MSE1:0.0458,KL: 356.4414\n",
      "INFO:scDualGN.run:Epoch 30/50,Overall loss:11819.5273,MSE:590.6094,MSE1:0.0443,KL: 358.1497\n",
      "INFO:scDualGN.run:Epoch 31/50,Overall loss:11787.6607,MSE:589.0148,MSE1:0.0435,KL: 359.5785\n",
      "INFO:scDualGN.run:Epoch 32/50,Overall loss:11763.8422,MSE:587.8228,MSE1:0.0426,KL: 360.7868\n",
      "INFO:scDualGN.run:Epoch 33/50,Overall loss:11735.7189,MSE:586.4154,MSE1:0.0420,KL: 362.1555\n",
      "INFO:scDualGN.run:Epoch 34/50,Overall loss:11709.8278,MSE:585.1199,MSE1:0.0413,KL: 363.2510\n",
      "INFO:scDualGN.run:Epoch 35/50,Overall loss:11695.4973,MSE:584.4025,MSE1:0.0403,KL: 364.3248\n",
      "INFO:scDualGN.run:Epoch 36/50,Overall loss:11669.1093,MSE:583.0822,MSE1:0.0398,KL: 365.3445\n",
      "INFO:scDualGN.run:Epoch 37/50,Overall loss:11645.1823,MSE:581.8850,MSE1:0.0394,KL: 366.2117\n",
      "INFO:scDualGN.run:Epoch 38/50,Overall loss:11624.4837,MSE:580.8494,MSE1:0.0388,KL: 367.0112\n",
      "INFO:scDualGN.run:Epoch 39/50,Overall loss:11610.7832,MSE:580.1639,MSE1:0.0381,KL: 367.6793\n",
      "INFO:scDualGN.run:Epoch 40/50,Overall loss:11583.7021,MSE:578.8094,MSE1:0.0379,KL: 368.1413\n",
      "INFO:scDualGN.run:Epoch 41/50,Overall loss:11565.0882,MSE:577.8781,MSE1:0.0376,KL: 368.7842\n",
      "INFO:scDualGN.run:Epoch 42/50,Overall loss:11548.2928,MSE:577.0379,MSE1:0.0375,KL: 369.2824\n",
      "INFO:scDualGN.run:Epoch 43/50,Overall loss:11531.2718,MSE:576.1862,MSE1:0.0372,KL: 369.9402\n",
      "INFO:scDualGN.run:Epoch 44/50,Overall loss:11513.0449,MSE:575.2744,MSE1:0.0370,KL: 370.4029\n",
      "INFO:scDualGN.run:Epoch 45/50,Overall loss:11501.2801,MSE:574.6860,MSE1:0.0369,KL: 370.6734\n",
      "INFO:scDualGN.run:Epoch 46/50,Overall loss:11484.3306,MSE:573.8380,MSE1:0.0362,KL: 371.2506\n",
      "INFO:scDualGN.run:Epoch 47/50,Overall loss:11466.6979,MSE:572.9560,MSE1:0.0362,KL: 371.6884\n",
      "INFO:scDualGN.run:Epoch 48/50,Overall loss:11449.9278,MSE:572.1171,MSE1:0.0360,KL: 372.0700\n",
      "INFO:scDualGN.run:Epoch 49/50,Overall loss:11436.2741,MSE:571.4342,MSE1:0.0358,KL: 372.2981\n",
      "INFO:scDualGN.run:dual-VAE pretrain finished!\n",
      "INFO:scDualGN.run:obtain daul-VAE z-vector and x_bar\n",
      "INFO:scDualGN.run:perform kmeans to cluster....\n",
      "INFO:scDualGN.run:training scDualGN...\n",
      "INFO:scDualGN.run:epoch 1/30\n",
      "INFO:scDualGN.evalution:acc=0.8489, nmi=0.8532, ari=0.8390\n",
      "INFO:scDualGN.run:Epoch 1/30, Loss - overall: 11855.9503,daul_VAE:11855.9139,KL:0.0276,Center:88.9659\n",
      "INFO:scDualGN.run:Epoch 2/30, Loss - overall: 11433.3597,daul_VAE:11433.3235,KL:0.0274,Center:89.5001\n"
     ]
    }
   ],
   "source": [
    "#kmeans\n",
    "start = time.time()\n",
    "z_final, y_pred_lab, model = scDualGN.run_scDualGN(adata, n_cluster=9,n_z=32,n_epoch_update_pq=5, n_epochs=30,alpha_dualvae=0.02,beta_daulvae=20,gamma_dualvae=4,GPU_id=1)\n",
    "end = time.time()\n",
    "\n",
    "print('running time = {}'.format(end-start))"
   ]
  },
  {
   "cell_type": "code",
   "execution_count": 6,
   "metadata": {},
   "outputs": [
    {
     "name": "stderr",
     "output_type": "stream",
     "text": [
      "INFO:scDualGN.run:device: cuda:1\n",
      "INFO:scDualGN.run:pretrain device: cuda:1\n",
      "INFO:scDualGN.run:start pretraining...\n",
      "INFO:scDualGN.run:Epoch 0/50,Overall loss:18985.0642,MSE:939.7350,MSE1:47.2054,KL: 77.0896\n",
      "INFO:scDualGN.run:Epoch 1/50,Overall loss:16434.3275,MSE:820.8069,MSE1:3.9349,KL: 122.4608\n",
      "INFO:scDualGN.run:Epoch 2/50,Overall loss:15437.7873,MSE:771.2764,MSE1:2.3053,KL: 151.9344\n",
      "INFO:scDualGN.run:Epoch 3/50,Overall loss:14832.1239,MSE:741.1442,MSE1:1.4230,KL: 177.3801\n",
      "INFO:scDualGN.run:Epoch 4/50,Overall loss:14403.6483,MSE:719.7944,MSE1:0.9458,KL: 198.8441\n",
      "INFO:scDualGN.run:Epoch 5/50,Overall loss:14090.6812,MSE:704.1865,MSE1:0.6513,KL: 217.3032\n",
      "INFO:scDualGN.run:Epoch 6/50,Overall loss:13830.3279,MSE:691.1872,MSE1:0.4847,KL: 232.2749\n",
      "INFO:scDualGN.run:Epoch 7/50,Overall loss:13604.5827,MSE:679.9086,MSE1:0.3751,KL: 245.5167\n",
      "INFO:scDualGN.run:Epoch 8/50,Overall loss:13404.2581,MSE:669.8961,MSE1:0.2948,KL: 257.8583\n",
      "INFO:scDualGN.run:Epoch 9/50,Overall loss:13234.0979,MSE:661.3886,MSE1:0.2370,KL: 268.9106\n",
      "INFO:scDualGN.run:Epoch 10/50,Overall loss:13087.8022,MSE:654.0724,MSE1:0.1945,KL: 278.7660\n",
      "INFO:scDualGN.run:Epoch 11/50,Overall loss:12957.3575,MSE:647.5477,MSE1:0.1641,KL: 287.3758\n",
      "INFO:scDualGN.run:Epoch 12/50,Overall loss:12843.2372,MSE:641.8386,MSE1:0.1401,KL: 295.2049\n",
      "INFO:scDualGN.run:Epoch 13/50,Overall loss:12738.4332,MSE:636.5952,MSE1:0.1230,KL: 301.8543\n",
      "INFO:scDualGN.run:Epoch 14/50,Overall loss:12650.4635,MSE:632.1934,MSE1:0.1085,KL: 308.0294\n",
      "INFO:scDualGN.run:Epoch 15/50,Overall loss:12565.8772,MSE:627.9608,MSE1:0.0975,KL: 313.5821\n",
      "INFO:scDualGN.run:Epoch 16/50,Overall loss:12484.0815,MSE:623.8678,MSE1:0.0887,KL: 318.5931\n",
      "INFO:scDualGN.run:Epoch 17/50,Overall loss:12416.5896,MSE:620.4901,MSE1:0.0806,KL: 323.2356\n",
      "INFO:scDualGN.run:Epoch 18/50,Overall loss:12352.0861,MSE:617.2619,MSE1:0.0745,KL: 327.5346\n",
      "INFO:scDualGN.run:Epoch 19/50,Overall loss:12286.2827,MSE:613.9688,MSE1:0.0697,KL: 331.3502\n",
      "INFO:scDualGN.run:Epoch 20/50,Overall loss:12234.6190,MSE:611.3829,MSE1:0.0657,KL: 334.9232\n",
      "INFO:scDualGN.run:Epoch 21/50,Overall loss:12182.3930,MSE:608.7691,MSE1:0.0614,KL: 338.2294\n",
      "INFO:scDualGN.run:Epoch 22/50,Overall loss:12127.5268,MSE:606.0234,MSE1:0.0585,KL: 341.2204\n",
      "INFO:scDualGN.run:Epoch 23/50,Overall loss:12082.8562,MSE:603.7877,MSE1:0.0560,KL: 343.9224\n",
      "INFO:scDualGN.run:Epoch 24/50,Overall loss:12035.2756,MSE:601.4067,MSE1:0.0537,KL: 346.3710\n",
      "INFO:scDualGN.run:Epoch 25/50,Overall loss:12002.1882,MSE:599.7504,MSE1:0.0513,KL: 348.7416\n",
      "INFO:scDualGN.run:Epoch 26/50,Overall loss:11962.8902,MSE:597.7838,MSE1:0.0495,KL: 350.8157\n",
      "INFO:scDualGN.run:Epoch 27/50,Overall loss:11923.1190,MSE:595.7935,MSE1:0.0481,KL: 352.8801\n",
      "INFO:scDualGN.run:Epoch 28/50,Overall loss:11888.0349,MSE:594.0376,MSE1:0.0469,KL: 354.7955\n",
      "INFO:scDualGN.run:Epoch 29/50,Overall loss:11853.4964,MSE:592.3092,MSE1:0.0458,KL: 356.4414\n",
      "INFO:scDualGN.run:Epoch 30/50,Overall loss:11819.5273,MSE:590.6094,MSE1:0.0443,KL: 358.1497\n",
      "INFO:scDualGN.run:Epoch 31/50,Overall loss:11787.6607,MSE:589.0148,MSE1:0.0435,KL: 359.5785\n",
      "INFO:scDualGN.run:Epoch 32/50,Overall loss:11763.8422,MSE:587.8228,MSE1:0.0426,KL: 360.7868\n",
      "INFO:scDualGN.run:Epoch 33/50,Overall loss:11735.7189,MSE:586.4154,MSE1:0.0420,KL: 362.1555\n",
      "INFO:scDualGN.run:Epoch 34/50,Overall loss:11709.8278,MSE:585.1199,MSE1:0.0413,KL: 363.2510\n",
      "INFO:scDualGN.run:Epoch 35/50,Overall loss:11695.4973,MSE:584.4025,MSE1:0.0403,KL: 364.3248\n",
      "INFO:scDualGN.run:Epoch 36/50,Overall loss:11669.1093,MSE:583.0822,MSE1:0.0398,KL: 365.3445\n",
      "INFO:scDualGN.run:Epoch 37/50,Overall loss:11645.1823,MSE:581.8850,MSE1:0.0394,KL: 366.2117\n",
      "INFO:scDualGN.run:Epoch 38/50,Overall loss:11624.4837,MSE:580.8494,MSE1:0.0388,KL: 367.0112\n",
      "INFO:scDualGN.run:Epoch 39/50,Overall loss:11610.7832,MSE:580.1639,MSE1:0.0381,KL: 367.6793\n",
      "INFO:scDualGN.run:Epoch 40/50,Overall loss:11583.7021,MSE:578.8094,MSE1:0.0379,KL: 368.1413\n",
      "INFO:scDualGN.run:Epoch 41/50,Overall loss:11565.0882,MSE:577.8781,MSE1:0.0376,KL: 368.7842\n",
      "INFO:scDualGN.run:Epoch 42/50,Overall loss:11548.2928,MSE:577.0379,MSE1:0.0375,KL: 369.2824\n",
      "INFO:scDualGN.run:Epoch 43/50,Overall loss:11531.2718,MSE:576.1862,MSE1:0.0372,KL: 369.9402\n",
      "INFO:scDualGN.run:Epoch 44/50,Overall loss:11513.0449,MSE:575.2744,MSE1:0.0370,KL: 370.4029\n",
      "INFO:scDualGN.run:Epoch 45/50,Overall loss:11501.2801,MSE:574.6860,MSE1:0.0369,KL: 370.6734\n",
      "INFO:scDualGN.run:Epoch 46/50,Overall loss:11484.3306,MSE:573.8380,MSE1:0.0362,KL: 371.2506\n",
      "INFO:scDualGN.run:Epoch 47/50,Overall loss:11466.6979,MSE:572.9560,MSE1:0.0362,KL: 371.6884\n",
      "INFO:scDualGN.run:Epoch 48/50,Overall loss:11449.9278,MSE:572.1171,MSE1:0.0360,KL: 372.0700\n",
      "INFO:scDualGN.run:Epoch 49/50,Overall loss:11436.2741,MSE:571.4342,MSE1:0.0358,KL: 372.2981\n",
      "INFO:scDualGN.run:dual-VAE pretrain finished!\n",
      "INFO:scDualGN.run:obtain daul-VAE z-vector and x_bar\n",
      "INFO:scDualGN.run:perform kmeans to cluster....\n",
      "INFO:scDualGN.run:training scDualGN...\n",
      "INFO:scDualGN.run:epoch 1/30\n",
      "INFO:scDualGN.evalution:acc=0.7417, nmi=0.8078, ari=2.3053\n",
      "INFO:scDualGN.run:Epoch 1/30, Loss - overall: 11833.2943,daul_VAE:11833.2578,KL:0.0268,Center:95.9609\n",
      "INFO:scDualGN.run:Epoch 2/30, Loss - overall: 11432.3917,daul_VAE:11432.3552,KL:0.0267,Center:96.6574\n",
      "INFO:scDualGN.run:Epoch 3/30, Loss - overall: 11349.3755,daul_VAE:11349.3402,KL:0.0255,Center:95.8225\n",
      "INFO:scDualGN.run:Epoch 4/30, Loss - overall: 11295.4819,daul_VAE:11295.4477,KL:0.0244,Center:95.1859\n",
      "INFO:scDualGN.run:Epoch 5/30, Loss - overall: 11306.5770,daul_VAE:11306.5438,KL:0.0237,Center:94.8033\n",
      "INFO:scDualGN.run:epoch 6/30\n",
      "INFO:scDualGN.evalution:acc=0.7425, nmi=0.8073, ari=2.3092\n",
      "INFO:scDualGN.run:Epoch 6/30, Loss - overall: 11302.2061,daul_VAE:11302.1720,KL:0.0243,Center:94.5661\n",
      "INFO:scDualGN.run:Epoch 7/30, Loss - overall: 11288.5354,daul_VAE:11288.5015,KL:0.0240,Center:94.4342\n",
      "INFO:scDualGN.run:Epoch 8/30, Loss - overall: 11278.5339,daul_VAE:11278.5005,KL:0.0238,Center:94.2375\n",
      "INFO:scDualGN.run:Epoch 9/30, Loss - overall: 11275.7782,daul_VAE:11275.7450,KL:0.0236,Center:94.1455\n",
      "INFO:scDualGN.run:Epoch 10/30, Loss - overall: 11270.1312,daul_VAE:11270.0980,KL:0.0234,Center:94.0936\n",
      "INFO:scDualGN.run:epoch 11/30\n",
      "INFO:scDualGN.evalution:acc=0.7435, nmi=0.8066, ari=2.3147\n",
      "INFO:scDualGN.run:Epoch 11/30, Loss - overall: 11263.6257,daul_VAE:11263.5910,KL:0.0248,Center:93.9727\n",
      "INFO:scDualGN.run:Epoch 12/30, Loss - overall: 11281.2122,daul_VAE:11281.1780,KL:0.0247,Center:93.9323\n",
      "INFO:scDualGN.run:Epoch 13/30, Loss - overall: 11264.6633,daul_VAE:11264.6291,KL:0.0246,Center:93.8712\n",
      "INFO:scDualGN.run:Epoch 14/30, Loss - overall: 11267.9003,daul_VAE:11267.8661,KL:0.0245,Center:93.8641\n",
      "INFO:scDualGN.run:Epoch 15/30, Loss - overall: 11244.8569,daul_VAE:11244.8227,KL:0.0244,Center:93.7463\n",
      "INFO:scDualGN.run:epoch 16/30\n",
      "INFO:scDualGN.evalution:acc=0.7441, nmi=0.8063, ari=2.3188\n",
      "INFO:scDualGN.run:Epoch 16/30, Loss - overall: 11245.9161,daul_VAE:11245.8811,KL:0.0250,Center:93.7439\n",
      "INFO:scDualGN.run:Epoch 17/30, Loss - overall: 11261.2301,daul_VAE:11261.1953,KL:0.0250,Center:93.6072\n",
      "INFO:scDualGN.run:Epoch 18/30, Loss - overall: 11237.9846,daul_VAE:11237.9497,KL:0.0249,Center:93.5446\n",
      "INFO:scDualGN.run:Epoch 19/30, Loss - overall: 11235.5425,daul_VAE:11235.5081,KL:0.0248,Center:93.4611\n",
      "INFO:scDualGN.run:Epoch 20/30, Loss - overall: 11255.2906,daul_VAE:11255.2564,KL:0.0247,Center:93.3890\n",
      "INFO:scDualGN.run:epoch 21/30\n",
      "INFO:scDualGN.evalution:acc=0.7415, nmi=0.8045, ari=2.3287\n",
      "INFO:scDualGN.run:Epoch 21/30, Loss - overall: 11247.8157,daul_VAE:11247.7806,KL:0.0253,Center:93.3304\n",
      "INFO:scDualGN.run:Epoch 22/30, Loss - overall: 11249.6307,daul_VAE:11249.5956,KL:0.0253,Center:93.3153\n",
      "INFO:scDualGN.run:Epoch 23/30, Loss - overall: 11234.6247,daul_VAE:11234.5896,KL:0.0252,Center:93.2001\n",
      "INFO:scDualGN.run:Epoch 24/30, Loss - overall: 11236.1882,daul_VAE:11236.1532,KL:0.0251,Center:93.2356\n",
      "INFO:scDualGN.run:Epoch 25/30, Loss - overall: 11220.5234,daul_VAE:11220.4883,KL:0.0251,Center:93.1170\n",
      "INFO:scDualGN.run:epoch 26/30\n",
      "INFO:scDualGN.evalution:acc=0.7517, nmi=0.8065, ari=2.3232\n",
      "INFO:scDualGN.run:Epoch 26/30, Loss - overall: 11212.6861,daul_VAE:11212.6511,KL:0.0251,Center:93.1532\n",
      "INFO:scDualGN.run:Epoch 27/30, Loss - overall: 11208.7919,daul_VAE:11208.7571,KL:0.0250,Center:93.0600\n",
      "INFO:scDualGN.run:Epoch 28/30, Loss - overall: 11208.7264,daul_VAE:11208.6918,KL:0.0249,Center:93.0110\n",
      "INFO:scDualGN.run:Epoch 29/30, Loss - overall: 11210.5390,daul_VAE:11210.5044,KL:0.0249,Center:93.0157\n",
      "INFO:scDualGN.run:Epoch 30/30, Loss - overall: 11202.5306,daul_VAE:11202.4962,KL:0.0249,Center:92.9769\n",
      "INFO:scDualGN.run:scDualGN train finished.\n",
      "INFO:scDualGN.evalution:acc=0.7451, nmi=0.8043, ari=2.3327\n"
     ]
    },
    {
     "name": "stdout",
     "output_type": "stream",
     "text": [
      "running time = 275.6020607948303\n"
     ]
    }
   ],
   "source": [
    "#leiden\n",
    "start = time.time()\n",
    "z_final, y_pred_lab, model = scDualGN.run_scDualGN(adata,n_z=32,n_epoch_update_pq=5, n_epochs=30,alpha_dualvae=0.02,beta_daulvae=20,gamma_dualvae=4,GPU_id=1,n_neighbors=50)\n",
    "end = time.time()\n",
    "\n",
    "print('running time = {}'.format(end-start))"
   ]
  },
  {
   "cell_type": "code",
   "execution_count": null,
   "metadata": {},
   "outputs": [],
   "source": []
  }
 ],
 "metadata": {
  "kernelspec": {
   "display_name": "Python 3 (ipykernel)",
   "language": "python",
   "name": "python3"
  },
  "language_info": {
   "codemirror_mode": {
    "name": "ipython",
    "version": 3
   },
   "file_extension": ".py",
   "mimetype": "text/x-python",
   "name": "python",
   "nbconvert_exporter": "python",
   "pygments_lexer": "ipython3",
   "version": "3.8.13"
  }
 },
 "nbformat": 4,
 "nbformat_minor": 4
}
