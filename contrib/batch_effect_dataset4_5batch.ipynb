{
 "cells": [
  {
   "cell_type": "code",
   "execution_count": 1,
   "metadata": {},
   "outputs": [],
   "source": [
    "import os\n",
    "import numpy as np\n",
    "import pandas as pd\n",
    "import random\n",
    "import time\n",
    "import scanpy as sc\n",
    "import torch\n",
    "\n",
    "import warnings\n",
    "warnings.filterwarnings('ignore')\n",
    "import logging\n",
    "logging.basicConfig(level=logging.INFO)\n",
    "import scDualGN\n",
    "import scanpy.external as sce\n",
    "\n",
    "def seed_torch(seed=666):\n",
    "    random.seed(seed)\n",
    "    os.environ['PYTHONHASHSEED'] = str(seed)\n",
    "    np.random.seed(seed)\n",
    "    torch.manual_seed(seed)\n",
    "    torch.cuda.manual_seed(seed)\n",
    "    torch.cuda.manual_seed_all(seed) # if you are using multi-GPU.\n",
    "    torch.backends.cudnn.benchmark = False\n",
    "    torch.backends.cudnn.deterministic = True\n",
    "    torch.backends.cudnn.enabled = False\n",
    "seed_torch()\n",
    "\n",
    "sc.settings.verbosity = 3\n",
    "sc.settings.set_figure_params(dpi=100)\n",
    "sc.settings.set_figure_params(dpi_save=300)"
   ]
  },
  {
   "cell_type": "code",
   "execution_count": null,
   "metadata": {},
   "outputs": [],
   "source": [
    "adata = sc.read_h5ad('/media/bgi/zhouruilong/deepMNN/data/dataset4.h5ad')\n",
    "adata.obs['celltype_str'] = adata.obs['celltype']\n",
    "                                \n",
    "arr = np.array(adata.obs['celltype'])\n",
    "np.place(arr,arr=='alpha',[0])\n",
    "np.place(arr,arr=='beta',[1])\n",
    "np.place(arr,arr=='ductal',[2])\n",
    "np.place(arr,arr=='acinar',[3])\n",
    "np.place(arr,arr=='delta',[4])\n",
    "np.place(arr,arr=='gamma',[5])\n",
    "np.place(arr,arr=='stellate',[6])\n",
    "np.place(arr,arr=='endothelial',[7])\n",
    "np.place(arr,arr=='mesenchymal',[8])\n",
    "np.place(arr,arr=='macrophage',[9])\n",
    "np.place(arr,arr=='mast',[10])\n",
    "np.place(arr,arr=='epsilon',[11])\n",
    "np.place(arr,arr=='schwann',[12])\n",
    "np.place(arr,arr=='t_cell',[13])\n",
    "np.place(arr,arr=='MHC class II',[14])\n",
    "\n",
    "arr = arr.astype(np.int32)\n",
    "adata.obs['celltype'] = arr"
   ]
  },
  {
   "cell_type": "code",
   "execution_count": null,
   "metadata": {},
   "outputs": [],
   "source": [
    "adata"
   ]
  },
  {
   "cell_type": "code",
   "execution_count": null,
   "metadata": {},
   "outputs": [],
   "source": [
    "sc.pp.normalize_total(adata)\n",
    "sc.pp.log1p(adata)\n",
    "sc.pp.highly_variable_genes(adata, n_top_genes=2500)\n",
    "adata = adata[:, adata.var.highly_variable]\n",
    "sc.pp.scale(adata,max_value=10)"
   ]
  },
  {
   "cell_type": "code",
   "execution_count": null,
   "metadata": {},
   "outputs": [],
   "source": [
    "adata"
   ]
  },
  {
   "cell_type": "code",
   "execution_count": null,
   "metadata": {},
   "outputs": [],
   "source": [
    "#kmeans\n",
    "start = time.time()\n",
    "z_final, y_pred_lab, model = scDualGN.run_scDualGN(adata,n_z=32,n_epoch_update_pq=5, n_epochs=30,beta_daulvae=20,gamma_dualvae=2,GPU_id=1,\n",
    "                                                   cluster_alg='leiden',n_neighbors=20)\n",
    "end = time.time()\n",
    "\n",
    "print('running time = {}'.format(end-start))"
   ]
  },
  {
   "cell_type": "code",
   "execution_count": null,
   "metadata": {},
   "outputs": [],
   "source": [
    "adata.obs['celltype_scDualGN']=y_pred_lab\n",
    "adata.obsm['X_scDualGN']=z_final\n",
    "\n",
    "#sc.pp.neighbors(adata,n_neighbors=20,use_rep=\"X_scDualGN\") \n",
    "#sc.tl.umap(adata)\n",
    "\n",
    "#adata.obs['celltype'] = adata.obs['celltype'].astype('category')\n",
    "adata.obs['celltype_str'] = adata.obs['celltype_str'].astype('category')\n",
    "adata.obs['celltype_scDualGN'] = adata.obs['celltype_scDualGN'].astype('category')"
   ]
  },
  {
   "cell_type": "code",
   "execution_count": null,
   "metadata": {},
   "outputs": [],
   "source": [
    "#harmony\n",
    "sce.pp.harmony_integrate(adata, key='batchlb', basis='X_scDualGN', adjusted_basis='X_harmony')\n",
    "sc.pp.neighbors(adata,use_rep=\"X_harmony\") \n",
    "sc.tl.umap(adata)\n",
    "\n",
    "sc.pl.umap(adata, color=['celltype_str'],save='datset4_celltype_str_scDualGN.pdf')\n",
    "sc.pl.umap(adata, color=['batchlb'],save='datset4_batch_scDualGN.pdf')"
   ]
  }
 ],
 "metadata": {
  "kernelspec": {
   "display_name": "Python 3 (ipykernel)",
   "language": "python",
   "name": "python3"
  },
  "language_info": {
   "codemirror_mode": {
    "name": "ipython",
    "version": 3
   },
   "file_extension": ".py",
   "mimetype": "text/x-python",
   "name": "python",
   "nbconvert_exporter": "python",
   "pygments_lexer": "ipython3",
   "version": "3.8.13"
  }
 },
 "nbformat": 4,
 "nbformat_minor": 4
}
