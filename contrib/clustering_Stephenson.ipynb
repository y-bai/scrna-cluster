{
 "cells": [
  {
   "cell_type": "code",
   "execution_count": 1,
   "metadata": {},
   "outputs": [],
   "source": [
    "import os\n",
    "import numpy as np\n",
    "import pandas as pd\n",
    "import random\n",
    "import time\n",
    "import scanpy as sc\n",
    "import torch\n",
    "\n",
    "import warnings\n",
    "warnings.filterwarnings('ignore')\n",
    "import logging\n",
    "logging.basicConfig(level=logging.INFO)\n",
    "import scDualGN\n",
    "\n",
    "def seed_torch(seed=666):\n",
    "    random.seed(seed)\n",
    "    os.environ['PYTHONHASHSEED'] = str(seed)\n",
    "    np.random.seed(seed)\n",
    "    torch.manual_seed(seed)\n",
    "    torch.cuda.manual_seed(seed)\n",
    "    torch.cuda.manual_seed_all(seed) # if you are using multi-GPU.\n",
    "    torch.backends.cudnn.benchmark = False\n",
    "    torch.backends.cudnn.deterministic = True\n",
    "    torch.backends.cudnn.enabled = False\n",
    "seed_torch()"
   ]
  },
  {
   "cell_type": "code",
   "execution_count": 2,
   "metadata": {},
   "outputs": [],
   "source": [
    "adata = sc.read_h5ad('/media/bgi/zhouruilong/paper_test/cluster/our_model/COVID-immune/haniffa21.processed.h5ad')\n",
    "adata.obs['celltype'] = adata.obs['initial_clustering']\n",
    "adata.obs['celltype_str'] = adata.obs['celltype']\n",
    "adata.obs['celltype'].cat.categories = list(range(0,18))\n",
    "adata.obs['celltype'] = adata.obs['celltype'].astype(np.int)"
   ]
  },
  {
   "cell_type": "code",
   "execution_count": 3,
   "metadata": {},
   "outputs": [
    {
     "data": {
      "text/plain": [
       "AnnData object with n_obs × n_vars = 647366 × 24929\n",
       "    obs: 'sample_id', 'n_genes', 'n_genes_by_counts', 'total_counts', 'total_counts_mt', 'pct_counts_mt', 'full_clustering', 'initial_clustering', 'Resample', 'Collection_Day', 'Sex', 'Age_interval', 'Swab_result', 'Status', 'Smoker', 'Status_on_day_collection', 'Status_on_day_collection_summary', 'Days_from_onset', 'Site', 'time_after_LPS', 'Worst_Clinical_Status', 'Outcome', 'patient_id', 'celltype', 'celltype_str'\n",
       "    var: 'feature_types'\n",
       "    uns: 'hvg', 'leiden', 'neighbors', 'pca', 'umap'\n",
       "    obsm: 'X_pca', 'X_pca_harmony', 'X_umap'\n",
       "    layers: 'raw'"
      ]
     },
     "execution_count": 3,
     "metadata": {},
     "output_type": "execute_result"
    }
   ],
   "source": [
    "adata"
   ]
  },
  {
   "cell_type": "code",
   "execution_count": 4,
   "metadata": {},
   "outputs": [],
   "source": [
    "sc.pp.highly_variable_genes(adata, n_top_genes=2500)\n",
    "adata = adata[:, adata.var.highly_variable]\n",
    "sc.pp.scale(adata,max_value=10)"
   ]
  },
  {
   "cell_type": "code",
   "execution_count": 5,
   "metadata": {},
   "outputs": [
    {
     "data": {
      "text/plain": [
       "AnnData object with n_obs × n_vars = 647366 × 2500\n",
       "    obs: 'sample_id', 'n_genes', 'n_genes_by_counts', 'total_counts', 'total_counts_mt', 'pct_counts_mt', 'full_clustering', 'initial_clustering', 'Resample', 'Collection_Day', 'Sex', 'Age_interval', 'Swab_result', 'Status', 'Smoker', 'Status_on_day_collection', 'Status_on_day_collection_summary', 'Days_from_onset', 'Site', 'time_after_LPS', 'Worst_Clinical_Status', 'Outcome', 'patient_id', 'celltype', 'celltype_str'\n",
       "    var: 'feature_types', 'highly_variable', 'means', 'dispersions', 'dispersions_norm', 'mean', 'std'\n",
       "    uns: 'hvg', 'leiden', 'neighbors', 'pca', 'umap'\n",
       "    obsm: 'X_pca', 'X_pca_harmony', 'X_umap'\n",
       "    layers: 'raw'"
      ]
     },
     "execution_count": 5,
     "metadata": {},
     "output_type": "execute_result"
    }
   ],
   "source": [
    "adata"
   ]
  },
  {
   "cell_type": "code",
   "execution_count": null,
   "metadata": {},
   "outputs": [
    {
     "name": "stderr",
     "output_type": "stream",
     "text": [
      "INFO:scDualGN.run:device: cuda:2\n",
      "INFO:scDualGN.run:pretrain device: cuda:2\n",
      "INFO:scDualGN.run:start pretraining...\n",
      "INFO:scDualGN.run:Epoch 0/50,Overall loss:5789.7701,MSE:954.5647,MSE1:254.1282,KL: 21.6925\n",
      "INFO:scDualGN.run:Epoch 1/50,Overall loss:3854.5931,MSE:716.1839,MSE1:68.2153,KL: 40.6187\n",
      "INFO:scDualGN.run:Epoch 2/50,Overall loss:3463.4691,MSE:666.4035,MSE1:32.6053,KL: 51.5005\n",
      "INFO:scDualGN.run:Epoch 3/50,Overall loss:3337.6647,MSE:651.4998,MSE1:19.7436,KL: 59.5530\n",
      "INFO:scDualGN.run:Epoch 4/50,Overall loss:3274.9021,MSE:643.9032,MSE1:13.5157,KL: 66.1787\n",
      "INFO:scDualGN.run:Epoch 5/50,Overall loss:3235.5848,MSE:638.8048,MSE1:10.0309,KL: 71.8777\n",
      "INFO:scDualGN.run:Epoch 6/50,Overall loss:3204.1925,MSE:634.1273,MSE1:8.0053,KL: 76.7357\n",
      "INFO:scDualGN.run:Epoch 7/50,Overall loss:3176.3549,MSE:629.5654,MSE1:6.7266,KL: 81.0612\n",
      "INFO:scDualGN.run:Epoch 8/50,Overall loss:3154.4982,MSE:625.9339,MSE1:5.7807,KL: 85.3138\n",
      "INFO:scDualGN.run:Epoch 9/50,Overall loss:3132.9700,MSE:622.2236,MSE1:5.0157,KL: 89.4516\n",
      "INFO:scDualGN.run:Epoch 10/50,Overall loss:3111.3600,MSE:618.3563,MSE1:4.4296,KL: 93.0189\n",
      "INFO:scDualGN.run:Epoch 11/50,Overall loss:3091.7835,MSE:614.7729,MSE1:3.9996,KL: 96.0385\n",
      "INFO:scDualGN.run:Epoch 12/50,Overall loss:3072.9912,MSE:611.2610,MSE1:3.6793,KL: 98.4608\n",
      "INFO:scDualGN.run:Epoch 13/50,Overall loss:3052.8733,MSE:607.4154,MSE1:3.4474,KL: 100.3357\n",
      "INFO:scDualGN.run:Epoch 14/50,Overall loss:3035.3988,MSE:604.0549,MSE1:3.2713,KL: 101.9712\n",
      "INFO:scDualGN.run:Epoch 15/50,Overall loss:3015.4462,MSE:600.1711,MSE1:3.1298,KL: 103.5865\n",
      "INFO:scDualGN.run:Epoch 16/50,Overall loss:2997.2051,MSE:596.6139,MSE1:3.0062,KL: 105.5433\n",
      "INFO:scDualGN.run:Epoch 17/50,Overall loss:2980.0575,MSE:593.2578,MSE1:2.9032,KL: 107.7848\n",
      "INFO:scDualGN.run:Epoch 18/50,Overall loss:2964.6270,MSE:590.2660,MSE1:2.7724,KL: 110.3742\n",
      "INFO:scDualGN.run:Epoch 19/50,Overall loss:2951.0375,MSE:587.6577,MSE1:2.6208,KL: 113.2898\n",
      "INFO:scDualGN.run:Epoch 20/50,Overall loss:2936.9816,MSE:584.9600,MSE1:2.4649,KL: 116.0904\n",
      "INFO:scDualGN.run:Epoch 21/50,Overall loss:2924.0157,MSE:582.4726,MSE1:2.3201,KL: 118.6198\n",
      "INFO:scDualGN.run:Epoch 22/50,Overall loss:2912.6931,MSE:580.3081,MSE1:2.1830,KL: 121.0301\n",
      "INFO:scDualGN.run:Epoch 23/50,Overall loss:2900.1208,MSE:577.8811,MSE1:2.0619,KL: 123.3895\n",
      "INFO:scDualGN.run:Epoch 24/50,Overall loss:2887.8085,MSE:575.4936,MSE1:1.9574,KL: 125.5347\n",
      "INFO:scDualGN.run:Epoch 25/50,Overall loss:2876.2276,MSE:573.2400,MSE1:1.8696,KL: 127.4426\n",
      "INFO:scDualGN.run:Epoch 26/50,Overall loss:2864.1105,MSE:570.8673,MSE1:1.7976,KL: 129.1750\n",
      "INFO:scDualGN.run:Epoch 27/50,Overall loss:2851.8118,MSE:568.4524,MSE1:1.7323,KL: 131.0315\n",
      "INFO:scDualGN.run:Epoch 28/50,Overall loss:2840.1039,MSE:566.1635,MSE1:1.6546,KL: 133.4062\n",
      "INFO:scDualGN.run:Epoch 29/50,Overall loss:2828.6499,MSE:563.9322,MSE1:1.5667,KL: 136.1125\n",
      "INFO:scDualGN.run:Epoch 30/50,Overall loss:2817.9191,MSE:561.8429,MSE1:1.4813,KL: 138.9677\n",
      "INFO:scDualGN.run:Epoch 31/50,Overall loss:2806.2587,MSE:559.5644,MSE1:1.3993,KL: 141.9675\n",
      "INFO:scDualGN.run:Epoch 32/50,Overall loss:2796.2011,MSE:557.6052,MSE1:1.3177,KL: 145.2091\n",
      "INFO:scDualGN.run:Epoch 33/50,Overall loss:2784.0556,MSE:555.2261,MSE1:1.2379,KL: 148.6778\n",
      "INFO:scDualGN.run:Epoch 34/50,Overall loss:2773.3900,MSE:553.1406,MSE1:1.1600,KL: 152.3397\n",
      "INFO:scDualGN.run:Epoch 35/50,Overall loss:2763.6250,MSE:551.2332,MSE1:1.0841,KL: 156.1282\n",
      "INFO:scDualGN.run:Epoch 36/50,Overall loss:2753.5597,MSE:549.2632,MSE1:1.0106,KL: 160.0693\n",
      "INFO:scDualGN.run:Epoch 37/50,Overall loss:2744.3616,MSE:547.4641,MSE1:0.9402,KL: 164.0093\n",
      "INFO:scDualGN.run:Epoch 38/50,Overall loss:2734.6543,MSE:545.5607,MSE1:0.8724,KL: 168.0606\n",
      "INFO:scDualGN.run:Epoch 39/50,Overall loss:2724.2343,MSE:543.5114,MSE1:0.8087,KL: 172.1179\n",
      "INFO:scDualGN.run:Epoch 40/50,Overall loss:2716.0311,MSE:541.9049,MSE1:0.7453,KL: 176.2817\n",
      "INFO:scDualGN.run:Epoch 41/50,Overall loss:2708.7236,MSE:540.4719,MSE1:0.6893,KL: 180.3540\n",
      "INFO:scDualGN.run:Epoch 42/50,Overall loss:2697.7714,MSE:538.3080,MSE1:0.6354,KL: 184.4766\n",
      "INFO:scDualGN.run:Epoch 43/50,Overall loss:2689.4292,MSE:536.6643,MSE1:0.5840,KL: 188.5908\n",
      "INFO:scDualGN.run:Epoch 44/50,Overall loss:2681.2173,MSE:535.0436,MSE1:0.5366,KL: 192.6510\n",
      "INFO:scDualGN.run:Epoch 45/50,Overall loss:2673.7424,MSE:533.5674,MSE1:0.4931,KL: 196.6515\n",
      "INFO:scDualGN.run:Epoch 46/50,Overall loss:2664.6430,MSE:531.7635,MSE1:0.4533,KL: 200.6203\n",
      "INFO:scDualGN.run:Epoch 47/50,Overall loss:2656.9110,MSE:530.2309,MSE1:0.4166,KL: 204.5093\n",
      "INFO:scDualGN.run:Epoch 48/50,Overall loss:2650.0837,MSE:528.8776,MSE1:0.3821,KL: 208.3482\n",
      "INFO:scDualGN.run:Epoch 49/50,Overall loss:2641.3601,MSE:527.1423,MSE1:0.3518,KL: 212.0836\n",
      "INFO:scDualGN.run:dual-VAE pretrain finished!\n",
      "INFO:scDualGN.run:obtain daul-VAE z-vector and x_bar\n",
      "INFO:scDualGN.run:perform kmeans to cluster....\n",
      "INFO:scDualGN.run:training scDualGN...\n",
      "INFO:scDualGN.run:epoch 1/30\n",
      "INFO:scDualGN.evalution:acc=0.7063, nmi=0.7393, ari=2.6290\n",
      "INFO:scDualGN.run:Epoch 1/30, Loss - overall: 2635.8837,daul_VAE:2635.8628,KL:0.0114,Center:95.3627\n",
      "INFO:scDualGN.run:Epoch 2/30, Loss - overall: 2633.8992,daul_VAE:2633.8784,KL:0.0113,Center:94.7966\n",
      "INFO:scDualGN.run:Epoch 3/30, Loss - overall: 2627.8327,daul_VAE:2627.8120,KL:0.0112,Center:94.2368\n",
      "INFO:scDualGN.run:Epoch 4/30, Loss - overall: 2630.1254,daul_VAE:2630.1049,KL:0.0112,Center:93.7631\n",
      "INFO:scDualGN.run:Epoch 5/30, Loss - overall: 2625.2131,daul_VAE:2625.1927,KL:0.0111,Center:93.2374\n",
      "INFO:scDualGN.run:epoch 6/30\n",
      "INFO:scDualGN.evalution:acc=0.7104, nmi=0.7392, ari=-1.4086\n",
      "INFO:scDualGN.run:Epoch 6/30, Loss - overall: 2620.3810,daul_VAE:2620.3602,KL:0.0115,Center:92.5046\n",
      "INFO:scDualGN.run:Epoch 7/30, Loss - overall: 2618.5108,daul_VAE:2618.4900,KL:0.0115,Center:92.0178\n",
      "INFO:scDualGN.run:Epoch 8/30, Loss - overall: 2614.7946,daul_VAE:2614.7741,KL:0.0114,Center:91.5778\n",
      "INFO:scDualGN.run:Epoch 9/30, Loss - overall: 2613.5406,daul_VAE:2613.5202,KL:0.0113,Center:91.0764\n",
      "INFO:scDualGN.run:Epoch 10/30, Loss - overall: 2612.3981,daul_VAE:2612.3778,KL:0.0112,Center:90.5717\n",
      "INFO:scDualGN.run:epoch 11/30\n",
      "INFO:scDualGN.evalution:acc=0.7143, nmi=0.7393, ari=1.4573\n",
      "INFO:scDualGN.run:Epoch 11/30, Loss - overall: 2609.7250,daul_VAE:2609.7043,KL:0.0117,Center:89.9620\n",
      "INFO:scDualGN.run:Epoch 12/30, Loss - overall: 2610.6877,daul_VAE:2610.6670,KL:0.0116,Center:89.4895\n",
      "INFO:scDualGN.run:Epoch 13/30, Loss - overall: 2601.7127,daul_VAE:2601.6924,KL:0.0115,Center:88.9679\n",
      "INFO:scDualGN.run:Epoch 14/30, Loss - overall: 2599.6014,daul_VAE:2599.5812,KL:0.0115,Center:88.5059\n",
      "INFO:scDualGN.run:Epoch 15/30, Loss - overall: 2595.4720,daul_VAE:2595.4518,KL:0.0114,Center:88.0215\n",
      "INFO:scDualGN.run:epoch 16/30\n",
      "INFO:scDualGN.evalution:acc=0.7159, nmi=0.7388, ari=2.0463\n",
      "INFO:scDualGN.run:Epoch 16/30, Loss - overall: 2597.4056,daul_VAE:2597.3850,KL:0.0117,Center:87.4014\n",
      "INFO:scDualGN.run:Epoch 17/30, Loss - overall: 2591.1924,daul_VAE:2591.1719,KL:0.0117,Center:86.9262\n",
      "INFO:scDualGN.run:Epoch 18/30, Loss - overall: 2591.2865,daul_VAE:2591.2663,KL:0.0116,Center:86.5750\n",
      "INFO:scDualGN.run:Epoch 19/30, Loss - overall: 2586.4424,daul_VAE:2586.4222,KL:0.0116,Center:86.0670\n",
      "INFO:scDualGN.run:Epoch 20/30, Loss - overall: 2588.6651,daul_VAE:2588.6450,KL:0.0115,Center:85.6738\n",
      "INFO:scDualGN.run:epoch 21/30\n",
      "INFO:scDualGN.evalution:acc=0.7191, nmi=0.7381, ari=1.2286\n",
      "INFO:scDualGN.run:Epoch 21/30, Loss - overall: 2585.0424,daul_VAE:2585.0220,KL:0.0119,Center:85.0426\n",
      "INFO:scDualGN.run:Epoch 22/30, Loss - overall: 2581.4378,daul_VAE:2581.4175,KL:0.0118,Center:84.6314\n",
      "INFO:scDualGN.run:Epoch 23/30, Loss - overall: 2582.0015,daul_VAE:2581.9813,KL:0.0118,Center:84.2613\n",
      "INFO:scDualGN.run:Epoch 24/30, Loss - overall: 2575.6093,daul_VAE:2575.5893,KL:0.0117,Center:83.8255\n"
     ]
    }
   ],
   "source": [
    "#kmeans\n",
    "start = time.time()\n",
    "z_final, y_pred_lab, model = scDualGN.run_scDualGN(adata, n_cluster=18,n_z=32,n_epoch_update_pq=5, n_epochs=30,alpha_dualvae=0.02,beta_daulvae=5,gamma_dualvae=4,GPU_id=2)\n",
    "end = time.time()\n",
    "\n",
    "print('running time = {}'.format(end-start))"
   ]
  },
  {
   "cell_type": "code",
   "execution_count": null,
   "metadata": {},
   "outputs": [],
   "source": [
    "#leiden\n",
    "start = time.time()\n",
    "z_final, y_pred_lab, model = scDualGN.run_scDualGN(adata,n_z=32,n_epoch_update_pq=5, n_epochs=30,alpha_dualvae=0.02,beta_daulvae=5,gamma_dualvae=4,GPU_id=2,n_neighbors=50)\n",
    "end = time.time()\n",
    "\n",
    "print('running time = {}'.format(end-start))"
   ]
  },
  {
   "cell_type": "code",
   "execution_count": null,
   "metadata": {},
   "outputs": [],
   "source": []
  },
  {
   "cell_type": "code",
   "execution_count": null,
   "metadata": {},
   "outputs": [],
   "source": []
  },
  {
   "cell_type": "code",
   "execution_count": null,
   "metadata": {},
   "outputs": [],
   "source": []
  }
 ],
 "metadata": {
  "kernelspec": {
   "display_name": "pytorch1.6",
   "language": "python",
   "name": "pytorch1.6"
  },
  "language_info": {
   "codemirror_mode": {
    "name": "ipython",
    "version": 3
   },
   "file_extension": ".py",
   "mimetype": "text/x-python",
   "name": "python",
   "nbconvert_exporter": "python",
   "pygments_lexer": "ipython3",
   "version": "3.6.13"
  }
 },
 "nbformat": 4,
 "nbformat_minor": 4
}
