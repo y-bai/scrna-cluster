{
 "cells": [
  {
   "cell_type": "code",
   "execution_count": 1,
   "metadata": {},
   "outputs": [],
   "source": [
    "import os\n",
    "import numpy as np\n",
    "import pandas as pd\n",
    "import random\n",
    "import time\n",
    "import scanpy as sc\n",
    "import torch\n",
    "\n",
    "import warnings\n",
    "warnings.filterwarnings('ignore')\n",
    "import logging\n",
    "logging.basicConfig(level=logging.INFO)\n",
    "import scDualGN\n",
    "\n",
    "def seed_torch(seed=666):\n",
    "    random.seed(seed)\n",
    "    os.environ['PYTHONHASHSEED'] = str(seed)\n",
    "    np.random.seed(seed)\n",
    "    torch.manual_seed(seed)\n",
    "    torch.cuda.manual_seed(seed)\n",
    "    torch.cuda.manual_seed_all(seed) # if you are using multi-GPU.\n",
    "    torch.backends.cudnn.benchmark = False\n",
    "    torch.backends.cudnn.deterministic = True\n",
    "    torch.backends.cudnn.enabled = False\n",
    "seed_torch()"
   ]
  },
  {
   "cell_type": "code",
   "execution_count": 2,
   "metadata": {},
   "outputs": [],
   "source": [
    "adata = sc.read_h5ad('/media/bgi/zhouruilong/single-cell-cluster/DESC/my_model/experiment_result/smrrd/code/our_model/Young.h5ad')"
   ]
  },
  {
   "cell_type": "code",
   "execution_count": 3,
   "metadata": {},
   "outputs": [],
   "source": [
    "sc.pp.filter_cells(adata, min_counts=200)\n",
    "sc.pp.filter_genes(adata, min_cells=10)\n",
    "sc.pp.normalize_total(adata)\n",
    "sc.pp.log1p(adata)\n",
    "sc.pp.highly_variable_genes(adata, n_top_genes=2500)\n",
    "adata = adata[:, adata.var.highly_variable]\n",
    "sc.pp.scale(adata, max_value=10)"
   ]
  },
  {
   "cell_type": "code",
   "execution_count": null,
   "metadata": {},
   "outputs": [
    {
     "name": "stderr",
     "output_type": "stream",
     "text": [
      "INFO:scDualGN.run:device: cuda:1\n"
     ]
    },
    {
     "name": "stdout",
     "output_type": "stream",
     "text": [
      "0.001\n"
     ]
    },
    {
     "name": "stderr",
     "output_type": "stream",
     "text": [
      "INFO:scDualGN.run:pretrain device: cuda:1\n",
      "INFO:scDualGN.run:start pretraining...\n",
      "INFO:scDualGN.run:Epoch 0/100,Overall loss:36168.1253,MSE:1788.2401,MSE1:201.5364,KL: 24.8882\n",
      "INFO:scDualGN.run:Epoch 1/100,Overall loss:31978.4362,MSE:1595.7800,MSE1:31.1302,KL: 57.5854\n",
      "INFO:scDualGN.run:Epoch 2/100,Overall loss:30790.2065,MSE:1538.2772,MSE1:11.9152,KL: 83.2454\n",
      "INFO:scDualGN.run:Epoch 3/100,Overall loss:30055.8826,MSE:1501.9511,MSE1:7.9336,KL: 99.3995\n",
      "INFO:scDualGN.run:Epoch 4/100,Overall loss:29962.5758,MSE:1497.4159,MSE1:6.5756,KL: 110.5991\n",
      "INFO:scDualGN.run:Epoch 5/100,Overall loss:29759.1662,MSE:1487.3659,MSE1:5.3199,KL: 120.9050\n",
      "INFO:scDualGN.run:Epoch 6/100,Overall loss:29533.0339,MSE:1476.1685,MSE1:4.1776,KL: 130.8305\n",
      "INFO:scDualGN.run:Epoch 7/100,Overall loss:29262.4531,MSE:1462.6953,MSE1:3.5862,KL: 137.4315\n",
      "INFO:scDualGN.run:Epoch 8/100,Overall loss:29155.0602,MSE:1457.3593,MSE1:3.2217,KL: 143.2127\n",
      "INFO:scDualGN.run:Epoch 9/100,Overall loss:28697.4788,MSE:1434.5335,MSE1:2.6481,KL: 151.1670\n",
      "INFO:scDualGN.run:Epoch 10/100,Overall loss:28959.6481,MSE:1447.6596,MSE1:2.4511,KL: 155.3859\n",
      "INFO:scDualGN.run:Epoch 11/100,Overall loss:28634.7082,MSE:1431.4443,MSE1:2.1024,KL: 161.8592\n",
      "INFO:scDualGN.run:Epoch 12/100,Overall loss:28514.3132,MSE:1425.4434,MSE1:1.8911,KL: 166.3524\n",
      "INFO:scDualGN.run:Epoch 13/100,Overall loss:28406.4989,MSE:1420.0656,MSE1:1.7419,KL: 170.3098\n",
      "INFO:scDualGN.run:Epoch 14/100,Overall loss:28350.0791,MSE:1417.2545,MSE1:1.6216,KL: 174.5204\n",
      "INFO:scDualGN.run:Epoch 15/100,Overall loss:28308.6343,MSE:1415.1994,MSE1:1.4253,KL: 179.6512\n",
      "INFO:scDualGN.run:Epoch 16/100,Overall loss:28191.7969,MSE:1409.3657,MSE1:1.3211,KL: 184.0492\n",
      "INFO:scDualGN.run:Epoch 17/100,Overall loss:27994.6826,MSE:1399.5199,MSE1:1.1990,KL: 188.7880\n",
      "INFO:scDualGN.run:Epoch 18/100,Overall loss:27881.3060,MSE:1393.8551,MSE1:1.1416,KL: 192.1377\n",
      "INFO:scDualGN.run:Epoch 19/100,Overall loss:27838.1265,MSE:1391.7065,MSE1:1.0168,KL: 196.3937\n",
      "INFO:scDualGN.run:Epoch 20/100,Overall loss:27568.9147,MSE:1378.2522,MSE1:0.9338,KL: 200.2135\n",
      "INFO:scDualGN.run:Epoch 21/100,Overall loss:27473.7767,MSE:1373.5008,MSE1:0.8572,KL: 204.6392\n",
      "INFO:scDualGN.run:Epoch 22/100,Overall loss:27555.5076,MSE:1377.5928,MSE1:0.7831,KL: 208.5798\n",
      "INFO:scDualGN.run:Epoch 23/100,Overall loss:27608.3594,MSE:1380.2390,MSE1:0.7318,KL: 211.6792\n",
      "INFO:scDualGN.run:Epoch 24/100,Overall loss:27612.2886,MSE:1380.4389,MSE1:0.6795,KL: 215.2454\n",
      "INFO:scDualGN.run:Epoch 25/100,Overall loss:27308.8123,MSE:1365.2678,MSE1:0.6332,KL: 218.9484\n",
      "INFO:scDualGN.run:Epoch 26/100,Overall loss:27346.8325,MSE:1367.1713,MSE1:0.5877,KL: 223.0807\n",
      "INFO:scDualGN.run:Epoch 27/100,Overall loss:27038.7124,MSE:1351.7666,MSE1:0.5561,KL: 226.8969\n",
      "INFO:scDualGN.run:Epoch 28/100,Overall loss:27150.3534,MSE:1357.3513,MSE1:0.5135,KL: 230.1323\n",
      "INFO:scDualGN.run:Epoch 29/100,Overall loss:27053.6991,MSE:1352.5212,MSE1:0.4680,KL: 233.8284\n",
      "INFO:scDualGN.run:Epoch 30/100,Overall loss:26881.7894,MSE:1343.9262,MSE1:0.4452,KL: 237.3612\n",
      "INFO:scDualGN.run:Epoch 31/100,Overall loss:26988.6956,MSE:1349.2724,MSE1:0.4220,KL: 240.4890\n",
      "INFO:scDualGN.run:Epoch 32/100,Overall loss:26905.6912,MSE:1345.1235,MSE1:0.3916,KL: 243.7286\n",
      "INFO:scDualGN.run:Epoch 33/100,Overall loss:26768.3937,MSE:1338.2585,MSE1:0.3789,KL: 246.6189\n",
      "INFO:scDualGN.run:Epoch 34/100,Overall loss:26698.6104,MSE:1334.7706,MSE1:0.3487,KL: 250.0636\n",
      "INFO:scDualGN.run:Epoch 35/100,Overall loss:26595.3953,MSE:1329.6098,MSE1:0.3341,KL: 253.0373\n",
      "INFO:scDualGN.run:Epoch 36/100,Overall loss:26612.6634,MSE:1330.4733,MSE1:0.3185,KL: 256.0316\n",
      "INFO:scDualGN.run:Epoch 37/100,Overall loss:26410.5216,MSE:1320.3668,MSE1:0.2967,KL: 259.1758\n",
      "INFO:scDualGN.run:Epoch 38/100,Overall loss:26439.0355,MSE:1321.7926,MSE1:0.2799,KL: 262.2823\n",
      "INFO:scDualGN.run:Epoch 39/100,Overall loss:26303.5835,MSE:1315.0198,MSE1:0.2708,KL: 264.6834\n",
      "INFO:scDualGN.run:Epoch 40/100,Overall loss:26166.9741,MSE:1308.1885,MSE1:0.2660,KL: 267.2294\n",
      "INFO:scDualGN.run:Epoch 41/100,Overall loss:26312.8460,MSE:1315.4824,MSE1:0.2486,KL: 270.0913\n",
      "INFO:scDualGN.run:Epoch 42/100,Overall loss:26278.8530,MSE:1313.7823,MSE1:0.2433,KL: 272.0863\n",
      "INFO:scDualGN.run:Epoch 43/100,Overall loss:26180.7318,MSE:1308.8761,MSE1:0.2302,KL: 274.9076\n",
      "INFO:scDualGN.run:Epoch 44/100,Overall loss:26244.7547,MSE:1312.0770,MSE1:0.2221,KL: 277.1214\n",
      "INFO:scDualGN.run:Epoch 45/100,Overall loss:26174.3543,MSE:1308.5567,MSE1:0.2106,KL: 280.0398\n",
      "INFO:scDualGN.run:Epoch 46/100,Overall loss:25862.7021,MSE:1292.9735,MSE1:0.2058,KL: 281.9762\n",
      "INFO:scDualGN.run:Epoch 47/100,Overall loss:25947.1637,MSE:1297.1965,MSE1:0.1932,KL: 284.7072\n",
      "INFO:scDualGN.run:Epoch 48/100,Overall loss:25888.4850,MSE:1294.2621,MSE1:0.1872,KL: 286.8839\n",
      "INFO:scDualGN.run:Epoch 49/100,Overall loss:25836.4959,MSE:1291.6620,MSE1:0.1824,KL: 289.2423\n",
      "INFO:scDualGN.run:Epoch 50/100,Overall loss:25880.7817,MSE:1293.8758,MSE1:0.1795,KL: 290.7539\n",
      "INFO:scDualGN.run:Epoch 51/100,Overall loss:25713.3547,MSE:1285.5040,MSE1:0.1698,KL: 293.4639\n",
      "INFO:scDualGN.run:Epoch 52/100,Overall loss:25970.1709,MSE:1298.3438,MSE1:0.1705,KL: 295.2593\n",
      "INFO:scDualGN.run:Epoch 53/100,Overall loss:25485.7874,MSE:1274.1242,MSE1:0.1649,KL: 297.5065\n",
      "INFO:scDualGN.run:Epoch 54/100,Overall loss:25588.5216,MSE:1279.2603,MSE1:0.1601,KL: 299.4607\n"
     ]
    }
   ],
   "source": [
    "#kmeans\n",
    "start = time.time()\n",
    "z_final, y_pred_lab, model = scDualGN.run_scDualGN(adata, batch_size=1500,n_cluster=11,n_z=32,n_epoch_update_pq=5,alpha_dualvae=0.01, beta_daulvae=20, gamma_dualvae=2,\n",
    "                                                   n_epochs=50,GPU_id=1,beta_centerloss=0.01)\n",
    "end = time.time()\n",
    "\n",
    "print('running time = {}'.format(end-start))"
   ]
  },
  {
   "cell_type": "code",
   "execution_count": null,
   "metadata": {},
   "outputs": [],
   "source": []
  }
 ],
 "metadata": {
  "kernelspec": {
   "display_name": "Python 3 (ipykernel)",
   "language": "python",
   "name": "python3"
  },
  "language_info": {
   "codemirror_mode": {
    "name": "ipython",
    "version": 3
   },
   "file_extension": ".py",
   "mimetype": "text/x-python",
   "name": "python",
   "nbconvert_exporter": "python",
   "pygments_lexer": "ipython3",
   "version": "3.8.13"
  }
 },
 "nbformat": 4,
 "nbformat_minor": 4
}
