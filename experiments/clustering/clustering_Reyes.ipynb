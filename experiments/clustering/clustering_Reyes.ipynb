{
 "cells": [
  {
   "cell_type": "code",
   "execution_count": 1,
   "metadata": {},
   "outputs": [
    {
     "name": "stderr",
     "output_type": "stream",
     "text": [
      "/jdfssz1/ST_HEALTH/P18Z10200N0124/AI/user/baiyong/anaconda3/envs/mytorch/lib/python3.8/site-packages/tqdm/auto.py:22: TqdmWarning: IProgress not found. Please update jupyter and ipywidgets. See https://ipywidgets.readthedocs.io/en/stable/user_install.html\n",
      "  from .autonotebook import tqdm as notebook_tqdm\n"
     ]
    }
   ],
   "source": [
    "import os\n",
    "import numpy as np\n",
    "import pandas as pd\n",
    "import time\n",
    "import scanpy as sc\n",
    "import torch\n",
    "\n",
    "import warnings\n",
    "warnings.filterwarnings('ignore')\n",
    "import logging\n",
    "logging.basicConfig(level=logging.INFO)\n",
    "\n",
    "import sys\n",
    "sys.path.append('../../')\n",
    "import scDualGN\n",
    "sys.path.append('../')\n",
    "import expri_helper"
   ]
  },
  {
   "cell_type": "code",
   "execution_count": 2,
   "metadata": {},
   "outputs": [],
   "source": [
    "dat_path = expri_helper.get_path('Reyes', dat_ls_file='../expri_data.json')"
   ]
  },
  {
   "cell_type": "code",
   "execution_count": 3,
   "metadata": {},
   "outputs": [],
   "source": [
    "#load data\n",
    "adata = sc.read_h5ad(dat_path)\n",
    "adata.obs['celltype'] = adata.obs['cell_type']\n",
    "adata.obs['celltype_str'] = adata.obs['cell_type']\n",
    "\n",
    "cell_type_dict = {'T':0, 'B':1, 'NK':2, 'Mono':3, 'DC':4} \n",
    "adata.obs['celltype'] = adata.obs['celltype'].map(cell_type_dict)\n",
    "\n",
    "# arr = np.array(adata.obs['celltype'])\n",
    "# np.place(arr,arr=='T',[0])\n",
    "# np.place(arr,arr=='B',[1])\n",
    "# np.place(arr,arr=='NK',[2])\n",
    "# np.place(arr,arr=='Mono',[3])\n",
    "# np.place(arr,arr=='DC',[4])\n",
    "\n",
    "\n",
    "# arr = arr.astype(np.int32)\n",
    "# adata.obs['celltype'] = arr"
   ]
  },
  {
   "cell_type": "code",
   "execution_count": 4,
   "metadata": {},
   "outputs": [],
   "source": [
    "sc.pp.filter_cells(adata, min_counts=100)\n",
    "sc.pp.filter_genes(adata, min_cells=3)\n",
    "sc.pp.normalize_total(adata,target_sum=1e4)\n",
    "sc.pp.log1p(adata)\n",
    "sc.pp.highly_variable_genes(adata, n_top_genes=2500)\n",
    "adata = adata[:, adata.var.highly_variable]\n",
    "    #adata.X = minmax_scale(adata.X, feature_range=(0, 1), axis=1, copy=False)\n",
    "sc.pp.scale(adata,max_value=10)"
   ]
  },
  {
   "cell_type": "code",
   "execution_count": 5,
   "metadata": {},
   "outputs": [
    {
     "name": "stderr",
     "output_type": "stream",
     "text": [
      "INFO:scDualGN.run:dual-VAE pretrain start...\n"
     ]
    },
    {
     "name": "stdout",
     "output_type": "stream",
     "text": [
      "=====================================\n",
      "lr:0.01, alpha:0.01, gamma:4, nu:0.01\n"
     ]
    },
    {
     "name": "stderr",
     "output_type": "stream",
     "text": [
      "INFO:scDualGN.run:Epoch 1/50,Overall loss:899.2846,MSE:711.3660,MSE1:45.8454,KL: 453.6833\n",
      "INFO:scDualGN.run:Epoch 2/50,Overall loss:582.0811,MSE:577.0937,MSE1:0.1274,KL: 447.7970\n",
      "INFO:scDualGN.run:Epoch 3/50,Overall loss:575.3424,MSE:571.5496,MSE1:0.1384,KL: 323.9254\n",
      "INFO:scDualGN.run:Epoch 4/50,Overall loss:570.7040,MSE:567.6257,MSE1:0.1387,KL: 252.3731\n",
      "INFO:scDualGN.run:Epoch 5/50,Overall loss:566.4607,MSE:563.7979,MSE1:0.1406,KL: 210.0189\n",
      "INFO:scDualGN.run:Epoch 6/50,Overall loss:563.3849,MSE:560.9553,MSE1:0.1427,KL: 185.8863\n",
      "INFO:scDualGN.run:Epoch 7/50,Overall loss:560.6461,MSE:558.3482,MSE1:0.1418,KL: 173.0623\n",
      "INFO:scDualGN.run:Epoch 8/50,Overall loss:558.6444,MSE:556.4227,MSE1:0.1402,KL: 166.0906\n",
      "INFO:scDualGN.run:Epoch 9/50,Overall loss:557.2219,MSE:555.0394,MSE1:0.1393,KL: 162.5446\n",
      "INFO:scDualGN.run:Epoch 10/50,Overall loss:556.4171,MSE:554.2519,MSE1:0.1386,KL: 161.1001\n",
      "INFO:scDualGN.run:Epoch 11/50,Overall loss:566.2531,MSE:564.1449,MSE1:0.1419,KL: 154.0787\n",
      "INFO:scDualGN.run:Epoch 12/50,Overall loss:555.9719,MSE:554.0127,MSE1:0.1275,KL: 144.9192\n",
      "INFO:scDualGN.run:Epoch 13/50,Overall loss:551.2278,MSE:549.3681,MSE1:0.1185,KL: 138.5574\n",
      "INFO:scDualGN.run:Epoch 14/50,Overall loss:547.1912,MSE:545.4011,MSE1:0.1088,KL: 135.4990\n",
      "INFO:scDualGN.run:Epoch 15/50,Overall loss:543.1328,MSE:541.3880,MSE1:0.1020,KL: 133.6699\n",
      "INFO:scDualGN.run:Epoch 16/50,Overall loss:539.7123,MSE:537.9935,MSE1:0.0980,KL: 132.6891\n",
      "INFO:scDualGN.run:Epoch 17/50,Overall loss:536.8197,MSE:535.1144,MSE1:0.0958,KL: 132.2104\n",
      "INFO:scDualGN.run:Epoch 18/50,Overall loss:534.7414,MSE:533.0451,MSE1:0.0937,KL: 132.1418\n",
      "INFO:scDualGN.run:Epoch 19/50,Overall loss:533.4305,MSE:531.7392,MSE1:0.0923,KL: 132.1886\n",
      "INFO:scDualGN.run:Epoch 20/50,Overall loss:532.7056,MSE:531.0158,MSE1:0.0920,KL: 132.1970\n",
      "INFO:scDualGN.run:Epoch 21/50,Overall loss:534.6546,MSE:532.9808,MSE1:0.0836,KL: 133.9324\n",
      "INFO:scDualGN.run:Epoch 22/50,Overall loss:529.2775,MSE:527.6206,MSE1:0.0724,KL: 136.7291\n",
      "INFO:scDualGN.run:Epoch 23/50,Overall loss:523.9800,MSE:522.3355,MSE1:0.0633,KL: 139.1078\n",
      "INFO:scDualGN.run:Epoch 24/50,Overall loss:519.3396,MSE:517.7032,MSE1:0.0584,KL: 140.2790\n",
      "INFO:scDualGN.run:Epoch 25/50,Overall loss:515.2353,MSE:513.6063,MSE1:0.0544,KL: 141.1555\n",
      "INFO:scDualGN.run:Epoch 26/50,Overall loss:511.9809,MSE:510.3548,MSE1:0.0520,KL: 141.8288\n",
      "INFO:scDualGN.run:Epoch 27/50,Overall loss:509.2010,MSE:507.5779,MSE1:0.0503,KL: 142.1798\n",
      "INFO:scDualGN.run:Epoch 28/50,Overall loss:507.2086,MSE:505.5879,MSE1:0.0496,KL: 142.2242\n",
      "INFO:scDualGN.run:Epoch 29/50,Overall loss:505.9631,MSE:504.3431,MSE1:0.0494,KL: 142.2418\n",
      "INFO:scDualGN.run:Epoch 30/50,Overall loss:505.1912,MSE:503.5717,MSE1:0.0493,KL: 142.2208\n",
      "INFO:scDualGN.run:Epoch 31/50,Overall loss:508.6551,MSE:507.0387,MSE1:0.0435,KL: 144.2330\n",
      "INFO:scDualGN.run:Epoch 32/50,Overall loss:504.6175,MSE:502.9968,MSE1:0.0390,KL: 146.4874\n",
      "INFO:scDualGN.run:Epoch 33/50,Overall loss:500.6467,MSE:499.0174,MSE1:0.0358,KL: 148.5969\n",
      "INFO:scDualGN.run:Epoch 34/50,Overall loss:496.4562,MSE:494.8296,MSE1:0.0365,KL: 148.0652\n",
      "INFO:scDualGN.run:Epoch 35/50,Overall loss:492.6075,MSE:490.9833,MSE1:0.0368,KL: 147.6956\n",
      "INFO:scDualGN.run:Epoch 36/50,Overall loss:489.4739,MSE:487.8517,MSE1:0.0374,KL: 147.2758\n",
      "INFO:scDualGN.run:Epoch 37/50,Overall loss:486.8177,MSE:485.1970,MSE1:0.0377,KL: 146.9944\n",
      "INFO:scDualGN.run:Epoch 38/50,Overall loss:484.8953,MSE:483.2757,MSE1:0.0380,KL: 146.7394\n",
      "INFO:scDualGN.run:Epoch 39/50,Overall loss:483.4795,MSE:481.8596,MSE1:0.0386,KL: 146.5744\n",
      "INFO:scDualGN.run:Epoch 40/50,Overall loss:482.7300,MSE:481.1105,MSE1:0.0388,KL: 146.4406\n",
      "INFO:scDualGN.run:Epoch 41/50,Overall loss:488.3799,MSE:486.7569,MSE1:0.0336,KL: 148.8643\n",
      "INFO:scDualGN.run:Epoch 42/50,Overall loss:485.3706,MSE:483.7393,MSE1:0.0324,KL: 150.1803\n",
      "INFO:scDualGN.run:Epoch 43/50,Overall loss:482.3072,MSE:480.6758,MSE1:0.0325,KL: 150.1387\n",
      "INFO:scDualGN.run:Epoch 44/50,Overall loss:479.0605,MSE:477.4303,MSE1:0.0335,KL: 149.6295\n",
      "INFO:scDualGN.run:Epoch 45/50,Overall loss:476.2032,MSE:474.5790,MSE1:0.0348,KL: 148.4789\n",
      "INFO:scDualGN.run:Epoch 46/50,Overall loss:473.9096,MSE:472.2868,MSE1:0.0350,KL: 148.2807\n",
      "INFO:scDualGN.run:Epoch 47/50,Overall loss:471.8997,MSE:470.2781,MSE1:0.0352,KL: 148.0721\n",
      "INFO:scDualGN.run:Epoch 48/50,Overall loss:470.2358,MSE:468.6146,MSE1:0.0359,KL: 147.7648\n",
      "INFO:scDualGN.run:Epoch 49/50,Overall loss:468.9310,MSE:467.3104,MSE1:0.0364,KL: 147.5096\n",
      "INFO:scDualGN.run:Epoch 50/50,Overall loss:468.1830,MSE:466.5633,MSE1:0.0365,KL: 147.3844\n",
      "INFO:scDualGN.run:dual-VAE pretrain finished\n",
      "INFO:scDualGN.run:obtain daul-VAE z-vector and x_bar\n",
      "INFO:scDualGN.run:perform kmeans to initially cluster....\n",
      "INFO:faiss.loader:Loading faiss with AVX2 support.\n",
      "INFO:faiss.loader:Successfully loaded faiss with AVX2 support.\n",
      "INFO:scDualGN.run:initial n cluster: 5\n",
      "INFO:scDualGN.run:perform clustering using scDualGN iteratively...\n",
      "INFO:scDualGN.evalution:acc 0.8303, nmi 0.7126, ari 0.7913, hs 0.7230, cs 0.7025, purity: 0.8315\n",
      "INFO:scDualGN.run:Epoch 1/50, Loss - overall: 476.5832,daul_VAE:475.6454,KL:0.0178,Center:0.9200\n",
      "INFO:scDualGN.run:Epoch 2/50, Loss - overall: 473.6457,daul_VAE:472.4056,KL:0.0236,Center:1.2165\n",
      "INFO:scDualGN.run:Epoch 3/50, Loss - overall: 469.9828,daul_VAE:468.8828,KL:0.0220,Center:1.0781\n",
      "INFO:scDualGN.evalution:acc 0.8197, nmi 0.7129, ari 0.7841, hs 0.7261, cs 0.7002, purity: 0.8346\n",
      "INFO:scDualGN.run:Epoch 4/50, Loss - overall: 468.9002,daul_VAE:467.9465,KL:0.0135,Center:0.9401\n",
      "INFO:scDualGN.run:Epoch 5/50, Loss - overall: 468.4590,daul_VAE:467.5564,KL:0.0130,Center:0.8895\n",
      "INFO:scDualGN.run:Epoch 6/50, Loss - overall: 468.7498,daul_VAE:467.9241,KL:0.0126,Center:0.8132\n",
      "INFO:scDualGN.evalution:acc 0.8245, nmi 0.7072, ari 0.7842, hs 0.7178, cs 0.6969, purity: 0.8312\n",
      "INFO:scDualGN.run:Epoch 7/50, Loss - overall: 468.5342,daul_VAE:467.8012,KL:0.0150,Center:0.7179\n",
      "INFO:scDualGN.run:Epoch 8/50, Loss - overall: 468.3318,daul_VAE:467.6478,KL:0.0149,Center:0.6691\n",
      "INFO:scDualGN.run:Epoch 9/50, Loss - overall: 468.0702,daul_VAE:467.4119,KL:0.0150,Center:0.6433\n",
      "INFO:scDualGN.evalution:acc 0.8373, nmi 0.7065, ari 0.7945, hs 0.7132, cs 0.6998, purity: 0.8373\n",
      "INFO:scDualGN.run:Epoch 10/50, Loss - overall: 467.7946,daul_VAE:467.1577,KL:0.0160,Center:0.6209\n",
      "INFO:scDualGN.run:Epoch 11/50, Loss - overall: 467.6109,daul_VAE:466.9969,KL:0.0161,Center:0.5979\n",
      "INFO:scDualGN.run:Epoch 12/50, Loss - overall: 467.3695,daul_VAE:466.7732,KL:0.0161,Center:0.5802\n",
      "INFO:scDualGN.evalution:acc 0.8406, nmi 0.7038, ari 0.7958, hs 0.7083, cs 0.6993, purity: 0.8406\n",
      "INFO:scDualGN.run:Epoch 13/50, Loss - overall: 467.2572,daul_VAE:466.6763,KL:0.0156,Center:0.5653\n",
      "INFO:scDualGN.run:Epoch 14/50, Loss - overall: 467.0649,daul_VAE:466.4949,KL:0.0157,Center:0.5543\n",
      "INFO:scDualGN.run:Epoch 15/50, Loss - overall: 466.9286,daul_VAE:466.3672,KL:0.0157,Center:0.5457\n",
      "INFO:scDualGN.evalution:acc 0.8437, nmi 0.6993, ari 0.7956, hs 0.7011, cs 0.6975, purity: 0.8437\n",
      "INFO:scDualGN.run:Epoch 16/50, Loss - overall: 466.8078,daul_VAE:466.2538,KL:0.0155,Center:0.5385\n",
      "INFO:scDualGN.run:Epoch 17/50, Loss - overall: 466.7202,daul_VAE:466.1707,KL:0.0155,Center:0.5339\n",
      "INFO:scDualGN.run:Epoch 18/50, Loss - overall: 466.6633,daul_VAE:466.1163,KL:0.0155,Center:0.5314\n",
      "INFO:scDualGN.evalution:acc 0.8447, nmi 0.6988, ari 0.7957, hs 0.7001, cs 0.6975, purity: 0.8447\n",
      "INFO:scDualGN.run:Epoch 19/50, Loss - overall: 466.6119,daul_VAE:466.0668,KL:0.0156,Center:0.5295\n",
      "INFO:scDualGN.run:Epoch 20/50, Loss - overall: 466.5850,daul_VAE:466.0403,KL:0.0156,Center:0.5290\n",
      "INFO:scDualGN.run:Epoch 21/50, Loss - overall: 467.4388,daul_VAE:466.8946,KL:0.0156,Center:0.5287\n",
      "INFO:scDualGN.evalution:acc 0.8467, nmi 0.6977, ari 0.7973, hs 0.6978, cs 0.6976, purity: 0.8467\n",
      "INFO:scDualGN.run:Epoch 22/50, Loss - overall: 467.3130,daul_VAE:466.7653,KL:0.0154,Center:0.5323\n",
      "INFO:scDualGN.run:Epoch 23/50, Loss - overall: 467.5236,daul_VAE:466.9665,KL:0.0156,Center:0.5415\n",
      "INFO:scDualGN.run:Epoch 24/50, Loss - overall: 467.1340,daul_VAE:466.5733,KL:0.0157,Center:0.5451\n",
      "INFO:scDualGN.evalution:acc 0.8455, nmi 0.6984, ari 0.7956, hs 0.6995, cs 0.6974, purity: 0.8455\n",
      "INFO:scDualGN.run:Epoch 25/50, Loss - overall: 466.8544,daul_VAE:466.3016,KL:0.0156,Center:0.5372\n",
      "INFO:scDualGN.run:Epoch 26/50, Loss - overall: 466.7919,daul_VAE:466.2531,KL:0.0157,Center:0.5232\n",
      "INFO:scDualGN.run:Epoch 27/50, Loss - overall: 466.6218,daul_VAE:466.0911,KL:0.0157,Center:0.5149\n",
      "INFO:scDualGN.evalution:acc 0.8457, nmi 0.6962, ari 0.7963, hs 0.6960, cs 0.6964, purity: 0.8457\n",
      "INFO:scDualGN.run:Epoch 28/50, Loss - overall: 466.7240,daul_VAE:466.1997,KL:0.0150,Center:0.5093\n",
      "INFO:scDualGN.run:Epoch 29/50, Loss - overall: 466.4066,daul_VAE:465.8814,KL:0.0151,Center:0.5101\n",
      "INFO:scDualGN.run:Epoch 30/50, Loss - overall: 466.1772,daul_VAE:465.6605,KL:0.0151,Center:0.5016\n",
      "INFO:scDualGN.evalution:acc 0.8489, nmi 0.6977, ari 0.7994, hs 0.6956, cs 0.6997, purity: 0.8489\n",
      "INFO:scDualGN.run:Epoch 31/50, Loss - overall: 465.9925,daul_VAE:465.4894,KL:0.0153,Center:0.4878\n",
      "INFO:scDualGN.run:Epoch 32/50, Loss - overall: 465.8455,daul_VAE:465.3526,KL:0.0153,Center:0.4776\n",
      "INFO:scDualGN.run:Epoch 33/50, Loss - overall: 465.7722,daul_VAE:465.2859,KL:0.0154,Center:0.4709\n",
      "INFO:scDualGN.evalution:acc 0.8457, nmi 0.6901, ari 0.7927, hs 0.6869, cs 0.6933, purity: 0.8457\n",
      "INFO:scDualGN.run:Epoch 34/50, Loss - overall: 465.6076,daul_VAE:465.1287,KL:0.0151,Center:0.4638\n",
      "INFO:scDualGN.run:Epoch 35/50, Loss - overall: 465.4829,daul_VAE:465.0113,KL:0.0152,Center:0.4564\n",
      "INFO:scDualGN.run:Epoch 36/50, Loss - overall: 465.5303,daul_VAE:465.0625,KL:0.0152,Center:0.4526\n",
      "INFO:scDualGN.evalution:acc 0.8473, nmi 0.6865, ari 0.7915, hs 0.6801, cs 0.6931, purity: 0.8473\n",
      "INFO:scDualGN.run:Epoch 37/50, Loss - overall: 465.3378,daul_VAE:464.8725,KL:0.0151,Center:0.4502\n",
      "INFO:scDualGN.run:Epoch 38/50, Loss - overall: 465.2056,daul_VAE:464.7440,KL:0.0152,Center:0.4463\n",
      "INFO:scDualGN.run:Epoch 39/50, Loss - overall: 465.0969,daul_VAE:464.6391,KL:0.0152,Center:0.4426\n",
      "INFO:scDualGN.evalution:acc 0.8459, nmi 0.6842, ari 0.7893, hs 0.6776, cs 0.6909, purity: 0.8459\n",
      "INFO:scDualGN.run:Epoch 40/50, Loss - overall: 465.0190,daul_VAE:464.5651,KL:0.0152,Center:0.4387\n",
      "INFO:scDualGN.run:Epoch 41/50, Loss - overall: 464.9628,daul_VAE:464.5114,KL:0.0152,Center:0.4363\n",
      "INFO:scDualGN.run:Epoch 42/50, Loss - overall: 464.8135,daul_VAE:464.3653,KL:0.0153,Center:0.4329\n",
      "INFO:scDualGN.evalution:acc 0.8451, nmi 0.6807, ari 0.7860, hs 0.6735, cs 0.6880, purity: 0.8451\n",
      "INFO:scDualGN.run:Epoch 43/50, Loss - overall: 464.6242,daul_VAE:464.1781,KL:0.0154,Center:0.4306\n",
      "INFO:scDualGN.run:Epoch 44/50, Loss - overall: 464.5201,daul_VAE:464.0796,KL:0.0155,Center:0.4249\n",
      "INFO:scDualGN.run:Epoch 45/50, Loss - overall: 464.5048,daul_VAE:464.0685,KL:0.0156,Center:0.4207\n",
      "INFO:scDualGN.evalution:acc 0.8455, nmi 0.6784, ari 0.7859, hs 0.6689, cs 0.6881, purity: 0.8455\n",
      "INFO:scDualGN.run:Epoch 46/50, Loss - overall: 464.5481,daul_VAE:464.1157,KL:0.0147,Center:0.4178\n",
      "INFO:scDualGN.run:Epoch 47/50, Loss - overall: 464.3353,daul_VAE:463.9051,KL:0.0148,Center:0.4154\n",
      "INFO:scDualGN.run:Epoch 48/50, Loss - overall: 464.2545,daul_VAE:463.8269,KL:0.0148,Center:0.4128\n",
      "INFO:scDualGN.evalution:acc 0.8462, nmi 0.6789, ari 0.7865, hs 0.6686, cs 0.6896, purity: 0.8462\n",
      "INFO:scDualGN.run:Epoch 49/50, Loss - overall: 464.1552,daul_VAE:463.7309,KL:0.0152,Center:0.4091\n",
      "INFO:scDualGN.evalution:acc 0.8457, nmi 0.6759, ari 0.7845, hs 0.6652, cs 0.6870, purity: 0.8457\n",
      "INFO:scDualGN.run:Epoch 50/50, Loss - overall: 464.0848,daul_VAE:463.6629,KL:0.0151,Center:0.4068\n",
      "INFO:scDualGN.run:clustering finished.\n",
      "INFO:scDualGN.evalution:acc 0.8469, nmi 0.6785, ari 0.7868, hs 0.6673, cs 0.6900, purity: 0.8469\n"
     ]
    },
    {
     "name": "stdout",
     "output_type": "stream",
     "text": [
      "acc 0.8469, nmi 0.6785, ari 0.7868, hs 0.6673, cs 0.6900, purity: 0.8469\n",
      "running time = 668.2432432174683\n"
     ]
    }
   ],
   "source": [
    "#kmeans\n",
    "# acc=0.9019, nmi=0.7987, ari=0.8511\n",
    "# acc 0.8319, nmi 0.6950, ari 0.7245, hs 0.6274, cs 0.7789, purity: 0.8457\n",
    "start = time.time()\n",
    "# z_final, y_pred_lab, model = scDualGN.run_scDualGN(adata, n_cluster=5,n_z=32,n_epoch_update_pq=5, n_epochs=30,alpha_dualvae=0.025,beta_daulvae=20,gamma_dualvae=2,GPU_id=1)\n",
    "\n",
    "# acc 0.8272, nmi 0.6740, ari 0.7173, hs 0.6093, cs 0.7540, purity: 0.8428 batch_size=512, lr=0.001\n",
    "\n",
    "\n",
    "# scdualgn_model = scDualGN.scDualGN(adata, n_z=32,device='cuda:2', verbosity=True, batch_size=1024*10).pretrain(alpha=0.05, beta=20, gamma=4)\n",
    "# scdualgn_model.cluster(n_cluster=5, eta=1, nu=0.1, n_epochs=30)\n",
    "\n",
    "lr, alpha, gamma, nu = 0.01, 0.01, 4, 0.01\n",
    "print('=====================================')\n",
    "print('lr:{}, alpha:{}, gamma:{}, nu:{}'.format(lr, alpha, gamma, nu))\n",
    "start = time.time()\n",
    "torch.cuda.empty_cache()\n",
    "scdualgn_model = scDualGN.scDualGN(adata, n_z=32,device='cuda:1', batch_size=1024*8, verbosity=True, lr=lr).pretrain(alpha=alpha, beta=1, gamma=gamma)\n",
    "scdualgn_model.cluster(n_cluster=5, eta=1, nu=nu, n_epochs=30)\n",
    "\n",
    "end = time.time()\n",
    "print('running time = {}'.format(end-start))\n"
   ]
  },
  {
   "cell_type": "code",
   "execution_count": 6,
   "metadata": {},
   "outputs": [],
   "source": [
    "#leiden\n",
    "# start = time.time()\n",
    "# z_final, y_pred_lab, model = scDualGN.run_scDualGN(adata,n_z=32,n_epoch_update_pq=5, n_epochs=30,alpha_dualvae=0.025,beta_daulvae=20,gamma_dualvae=2,GPU_id=1,\n",
    "#                                                    cluster_alg='leiden',n_neighbors=50)\n",
    "# end = time.time()\n",
    "\n",
    "# print('running time = {}'.format(end-start))"
   ]
  },
  {
   "cell_type": "code",
   "execution_count": null,
   "metadata": {},
   "outputs": [],
   "source": []
  }
 ],
 "metadata": {
  "kernelspec": {
   "display_name": "Python 3 (ipykernel)",
   "language": "python",
   "name": "python3"
  },
  "language_info": {
   "codemirror_mode": {
    "name": "ipython",
    "version": 3
   },
   "file_extension": ".py",
   "mimetype": "text/x-python",
   "name": "python",
   "nbconvert_exporter": "python",
   "pygments_lexer": "ipython3",
   "version": "3.8.13"
  }
 },
 "nbformat": 4,
 "nbformat_minor": 4
}
