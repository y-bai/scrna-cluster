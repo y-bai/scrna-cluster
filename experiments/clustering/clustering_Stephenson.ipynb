{
 "cells": [
  {
   "cell_type": "code",
   "execution_count": 1,
   "metadata": {},
   "outputs": [
    {
     "name": "stderr",
     "output_type": "stream",
     "text": [
      "/jdfssz1/ST_HEALTH/P18Z10200N0124/AI/user/baiyong/anaconda3/envs/mytorch/lib/python3.8/site-packages/tqdm/auto.py:22: TqdmWarning: IProgress not found. Please update jupyter and ipywidgets. See https://ipywidgets.readthedocs.io/en/stable/user_install.html\n",
      "  from .autonotebook import tqdm as notebook_tqdm\n"
     ]
    }
   ],
   "source": [
    "import os\n",
    "import numpy as np\n",
    "import pandas as pd\n",
    "import time\n",
    "import scanpy as sc\n",
    "import torch\n",
    "\n",
    "import warnings\n",
    "warnings.filterwarnings('ignore')\n",
    "import logging\n",
    "logging.basicConfig(level=logging.INFO)\n",
    "\n",
    "import sys\n",
    "sys.path.append('../../')\n",
    "import scDualGN\n",
    "sys.path.append('../')\n",
    "import expri_helper"
   ]
  },
  {
   "cell_type": "code",
   "execution_count": 2,
   "metadata": {},
   "outputs": [],
   "source": [
    "dat_path = expri_helper.get_path('stephenson', dat_ls_file='../expri_data.json')\n",
    "adata = sc.read_h5ad(dat_path)\n",
    "adata.X = adata.layers['raw']"
   ]
  },
  {
   "cell_type": "code",
   "execution_count": 4,
   "metadata": {},
   "outputs": [
    {
     "ename": "ValueError",
     "evalue": "cannot specify integer `bins` when input data contains infinity",
     "output_type": "error",
     "traceback": [
      "\u001b[0;31m---------------------------------------------------------------------------\u001b[0m",
      "\u001b[0;31mValueError\u001b[0m                                Traceback (most recent call last)",
      "Input \u001b[0;32mIn [4]\u001b[0m, in \u001b[0;36m<cell line: 3>\u001b[0;34m()\u001b[0m\n\u001b[1;32m      1\u001b[0m sc\u001b[38;5;241m.\u001b[39mpp\u001b[38;5;241m.\u001b[39mfilter_cells(adata, min_counts\u001b[38;5;241m=\u001b[39m\u001b[38;5;241m100\u001b[39m)\n\u001b[1;32m      2\u001b[0m sc\u001b[38;5;241m.\u001b[39mpp\u001b[38;5;241m.\u001b[39mfilter_genes(adata, min_cells\u001b[38;5;241m=\u001b[39m\u001b[38;5;241m3\u001b[39m)\n\u001b[0;32m----> 3\u001b[0m \u001b[43msc\u001b[49m\u001b[38;5;241;43m.\u001b[39;49m\u001b[43mpp\u001b[49m\u001b[38;5;241;43m.\u001b[39;49m\u001b[43mhighly_variable_genes\u001b[49m\u001b[43m(\u001b[49m\u001b[43madata\u001b[49m\u001b[43m,\u001b[49m\u001b[43m \u001b[49m\u001b[43mn_top_genes\u001b[49m\u001b[38;5;241;43m=\u001b[39;49m\u001b[38;5;241;43m2500\u001b[39;49m\u001b[43m)\u001b[49m\n\u001b[1;32m      4\u001b[0m adata \u001b[38;5;241m=\u001b[39m adata[:, adata\u001b[38;5;241m.\u001b[39mvar\u001b[38;5;241m.\u001b[39mhighly_variable]\n\u001b[1;32m      5\u001b[0m sc\u001b[38;5;241m.\u001b[39mpp\u001b[38;5;241m.\u001b[39mscale(adata,max_value\u001b[38;5;241m=\u001b[39m\u001b[38;5;241m10\u001b[39m)\n",
      "File \u001b[0;32m/jdfssz1/ST_HEALTH/P18Z10200N0124/AI/user/baiyong/anaconda3/envs/mytorch/lib/python3.8/site-packages/scanpy/preprocessing/_highly_variable_genes.py:434\u001b[0m, in \u001b[0;36mhighly_variable_genes\u001b[0;34m(adata, layer, n_top_genes, min_disp, max_disp, min_mean, max_mean, span, n_bins, flavor, subset, inplace, batch_key, check_values)\u001b[0m\n\u001b[1;32m    422\u001b[0m     \u001b[38;5;28;01mreturn\u001b[39;00m _highly_variable_genes_seurat_v3(\n\u001b[1;32m    423\u001b[0m         adata,\n\u001b[1;32m    424\u001b[0m         layer\u001b[38;5;241m=\u001b[39mlayer,\n\u001b[0;32m   (...)\u001b[0m\n\u001b[1;32m    430\u001b[0m         inplace\u001b[38;5;241m=\u001b[39minplace,\n\u001b[1;32m    431\u001b[0m     )\n\u001b[1;32m    433\u001b[0m \u001b[38;5;28;01mif\u001b[39;00m batch_key \u001b[38;5;129;01mis\u001b[39;00m \u001b[38;5;28;01mNone\u001b[39;00m:\n\u001b[0;32m--> 434\u001b[0m     df \u001b[38;5;241m=\u001b[39m \u001b[43m_highly_variable_genes_single_batch\u001b[49m\u001b[43m(\u001b[49m\n\u001b[1;32m    435\u001b[0m \u001b[43m        \u001b[49m\u001b[43madata\u001b[49m\u001b[43m,\u001b[49m\n\u001b[1;32m    436\u001b[0m \u001b[43m        \u001b[49m\u001b[43mlayer\u001b[49m\u001b[38;5;241;43m=\u001b[39;49m\u001b[43mlayer\u001b[49m\u001b[43m,\u001b[49m\n\u001b[1;32m    437\u001b[0m \u001b[43m        \u001b[49m\u001b[43mmin_disp\u001b[49m\u001b[38;5;241;43m=\u001b[39;49m\u001b[43mmin_disp\u001b[49m\u001b[43m,\u001b[49m\n\u001b[1;32m    438\u001b[0m \u001b[43m        \u001b[49m\u001b[43mmax_disp\u001b[49m\u001b[38;5;241;43m=\u001b[39;49m\u001b[43mmax_disp\u001b[49m\u001b[43m,\u001b[49m\n\u001b[1;32m    439\u001b[0m \u001b[43m        \u001b[49m\u001b[43mmin_mean\u001b[49m\u001b[38;5;241;43m=\u001b[39;49m\u001b[43mmin_mean\u001b[49m\u001b[43m,\u001b[49m\n\u001b[1;32m    440\u001b[0m \u001b[43m        \u001b[49m\u001b[43mmax_mean\u001b[49m\u001b[38;5;241;43m=\u001b[39;49m\u001b[43mmax_mean\u001b[49m\u001b[43m,\u001b[49m\n\u001b[1;32m    441\u001b[0m \u001b[43m        \u001b[49m\u001b[43mn_top_genes\u001b[49m\u001b[38;5;241;43m=\u001b[39;49m\u001b[43mn_top_genes\u001b[49m\u001b[43m,\u001b[49m\n\u001b[1;32m    442\u001b[0m \u001b[43m        \u001b[49m\u001b[43mn_bins\u001b[49m\u001b[38;5;241;43m=\u001b[39;49m\u001b[43mn_bins\u001b[49m\u001b[43m,\u001b[49m\n\u001b[1;32m    443\u001b[0m \u001b[43m        \u001b[49m\u001b[43mflavor\u001b[49m\u001b[38;5;241;43m=\u001b[39;49m\u001b[43mflavor\u001b[49m\u001b[43m,\u001b[49m\n\u001b[1;32m    444\u001b[0m \u001b[43m    \u001b[49m\u001b[43m)\u001b[49m\n\u001b[1;32m    445\u001b[0m \u001b[38;5;28;01melse\u001b[39;00m:\n\u001b[1;32m    446\u001b[0m     sanitize_anndata(adata)\n",
      "File \u001b[0;32m/jdfssz1/ST_HEALTH/P18Z10200N0124/AI/user/baiyong/anaconda3/envs/mytorch/lib/python3.8/site-packages/scanpy/preprocessing/_highly_variable_genes.py:215\u001b[0m, in \u001b[0;36m_highly_variable_genes_single_batch\u001b[0;34m(adata, layer, min_disp, max_disp, min_mean, max_mean, n_top_genes, n_bins, flavor)\u001b[0m\n\u001b[1;32m    213\u001b[0m df[\u001b[38;5;124m'\u001b[39m\u001b[38;5;124mdispersions\u001b[39m\u001b[38;5;124m'\u001b[39m] \u001b[38;5;241m=\u001b[39m dispersion\n\u001b[1;32m    214\u001b[0m \u001b[38;5;28;01mif\u001b[39;00m flavor \u001b[38;5;241m==\u001b[39m \u001b[38;5;124m'\u001b[39m\u001b[38;5;124mseurat\u001b[39m\u001b[38;5;124m'\u001b[39m:\n\u001b[0;32m--> 215\u001b[0m     df[\u001b[38;5;124m'\u001b[39m\u001b[38;5;124mmean_bin\u001b[39m\u001b[38;5;124m'\u001b[39m] \u001b[38;5;241m=\u001b[39m \u001b[43mpd\u001b[49m\u001b[38;5;241;43m.\u001b[39;49m\u001b[43mcut\u001b[49m\u001b[43m(\u001b[49m\u001b[43mdf\u001b[49m\u001b[43m[\u001b[49m\u001b[38;5;124;43m'\u001b[39;49m\u001b[38;5;124;43mmeans\u001b[39;49m\u001b[38;5;124;43m'\u001b[39;49m\u001b[43m]\u001b[49m\u001b[43m,\u001b[49m\u001b[43m \u001b[49m\u001b[43mbins\u001b[49m\u001b[38;5;241;43m=\u001b[39;49m\u001b[43mn_bins\u001b[49m\u001b[43m)\u001b[49m\n\u001b[1;32m    216\u001b[0m     disp_grouped \u001b[38;5;241m=\u001b[39m df\u001b[38;5;241m.\u001b[39mgroupby(\u001b[38;5;124m'\u001b[39m\u001b[38;5;124mmean_bin\u001b[39m\u001b[38;5;124m'\u001b[39m)[\u001b[38;5;124m'\u001b[39m\u001b[38;5;124mdispersions\u001b[39m\u001b[38;5;124m'\u001b[39m]\n\u001b[1;32m    217\u001b[0m     disp_mean_bin \u001b[38;5;241m=\u001b[39m disp_grouped\u001b[38;5;241m.\u001b[39mmean()\n",
      "File \u001b[0;32m/jdfssz1/ST_HEALTH/P18Z10200N0124/AI/user/baiyong/anaconda3/envs/mytorch/lib/python3.8/site-packages/pandas/core/reshape/tile.py:262\u001b[0m, in \u001b[0;36mcut\u001b[0;34m(x, bins, right, labels, retbins, precision, include_lowest, duplicates, ordered)\u001b[0m\n\u001b[1;32m    258\u001b[0m mn, mx \u001b[38;5;241m=\u001b[39m (mi \u001b[38;5;241m+\u001b[39m \u001b[38;5;241m0.0\u001b[39m \u001b[38;5;28;01mfor\u001b[39;00m mi \u001b[38;5;129;01min\u001b[39;00m rng)\n\u001b[1;32m    260\u001b[0m \u001b[38;5;28;01mif\u001b[39;00m np\u001b[38;5;241m.\u001b[39misinf(mn) \u001b[38;5;129;01mor\u001b[39;00m np\u001b[38;5;241m.\u001b[39misinf(mx):\n\u001b[1;32m    261\u001b[0m     \u001b[38;5;66;03m# GH 24314\u001b[39;00m\n\u001b[0;32m--> 262\u001b[0m     \u001b[38;5;28;01mraise\u001b[39;00m \u001b[38;5;167;01mValueError\u001b[39;00m(\n\u001b[1;32m    263\u001b[0m         \u001b[38;5;124m\"\u001b[39m\u001b[38;5;124mcannot specify integer `bins` when input data contains infinity\u001b[39m\u001b[38;5;124m\"\u001b[39m\n\u001b[1;32m    264\u001b[0m     )\n\u001b[1;32m    265\u001b[0m \u001b[38;5;28;01melif\u001b[39;00m mn \u001b[38;5;241m==\u001b[39m mx:  \u001b[38;5;66;03m# adjust end points before binning\u001b[39;00m\n\u001b[1;32m    266\u001b[0m     mn \u001b[38;5;241m-\u001b[39m\u001b[38;5;241m=\u001b[39m \u001b[38;5;241m0.001\u001b[39m \u001b[38;5;241m*\u001b[39m \u001b[38;5;28mabs\u001b[39m(mn) \u001b[38;5;28;01mif\u001b[39;00m mn \u001b[38;5;241m!=\u001b[39m \u001b[38;5;241m0\u001b[39m \u001b[38;5;28;01melse\u001b[39;00m \u001b[38;5;241m0.001\u001b[39m\n",
      "\u001b[0;31mValueError\u001b[0m: cannot specify integer `bins` when input data contains infinity"
     ]
    }
   ],
   "source": [
    "sc.pp.filter_cells(adata, min_counts=100)\n",
    "sc.pp.filter_genes(adata, min_cells=3)\n"
   ]
  },
  {
   "cell_type": "code",
   "execution_count": 7,
   "metadata": {},
   "outputs": [],
   "source": [
    "sc.pp.normalize_total(adata,target_sum=1e4)\n",
    "sc.pp.log1p(adata)\n",
    "sc.pp.highly_variable_genes(adata, n_top_genes=2500)\n",
    "adata = adata[:, adata.var.highly_variable]\n",
    "sc.pp.scale(adata,max_value=10)"
   ]
  },
  {
   "cell_type": "code",
   "execution_count": 8,
   "metadata": {},
   "outputs": [
    {
     "name": "stderr",
     "output_type": "stream",
     "text": [
      "INFO:scDualGN.run:dual-VAE pretrain start...\n"
     ]
    },
    {
     "name": "stdout",
     "output_type": "stream",
     "text": [
      "=====================================\n",
      "lr:0.0001, alpha:0.01, gamma:4, nu:0.01\n"
     ]
    },
    {
     "name": "stderr",
     "output_type": "stream",
     "text": [
      "INFO:scDualGN.run:Epoch 1/50,Overall loss:2857.1203,MSE:1515.1759,MSE1:335.3044,KL: 72.6684\n",
      "INFO:scDualGN.run:Epoch 2/50,Overall loss:1017.7283,MSE:920.2604,MSE1:24.0732,KL: 117.4942\n",
      "INFO:scDualGN.run:Epoch 3/50,Overall loss:931.8932,MSE:887.5150,MSE1:10.7491,KL: 138.1739\n",
      "INFO:scDualGN.run:Epoch 4/50,Overall loss:903.2705,MSE:874.5350,MSE1:6.8064,KL: 151.0123\n",
      "INFO:scDualGN.run:Epoch 5/50,Overall loss:887.9120,MSE:865.9474,MSE1:5.0925,KL: 159.4603\n",
      "INFO:scDualGN.run:Epoch 6/50,Overall loss:878.0410,MSE:859.4701,MSE1:4.2304,KL: 164.9423\n",
      "INFO:scDualGN.run:Epoch 7/50,Overall loss:871.0715,MSE:854.1919,MSE1:3.7990,KL: 168.3539\n",
      "INFO:scDualGN.run:Epoch 8/50,Overall loss:866.0957,MSE:850.0830,MSE1:3.5772,KL: 170.4083\n",
      "INFO:scDualGN.run:Epoch 9/50,Overall loss:863.4789,MSE:847.8956,MSE1:3.4671,KL: 171.5080\n",
      "INFO:scDualGN.run:Epoch 10/50,Overall loss:862.1440,MSE:846.7534,MSE1:3.4177,KL: 171.9979\n",
      "INFO:scDualGN.run:Epoch 11/50,Overall loss:853.2050,MSE:839.4421,MSE1:2.9993,KL: 176.5712\n",
      "INFO:scDualGN.run:Epoch 12/50,Overall loss:840.1406,MSE:829.3240,MSE1:2.2418,KL: 184.9494\n",
      "INFO:scDualGN.run:Epoch 13/50,Overall loss:830.5302,MSE:821.4862,MSE1:1.7836,KL: 190.9401\n",
      "INFO:scDualGN.run:Epoch 14/50,Overall loss:822.8477,MSE:814.8377,MSE1:1.5149,KL: 195.0602\n",
      "INFO:scDualGN.run:Epoch 15/50,Overall loss:817.1285,MSE:809.7766,MSE1:1.3438,KL: 197.6478\n",
      "INFO:scDualGN.run:Epoch 16/50,Overall loss:812.0224,MSE:805.0260,MSE1:1.2525,KL: 198.6566\n",
      "INFO:scDualGN.run:Epoch 17/50,Overall loss:808.1520,MSE:801.3313,MSE1:1.2080,KL: 198.8610\n",
      "INFO:scDualGN.run:Epoch 18/50,Overall loss:805.3333,MSE:798.6426,MSE1:1.1748,KL: 199.1610\n",
      "INFO:scDualGN.run:Epoch 19/50,Overall loss:803.9238,MSE:797.3485,MSE1:1.1448,KL: 199.6298\n",
      "INFO:scDualGN.run:Epoch 20/50,Overall loss:803.2258,MSE:796.7150,MSE1:1.1280,KL: 199.8718\n",
      "INFO:scDualGN.run:Epoch 21/50,Overall loss:799.7038,MSE:793.8391,MSE1:0.9590,KL: 202.8866\n",
      "INFO:scDualGN.run:Epoch 22/50,Overall loss:793.5192,MSE:788.5904,MSE1:0.7190,KL: 205.2895\n",
      "INFO:scDualGN.run:Epoch 23/50,Overall loss:787.0682,MSE:782.6759,MSE1:0.5912,KL: 202.7617\n",
      "INFO:scDualGN.run:Epoch 24/50,Overall loss:781.8311,MSE:777.7958,MSE1:0.5130,KL: 198.3161\n",
      "INFO:scDualGN.run:Epoch 25/50,Overall loss:777.6234,MSE:773.8671,MSE1:0.4547,KL: 193.7576\n",
      "INFO:scDualGN.run:Epoch 26/50,Overall loss:774.0661,MSE:770.5250,MSE1:0.4112,KL: 189.6466\n",
      "INFO:scDualGN.run:Epoch 27/50,Overall loss:771.3077,MSE:767.9218,MSE1:0.3807,KL: 186.3044\n",
      "INFO:scDualGN.run:Epoch 28/50,Overall loss:769.9506,MSE:766.6682,MSE1:0.3604,KL: 184.0707\n",
      "INFO:scDualGN.run:Epoch 29/50,Overall loss:768.7534,MSE:765.5328,MSE1:0.3483,KL: 182.7241\n",
      "INFO:scDualGN.run:Epoch 30/50,Overall loss:768.3657,MSE:765.1731,MSE1:0.3428,KL: 182.1537\n",
      "INFO:scDualGN.run:Epoch 31/50,Overall loss:765.6099,MSE:762.6567,MSE1:0.2948,KL: 177.4112\n",
      "INFO:scDualGN.run:Epoch 32/50,Overall loss:759.3458,MSE:756.7455,MSE1:0.2290,KL: 168.4430\n",
      "INFO:scDualGN.run:Epoch 33/50,Overall loss:753.2637,MSE:750.9023,MSE1:0.1864,KL: 161.5653\n",
      "INFO:scDualGN.run:Epoch 34/50,Overall loss:747.9069,MSE:745.7134,MSE1:0.1565,KL: 156.7483\n",
      "INFO:scDualGN.run:Epoch 35/50,Overall loss:743.2914,MSE:741.2148,MSE1:0.1345,KL: 153.8431\n",
      "INFO:scDualGN.run:Epoch 36/50,Overall loss:739.9817,MSE:737.9824,MSE1:0.1187,KL: 152.4475\n",
      "INFO:scDualGN.run:Epoch 37/50,Overall loss:737.4995,MSE:735.5501,MSE1:0.1075,KL: 151.9487\n",
      "INFO:scDualGN.run:Epoch 38/50,Overall loss:735.6681,MSE:733.7487,MSE1:0.1001,KL: 151.8854\n",
      "INFO:scDualGN.run:Epoch 39/50,Overall loss:734.8126,MSE:732.9094,MSE1:0.0960,KL: 151.9267\n",
      "INFO:scDualGN.run:Epoch 40/50,Overall loss:734.4392,MSE:732.5429,MSE1:0.0942,KL: 151.9573\n",
      "INFO:scDualGN.run:Epoch 41/50,Overall loss:732.7373,MSE:730.8881,MSE1:0.0798,KL: 153.0088\n",
      "INFO:scDualGN.run:Epoch 42/50,Overall loss:727.8290,MSE:726.0317,MSE1:0.0631,KL: 154.4812\n",
      "INFO:scDualGN.run:Epoch 43/50,Overall loss:723.8385,MSE:722.0637,MSE1:0.0542,KL: 155.7834\n",
      "INFO:scDualGN.run:Epoch 44/50,Overall loss:720.1522,MSE:718.3870,MSE1:0.0488,KL: 157.0080\n",
      "INFO:scDualGN.run:Epoch 45/50,Overall loss:717.1605,MSE:715.3993,MSE1:0.0452,KL: 158.0377\n",
      "INFO:scDualGN.run:Epoch 46/50,Overall loss:715.2915,MSE:713.5319,MSE1:0.0429,KL: 158.7983\n",
      "INFO:scDualGN.run:Epoch 47/50,Overall loss:714.0380,MSE:712.2789,MSE1:0.0415,KL: 159.3211\n",
      "INFO:scDualGN.run:Epoch 48/50,Overall loss:713.0149,MSE:711.2564,MSE1:0.0406,KL: 159.6366\n",
      "INFO:scDualGN.run:Epoch 49/50,Overall loss:712.5871,MSE:710.8287,MSE1:0.0400,KL: 159.8240\n",
      "INFO:scDualGN.run:Epoch 50/50,Overall loss:711.9569,MSE:710.1988,MSE1:0.0398,KL: 159.8898\n",
      "INFO:scDualGN.run:dual-VAE pretrain finished\n",
      "INFO:scDualGN.run:obtain daul-VAE z-vector and x_bar\n",
      "INFO:scDualGN.run:perform kmeans to initially cluster....\n",
      "INFO:faiss.loader:Loading faiss with AVX2 support.\n",
      "INFO:faiss.loader:Successfully loaded faiss with AVX2 support.\n",
      "INFO:scDualGN.run:initial n cluster: 18\n",
      "INFO:scDualGN.run:perform clustering using scDualGN iteratively...\n",
      "INFO:scDualGN.evalution:acc 0.5625, nmi 0.6726, ari 0.4807, hs 0.7339, cs 0.6207, purity: 0.8206\n",
      "INFO:scDualGN.run:Epoch 1/32, Loss - overall: 712.6621,daul_VAE:711.7793,KL:0.0117,Center:0.8711\n",
      "INFO:scDualGN.run:Epoch 2/32, Loss - overall: 711.9919,daul_VAE:711.1679,KL:0.0119,Center:0.8120\n",
      "INFO:scDualGN.run:Epoch 3/32, Loss - overall: 711.0294,daul_VAE:710.2372,KL:0.0122,Center:0.7800\n",
      "INFO:scDualGN.evalution:acc 0.6087, nmi 0.6740, ari 0.4991, hs 0.7239, cs 0.6305, purity: 0.8167\n",
      "INFO:scDualGN.run:Epoch 4/32, Loss - overall: 710.7339,daul_VAE:709.9420,KL:0.0115,Center:0.7803\n",
      "INFO:scDualGN.run:Epoch 5/32, Loss - overall: 710.5253,daul_VAE:709.7408,KL:0.0116,Center:0.7729\n",
      "INFO:scDualGN.run:Epoch 6/32, Loss - overall: 710.3637,daul_VAE:709.5941,KL:0.0118,Center:0.7578\n",
      "INFO:scDualGN.evalution:acc 0.6303, nmi 0.6761, ari 0.5124, hs 0.7202, cs 0.6372, purity: 0.8149\n",
      "INFO:scDualGN.run:Epoch 7/32, Loss - overall: 709.7174,daul_VAE:708.9675,KL:0.0115,Center:0.7383\n",
      "INFO:scDualGN.run:Epoch 8/32, Loss - overall: 708.9551,daul_VAE:708.2243,KL:0.0118,Center:0.7190\n",
      "INFO:scDualGN.run:Epoch 9/32, Loss - overall: 708.1731,daul_VAE:707.4578,KL:0.0120,Center:0.7033\n",
      "INFO:scDualGN.evalution:acc 0.6587, nmi 0.6793, ari 0.5324, hs 0.7135, cs 0.6482, purity: 0.8107\n",
      "INFO:scDualGN.run:Epoch 10/32, Loss - overall: 707.7577,daul_VAE:707.0509,KL:0.0112,Center:0.6956\n",
      "INFO:scDualGN.run:Epoch 11/32, Loss - overall: 707.2919,daul_VAE:706.5963,KL:0.0114,Center:0.6842\n",
      "INFO:scDualGN.run:Epoch 12/32, Loss - overall: 706.7442,daul_VAE:706.0575,KL:0.0116,Center:0.6751\n",
      "INFO:scDualGN.evalution:acc 0.6737, nmi 0.6814, ari 0.5448, hs 0.7085, cs 0.6564, purity: 0.8075\n",
      "INFO:scDualGN.run:Epoch 13/32, Loss - overall: 706.3739,daul_VAE:705.6928,KL:0.0110,Center:0.6702\n",
      "INFO:scDualGN.run:Epoch 14/32, Loss - overall: 706.2627,daul_VAE:705.5876,KL:0.0111,Center:0.6640\n",
      "INFO:scDualGN.run:Epoch 15/32, Loss - overall: 705.6122,daul_VAE:704.9418,KL:0.0112,Center:0.6593\n",
      "INFO:scDualGN.evalution:acc 0.6818, nmi 0.6832, ari 0.5519, hs 0.7067, cs 0.6613, purity: 0.8063\n",
      "INFO:scDualGN.run:Epoch 16/32, Loss - overall: 705.4613,daul_VAE:704.7936,KL:0.0109,Center:0.6569\n",
      "INFO:scDualGN.run:Epoch 17/32, Loss - overall: 705.2703,daul_VAE:704.6050,KL:0.0110,Center:0.6543\n",
      "INFO:scDualGN.run:Epoch 18/32, Loss - overall: 705.5170,daul_VAE:704.8530,KL:0.0110,Center:0.6531\n",
      "INFO:scDualGN.evalution:acc 0.6850, nmi 0.6837, ari 0.5544, hs 0.7051, cs 0.6636, purity: 0.8050\n",
      "INFO:scDualGN.run:Epoch 19/32, Loss - overall: 705.3018,daul_VAE:704.6386,KL:0.0108,Center:0.6524\n",
      "INFO:scDualGN.run:Epoch 20/32, Loss - overall: 705.1549,daul_VAE:704.4920,KL:0.0108,Center:0.6522\n",
      "INFO:scDualGN.run:Epoch 21/32, Loss - overall: 705.0546,daul_VAE:704.3965,KL:0.0109,Center:0.6473\n",
      "INFO:scDualGN.evalution:acc 0.6902, nmi 0.6846, ari 0.5593, hs 0.7031, cs 0.6671, purity: 0.8033\n",
      "INFO:scDualGN.run:Epoch 22/32, Loss - overall: 704.5130,daul_VAE:703.8632,KL:0.0108,Center:0.6390\n",
      "INFO:scDualGN.run:Epoch 23/32, Loss - overall: 704.2823,daul_VAE:703.6407,KL:0.0110,Center:0.6306\n",
      "INFO:scDualGN.run:Epoch 24/32, Loss - overall: 703.4017,daul_VAE:702.7680,KL:0.0112,Center:0.6225\n",
      "INFO:scDualGN.evalution:acc 0.6998, nmi 0.6863, ari 0.5671, hs 0.6982, cs 0.6749, purity: 0.7995\n",
      "INFO:scDualGN.run:Epoch 25/32, Loss - overall: 702.8907,daul_VAE:702.2648,KL:0.0106,Center:0.6152\n",
      "INFO:scDualGN.run:Epoch 26/32, Loss - overall: 702.2547,daul_VAE:701.6359,KL:0.0108,Center:0.6080\n",
      "INFO:scDualGN.run:Epoch 27/32, Loss - overall: 701.7344,daul_VAE:701.1224,KL:0.0110,Center:0.6011\n",
      "INFO:scDualGN.evalution:acc 0.7051, nmi 0.6873, ari 0.5717, hs 0.6935, cs 0.6811, purity: 0.7957\n",
      "INFO:scDualGN.run:Epoch 28/32, Loss - overall: 701.3371,daul_VAE:700.7312,KL:0.0105,Center:0.5955\n",
      "INFO:scDualGN.run:Epoch 29/32, Loss - overall: 700.9821,daul_VAE:700.3822,KL:0.0106,Center:0.5893\n",
      "INFO:scDualGN.run:Epoch 30/32, Loss - overall: 700.4715,daul_VAE:699.8769,KL:0.0108,Center:0.5839\n",
      "INFO:scDualGN.evalution:acc 0.7103, nmi 0.6879, ari 0.5753, hs 0.6886, cs 0.6873, purity: 0.7911\n",
      "INFO:scDualGN.run:Epoch 31/32, Loss - overall: 699.9025,daul_VAE:699.3137,KL:0.0103,Center:0.5785\n",
      "INFO:scDualGN.evalution:acc 0.7123, nmi 0.6884, ari 0.5770, hs 0.6873, cs 0.6896, purity: 0.7901\n",
      "INFO:scDualGN.run:Epoch 32/32, Loss - overall: 699.8188,daul_VAE:699.2350,KL:0.0102,Center:0.5736\n",
      "INFO:scDualGN.run:clustering finished.\n",
      "INFO:scDualGN.evalution:acc 0.7166, nmi 0.6901, ari 0.5803, hs 0.6851, cs 0.6951, purity: 0.7879\n"
     ]
    },
    {
     "name": "stdout",
     "output_type": "stream",
     "text": [
      "acc 0.7166, nmi 0.6901, ari 0.5803, hs 0.6851, cs 0.6951, purity: 0.7879\n",
      "running time = 2115.9087710380554\n"
     ]
    }
   ],
   "source": [
    "#kmeans\n",
    "# start = time.time()\n",
    "# z_final, y_pred_lab, model = scDualGN.run_scDualGN(adata, n_cluster=18,n_z=32,n_epoch_update_pq=5, n_epochs=30,alpha_dualvae=0.02,beta_daulvae=5,gamma_dualvae=4,GPU_id=2)\n",
    "\n",
    "# scdualgn_model = scDualGN.scDualGN(adata, n_z=32,device='cuda:2', verbosity=True, batch_size=1024).pretrain(alpha=0.05, beta=20, gamma=4)\n",
    "# scdualgn_model.cluster(n_cluster=18, eta=1, nu=1, n_epochs=30)\n",
    "\n",
    "lr, alpha, gamma, nu = 0.0001, 0.01, 4, 0.01\n",
    "print('=====================================')\n",
    "print('lr:{}, alpha:{}, gamma:{}, nu:{}'.format(lr, alpha, gamma, nu))\n",
    "start = time.time()\n",
    "torch.cuda.empty_cache()\n",
    "scdualgn_model = scDualGN.scDualGN(adata, n_z=32,device='cuda:1', batch_size=1024*2, verbosity=True, lr=lr).pretrain(alpha=alpha, beta=1, gamma=gamma)\n",
    "scdualgn_model.cluster(n_cluster=18, eta=1, nu=nu, n_epochs=32)\n",
    "\n",
    "\n",
    "end = time.time()\n",
    "\n",
    "print('running time = {}'.format(end-start))"
   ]
  },
  {
   "cell_type": "code",
   "execution_count": null,
   "metadata": {},
   "outputs": [],
   "source": [
    "#leiden\n",
    "# start = time.time()\n",
    "# z_final, y_pred_lab, model = scDualGN.run_scDualGN(adata,n_z=32,n_epoch_update_pq=5, n_epochs=30,alpha_dualvae=0.02,beta_daulvae=5,gamma_dualvae=4,GPU_id=2,n_neighbors=50)\n",
    "# end = time.time()\n",
    "\n",
    "# print('running time = {}'.format(end-start))"
   ]
  },
  {
   "cell_type": "code",
   "execution_count": null,
   "metadata": {},
   "outputs": [],
   "source": []
  },
  {
   "cell_type": "code",
   "execution_count": null,
   "metadata": {},
   "outputs": [],
   "source": []
  },
  {
   "cell_type": "code",
   "execution_count": null,
   "metadata": {},
   "outputs": [],
   "source": []
  }
 ],
 "metadata": {
  "kernelspec": {
   "display_name": "Python 3 (ipykernel)",
   "language": "python",
   "name": "python3"
  },
  "language_info": {
   "codemirror_mode": {
    "name": "ipython",
    "version": 3
   },
   "file_extension": ".py",
   "mimetype": "text/x-python",
   "name": "python",
   "nbconvert_exporter": "python",
   "pygments_lexer": "ipython3",
   "version": "3.8.13"
  }
 },
 "nbformat": 4,
 "nbformat_minor": 4
}
