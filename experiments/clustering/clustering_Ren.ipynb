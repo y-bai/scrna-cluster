{
 "cells": [
  {
   "cell_type": "code",
   "execution_count": 1,
   "metadata": {},
   "outputs": [
    {
     "name": "stderr",
     "output_type": "stream",
     "text": [
      "/jdfssz1/ST_HEALTH/P18Z10200N0124/AI/user/baiyong/anaconda3/envs/mytorch/lib/python3.8/site-packages/tqdm/auto.py:22: TqdmWarning: IProgress not found. Please update jupyter and ipywidgets. See https://ipywidgets.readthedocs.io/en/stable/user_install.html\n",
      "  from .autonotebook import tqdm as notebook_tqdm\n"
     ]
    }
   ],
   "source": [
    "import os\n",
    "import numpy as np\n",
    "import pandas as pd\n",
    "import time\n",
    "import scanpy as sc\n",
    "import torch\n",
    "\n",
    "import warnings\n",
    "warnings.filterwarnings('ignore')\n",
    "import logging\n",
    "logging.basicConfig(level=logging.INFO)\n",
    "\n",
    "import sys\n",
    "sys.path.append('../../')\n",
    "import scDualGN\n",
    "sys.path.append('../')\n",
    "import expri_helper"
   ]
  },
  {
   "cell_type": "code",
   "execution_count": 2,
   "metadata": {},
   "outputs": [],
   "source": [
    "dat_path = expri_helper.get_path('ren_scdualgn', dat_ls_file='../expri_data.json')\n",
    "adata = sc.read_h5ad(dat_path)\n",
    "\n",
    "##################\n",
    "\n",
    "# del adata.obsm['X_tsne'],adata.obsm['X_pca'],adata.obsm['har_emb']\n",
    "# adata.obs['celltype'] = adata.obs['majorType']\n",
    "# del adata.obs['majorType']\n",
    "# adata.obs['celltype_str'] = adata.obs['celltype']\n",
    "# cell_type_dict = {'B':0, 'CD8':1, 'Mono':2, 'CD4':3, 'NK':4, 'Macro':5, 'DC':6, 'Plasma':7, 'Mega':8, 'Epi':9, 'Neu':10, 'Mast':11} \n",
    "# adata.obs['celltype'] = adata.obs['celltype'].map(cell_type_dict)"
   ]
  },
  {
   "cell_type": "code",
   "execution_count": 5,
   "metadata": {},
   "outputs": [
    {
     "data": {
      "text/plain": [
       "AnnData object with n_obs × n_vars = 1462702 × 2500\n",
       "    obs: 'celltype', 'majorType', 'sampleID', 'PatientID', 'datasets', 'City', 'Age', 'Sex', 'Sample type', 'CoVID-19 severity', 'Sample time', 'Sampling day (Days after symptom onset)', 'SARS-CoV-2', 'Single cell sequencing platform', 'BCR single cell sequencing', 'TCR single cell sequencing', 'Outcome', 'Comorbidities', 'COVID-19-related medication and anti-microbials', 'Leukocytes [G/L]', 'Neutrophils [G/L]', 'Lymphocytes [G/L]', 'Unpublished', 'celltype_str', 'n_counts'\n",
       "    var: 'n_cells', 'highly_variable', 'means', 'dispersions', 'dispersions_norm', 'mean', 'std'\n",
       "    uns: 'hvg', 'neighbors', 'pca'\n",
       "    obsp: 'connectivities', 'distances'"
      ]
     },
     "execution_count": 5,
     "metadata": {},
     "output_type": "execute_result"
    }
   ],
   "source": [
    "adata"
   ]
  },
  {
   "cell_type": "code",
   "execution_count": 3,
   "metadata": {},
   "outputs": [],
   "source": [
    "#######################\n",
    "# sc.pp.filter_cells(adata, min_counts=100)\n",
    "# sc.pp.filter_genes(adata, min_cells=3)\n",
    "# sc.pp.normalize_total(adata,target_sum=1e4)\n",
    "# sc.pp.log1p(adata)\n",
    "# sc.pp.highly_variable_genes(adata, n_top_genes=2500)\n",
    "# adata = adata[:, adata.var.highly_variable]\n",
    "# sc.pp.scale(adata,max_value=10)"
   ]
  },
  {
   "cell_type": "code",
   "execution_count": 6,
   "metadata": {},
   "outputs": [
    {
     "name": "stderr",
     "output_type": "stream",
     "text": [
      "INFO:scDualGN.run:dual-VAE pretrain start...\n"
     ]
    },
    {
     "name": "stdout",
     "output_type": "stream",
     "text": [
      "=====================================\n",
      "lr:0.0001, alpha:0.01, gamma:4, nu:0.01\n"
     ]
    },
    {
     "name": "stderr",
     "output_type": "stream",
     "text": [
      "INFO:scDualGN.run:Epoch 1/50,Overall loss:1861.4943,MSE:1317.3462,MSE1:135.7801,KL: 102.7807\n",
      "INFO:scDualGN.run:Epoch 2/50,Overall loss:1074.5534,MSE:1045.0495,MSE1:7.0007,KL: 150.1067\n",
      "INFO:scDualGN.run:Epoch 3/50,Overall loss:1042.7901,MSE:1027.8572,MSE1:3.3052,KL: 171.2048\n",
      "INFO:scDualGN.run:Epoch 4/50,Overall loss:1029.7287,MSE:1019.4764,MSE1:2.1009,KL: 184.8735\n",
      "INFO:scDualGN.run:Epoch 5/50,Overall loss:1021.1629,MSE:1012.8618,MSE1:1.5923,KL: 193.1805\n",
      "INFO:scDualGN.run:Epoch 6/50,Overall loss:1013.8199,MSE:1006.4563,MSE1:1.3476,KL: 197.3131\n",
      "INFO:scDualGN.run:Epoch 7/50,Overall loss:1006.7716,MSE:999.8346,MSE1:1.2395,KL: 197.8906\n",
      "INFO:scDualGN.run:Epoch 8/50,Overall loss:1000.4552,MSE:993.7241,MSE1:1.1900,KL: 197.1189\n",
      "INFO:scDualGN.run:Epoch 9/50,Overall loss:996.3282,MSE:989.7653,MSE1:1.1491,KL: 196.6556\n",
      "INFO:scDualGN.run:Epoch 10/50,Overall loss:994.4438,MSE:987.9988,MSE1:1.1196,KL: 196.6484\n",
      "INFO:scDualGN.run:Epoch 11/50,Overall loss:980.2129,MSE:975.0457,MSE1:0.8028,KL: 195.6008\n",
      "INFO:scDualGN.run:Epoch 12/50,Overall loss:958.6704,MSE:955.0468,MSE1:0.4502,KL: 182.2602\n",
      "INFO:scDualGN.run:Epoch 13/50,Overall loss:941.2759,MSE:938.4646,MSE1:0.2907,KL: 164.8660\n",
      "INFO:scDualGN.run:Epoch 14/50,Overall loss:927.2560,MSE:924.9439,MSE1:0.1930,KL: 154.0077\n",
      "INFO:scDualGN.run:Epoch 15/50,Overall loss:916.9117,MSE:914.8881,MSE1:0.1339,KL: 148.7869\n",
      "INFO:scDualGN.run:Epoch 16/50,Overall loss:909.6516,MSE:907.7713,MSE1:0.0992,KL: 148.3468\n",
      "INFO:scDualGN.run:Epoch 17/50,Overall loss:904.6774,MSE:902.8641,MSE1:0.0791,KL: 149.6842\n",
      "INFO:scDualGN.run:Epoch 18/50,Overall loss:901.6867,MSE:899.9042,MSE1:0.0677,KL: 151.1696\n",
      "INFO:scDualGN.run:Epoch 19/50,Overall loss:899.9810,MSE:898.2128,MSE1:0.0615,KL: 152.2382\n",
      "INFO:scDualGN.run:Epoch 20/50,Overall loss:899.3624,MSE:897.5997,MSE1:0.0587,KL: 152.7942\n",
      "INFO:scDualGN.run:Epoch 21/50,Overall loss:895.7806,MSE:894.0355,MSE1:0.0441,KL: 156.8619\n",
      "INFO:scDualGN.run:Epoch 22/50,Overall loss:888.8779,MSE:887.1307,MSE1:0.0364,KL: 160.1851\n",
      "INFO:scDualGN.run:Epoch 23/50,Overall loss:883.7461,MSE:881.9907,MSE1:0.0346,KL: 161.7144\n",
      "INFO:scDualGN.run:Epoch 24/50,Overall loss:880.0175,MSE:878.2561,MSE1:0.0338,KL: 162.6032\n",
      "INFO:scDualGN.run:Epoch 25/50,Overall loss:877.2569,MSE:875.4914,MSE1:0.0335,KL: 163.1661\n",
      "INFO:scDualGN.run:Epoch 26/50,Overall loss:875.3037,MSE:873.5357,MSE1:0.0333,KL: 163.4792\n",
      "INFO:scDualGN.run:Epoch 27/50,Overall loss:873.9329,MSE:872.1634,MSE1:0.0332,KL: 163.6606\n",
      "INFO:scDualGN.run:Epoch 28/50,Overall loss:872.9867,MSE:871.2167,MSE1:0.0331,KL: 163.7642\n",
      "INFO:scDualGN.run:Epoch 29/50,Overall loss:872.4857,MSE:870.7155,MSE1:0.0331,KL: 163.7905\n",
      "INFO:scDualGN.run:Epoch 30/50,Overall loss:872.1686,MSE:870.3983,MSE1:0.0330,KL: 163.8160\n",
      "INFO:scDualGN.run:Epoch 31/50,Overall loss:871.7591,MSE:869.9886,MSE1:0.0329,KL: 163.8775\n",
      "INFO:scDualGN.run:Epoch 32/50,Overall loss:869.4192,MSE:867.6482,MSE1:0.0328,KL: 163.9644\n",
      "INFO:scDualGN.run:Epoch 33/50,Overall loss:867.4025,MSE:865.6310,MSE1:0.0328,KL: 164.0381\n",
      "INFO:scDualGN.run:Epoch 34/50,Overall loss:865.6980,MSE:863.9258,MSE1:0.0327,KL: 164.1376\n",
      "INFO:scDualGN.run:Epoch 35/50,Overall loss:864.2652,MSE:862.4921,MSE1:0.0327,KL: 164.2350\n",
      "INFO:scDualGN.run:Epoch 36/50,Overall loss:863.1273,MSE:861.3537,MSE1:0.0326,KL: 164.3037\n",
      "INFO:scDualGN.run:Epoch 37/50,Overall loss:862.2174,MSE:860.4431,MSE1:0.0326,KL: 164.3725\n",
      "INFO:scDualGN.run:Epoch 38/50,Overall loss:861.6421,MSE:859.8675,MSE1:0.0327,KL: 164.4017\n",
      "INFO:scDualGN.run:Epoch 39/50,Overall loss:861.2945,MSE:859.5195,MSE1:0.0326,KL: 164.4523\n",
      "INFO:scDualGN.run:Epoch 40/50,Overall loss:861.1110,MSE:859.3361,MSE1:0.0326,KL: 164.4388\n",
      "INFO:scDualGN.run:Epoch 41/50,Overall loss:861.2102,MSE:859.4352,MSE1:0.0326,KL: 164.4550\n",
      "INFO:scDualGN.run:Epoch 42/50,Overall loss:859.6802,MSE:857.9049,MSE1:0.0325,KL: 164.5103\n",
      "INFO:scDualGN.run:Epoch 43/50,Overall loss:858.2608,MSE:856.4849,MSE1:0.0326,KL: 164.5571\n",
      "INFO:scDualGN.run:Epoch 44/50,Overall loss:857.0714,MSE:855.2949,MSE1:0.0325,KL: 164.6380\n",
      "INFO:scDualGN.run:Epoch 45/50,Overall loss:856.0547,MSE:854.2777,MSE1:0.0325,KL: 164.6949\n",
      "INFO:scDualGN.run:Epoch 46/50,Overall loss:855.1715,MSE:853.3939,MSE1:0.0325,KL: 164.7593\n",
      "INFO:scDualGN.run:Epoch 47/50,Overall loss:854.4516,MSE:852.6737,MSE1:0.0325,KL: 164.7970\n",
      "INFO:scDualGN.run:Epoch 48/50,Overall loss:854.0468,MSE:852.2683,MSE1:0.0325,KL: 164.8429\n",
      "INFO:scDualGN.run:Epoch 49/50,Overall loss:853.7339,MSE:851.9551,MSE1:0.0325,KL: 164.8756\n",
      "INFO:scDualGN.run:Epoch 50/50,Overall loss:853.5973,MSE:851.8184,MSE1:0.0325,KL: 164.8725\n",
      "INFO:scDualGN.run:dual-VAE pretrain finished\n",
      "INFO:scDualGN.run:obtain daul-VAE z-vector and x_bar\n",
      "INFO:scDualGN.run:perform kmeans to initially cluster....\n",
      "INFO:faiss.loader:Loading faiss with AVX2 support.\n",
      "INFO:faiss.loader:Successfully loaded faiss with AVX2 support.\n",
      "INFO:scDualGN.run:initial n cluster: 12\n",
      "INFO:scDualGN.run:perform clustering using scDualGN iteratively...\n",
      "INFO:scDualGN.evalution:acc 0.5761, nmi 0.6664, ari 0.4861, hs 0.7661, cs 0.5896, purity: 0.8275\n",
      "INFO:scDualGN.run:Epoch 1/32, Loss - overall: 854.3637,daul_VAE:853.7793,KL:0.0159,Center:0.5686\n",
      "INFO:scDualGN.run:Epoch 2/32, Loss - overall: 853.8968,daul_VAE:853.3532,KL:0.0173,Center:0.5263\n",
      "INFO:scDualGN.run:Epoch 3/32, Loss - overall: 853.4667,daul_VAE:852.9414,KL:0.0182,Center:0.5071\n",
      "INFO:scDualGN.evalution:acc 0.6264, nmi 0.6702, ari 0.5287, hs 0.7563, cs 0.6018, purity: 0.8203\n",
      "INFO:scDualGN.run:Epoch 4/32, Loss - overall: 853.1581,daul_VAE:852.6384,KL:0.0150,Center:0.5047\n",
      "INFO:scDualGN.run:Epoch 5/32, Loss - overall: 852.8920,daul_VAE:852.3771,KL:0.0151,Center:0.4998\n",
      "INFO:scDualGN.run:Epoch 6/32, Loss - overall: 853.0710,daul_VAE:852.5645,KL:0.0155,Center:0.4910\n",
      "INFO:scDualGN.evalution:acc 0.6385, nmi 0.6732, ari 0.5507, hs 0.7523, cs 0.6093, purity: 0.8161\n",
      "INFO:scDualGN.run:Epoch 7/32, Loss - overall: 852.6444,daul_VAE:852.1490,KL:0.0152,Center:0.4802\n",
      "INFO:scDualGN.run:Epoch 8/32, Loss - overall: 852.2893,daul_VAE:851.8039,KL:0.0156,Center:0.4698\n",
      "INFO:scDualGN.run:Epoch 9/32, Loss - overall: 851.9194,daul_VAE:851.4419,KL:0.0161,Center:0.4614\n",
      "INFO:scDualGN.evalution:acc 0.6619, nmi 0.6783, ari 0.5806, hs 0.7465, cs 0.6216, purity: 0.8095\n",
      "INFO:scDualGN.run:Epoch 10/32, Loss - overall: 851.5686,daul_VAE:851.0966,KL:0.0147,Center:0.4573\n",
      "INFO:scDualGN.run:Epoch 11/32, Loss - overall: 851.2591,daul_VAE:850.7930,KL:0.0150,Center:0.4511\n",
      "INFO:scDualGN.run:Epoch 12/32, Loss - overall: 850.9874,daul_VAE:850.5261,KL:0.0153,Center:0.4460\n",
      "INFO:scDualGN.evalution:acc 0.6768, nmi 0.6824, ari 0.6007, hs 0.7424, cs 0.6314, purity: 0.8059\n",
      "INFO:scDualGN.run:Epoch 13/32, Loss - overall: 850.7219,daul_VAE:850.2643,KL:0.0143,Center:0.4433\n",
      "INFO:scDualGN.run:Epoch 14/32, Loss - overall: 850.5170,daul_VAE:850.0629,KL:0.0145,Center:0.4395\n",
      "INFO:scDualGN.run:Epoch 15/32, Loss - overall: 850.3290,daul_VAE:849.8775,KL:0.0147,Center:0.4368\n",
      "INFO:scDualGN.evalution:acc 0.6815, nmi 0.6840, ari 0.6081, hs 0.7406, cs 0.6354, purity: 0.8043\n",
      "INFO:scDualGN.run:Epoch 16/32, Loss - overall: 850.1830,daul_VAE:849.7333,KL:0.0145,Center:0.4353\n",
      "INFO:scDualGN.run:Epoch 17/32, Loss - overall: 849.9889,daul_VAE:849.5406,KL:0.0145,Center:0.4337\n",
      "INFO:scDualGN.run:Epoch 18/32, Loss - overall: 849.9819,daul_VAE:849.5346,KL:0.0146,Center:0.4327\n",
      "INFO:scDualGN.evalution:acc 0.6837, nmi 0.6843, ari 0.6101, hs 0.7391, cs 0.6371, purity: 0.8028\n",
      "INFO:scDualGN.run:Epoch 19/32, Loss - overall: 849.9396,daul_VAE:849.4926,KL:0.0143,Center:0.4326\n",
      "INFO:scDualGN.run:Epoch 20/32, Loss - overall: 849.8869,daul_VAE:849.4403,KL:0.0143,Center:0.4323\n",
      "INFO:scDualGN.run:Epoch 21/32, Loss - overall: 850.1205,daul_VAE:849.6762,KL:0.0145,Center:0.4297\n",
      "INFO:scDualGN.evalution:acc 0.6850, nmi 0.6847, ari 0.6121, hs 0.7382, cs 0.6385, purity: 0.8020\n",
      "INFO:scDualGN.run:Epoch 22/32, Loss - overall: 849.8472,daul_VAE:849.4073,KL:0.0145,Center:0.4254\n",
      "INFO:scDualGN.run:Epoch 23/32, Loss - overall: 849.4770,daul_VAE:849.0410,KL:0.0148,Center:0.4212\n",
      "INFO:scDualGN.run:Epoch 24/32, Loss - overall: 849.1274,daul_VAE:848.6949,KL:0.0150,Center:0.4174\n",
      "INFO:scDualGN.evalution:acc 0.6922, nmi 0.6874, ari 0.6208, hs 0.7338, cs 0.6465, purity: 0.7974\n",
      "INFO:scDualGN.run:Epoch 25/32, Loss - overall: 848.7889,daul_VAE:848.3600,KL:0.0140,Center:0.4149\n",
      "INFO:scDualGN.run:Epoch 26/32, Loss - overall: 848.4850,daul_VAE:848.0594,KL:0.0143,Center:0.4113\n",
      "INFO:scDualGN.run:Epoch 27/32, Loss - overall: 848.1202,daul_VAE:847.6977,KL:0.0145,Center:0.4080\n",
      "INFO:scDualGN.evalution:acc 0.6940, nmi 0.6889, ari 0.6266, hs 0.7329, cs 0.6499, purity: 0.7967\n",
      "INFO:scDualGN.run:Epoch 28/32, Loss - overall: 847.7864,daul_VAE:847.3678,KL:0.0141,Center:0.4045\n",
      "INFO:scDualGN.run:Epoch 29/32, Loss - overall: 847.4373,daul_VAE:847.0214,KL:0.0143,Center:0.4015\n",
      "INFO:scDualGN.run:Epoch 30/32, Loss - overall: 847.1180,daul_VAE:846.7047,KL:0.0145,Center:0.3988\n",
      "INFO:scDualGN.evalution:acc 0.6951, nmi 0.6896, ari 0.6288, hs 0.7308, cs 0.6528, purity: 0.7946\n",
      "INFO:scDualGN.run:Epoch 31/32, Loss - overall: 846.8251,daul_VAE:846.4149,KL:0.0139,Center:0.3963\n",
      "INFO:scDualGN.evalution:acc 0.6980, nmi 0.6907, ari 0.6313, hs 0.7290, cs 0.6562, purity: 0.7931\n",
      "INFO:scDualGN.run:Epoch 32/32, Loss - overall: 846.5179,daul_VAE:846.1104,KL:0.0139,Center:0.3937\n",
      "INFO:scDualGN.run:clustering finished.\n",
      "INFO:scDualGN.evalution:acc 0.6957, nmi 0.6907, ari 0.6302, hs 0.7301, cs 0.6553, purity: 0.7932\n"
     ]
    },
    {
     "name": "stdout",
     "output_type": "stream",
     "text": [
      "acc 0.6957, nmi 0.6907, ari 0.6302, hs 0.7301, cs 0.6553, purity: 0.7932\n",
      "running time = 4490.2222464084625\n"
     ]
    }
   ],
   "source": [
    "#kmeans\n",
    "# start = time.time()\n",
    "# z_final, y_pred_lab, model = scDualGN.run_scDualGN(adata, n_cluster=18,n_z=32,n_epoch_update_pq=5, n_epochs=30,alpha_dualvae=0.02,beta_daulvae=5,gamma_dualvae=4,GPU_id=2)\n",
    "\n",
    "# scdualgn_model = scDualGN.scDualGN(adata, n_z=32,device='cuda:2', verbosity=True, batch_size=1024).pretrain(alpha=0.05, beta=20, gamma=4)\n",
    "# scdualgn_model.cluster(n_cluster=18, eta=1, nu=1, n_epochs=30)\n",
    "\n",
    "lr, alpha, gamma, nu = 0.0001, 0.01, 4, 0.01\n",
    "print('=====================================')\n",
    "print('lr:{}, alpha:{}, gamma:{}, nu:{}'.format(lr, alpha, gamma, nu))\n",
    "start = time.time()\n",
    "torch.cuda.empty_cache()\n",
    "scdualgn_model = scDualGN.scDualGN(adata, n_z=32,device='cuda:1', batch_size=1024*2, verbosity=True, lr=lr).pretrain(alpha=alpha, beta=1, gamma=gamma)\n",
    "scdualgn_model.cluster(n_cluster=12, eta=1, nu=nu, n_epochs=32)\n",
    "\n",
    "\n",
    "end = time.time()\n",
    "\n",
    "print('running time = {}'.format(end-start))"
   ]
  },
  {
   "cell_type": "code",
   "execution_count": null,
   "metadata": {},
   "outputs": [],
   "source": [
    "#leiden\n",
    "# start = time.time()\n",
    "# z_final, y_pred_lab, model = scDualGN.run_scDualGN(adata,n_z=32,n_epoch_update_pq=5, n_epochs=30,alpha_dualvae=0.02,beta_daulvae=5,gamma_dualvae=4,GPU_id=2,n_neighbors=50)\n",
    "# end = time.time()\n",
    "\n",
    "# print('running time = {}'.format(end-start))"
   ]
  },
  {
   "cell_type": "code",
   "execution_count": null,
   "metadata": {},
   "outputs": [],
   "source": []
  },
  {
   "cell_type": "code",
   "execution_count": null,
   "metadata": {},
   "outputs": [],
   "source": []
  },
  {
   "cell_type": "code",
   "execution_count": null,
   "metadata": {},
   "outputs": [],
   "source": []
  }
 ],
 "metadata": {
  "kernelspec": {
   "display_name": "Python 3 (ipykernel)",
   "language": "python",
   "name": "python3"
  },
  "language_info": {
   "codemirror_mode": {
    "name": "ipython",
    "version": 3
   },
   "file_extension": ".py",
   "mimetype": "text/x-python",
   "name": "python",
   "nbconvert_exporter": "python",
   "pygments_lexer": "ipython3",
   "version": "3.8.13"
  }
 },
 "nbformat": 4,
 "nbformat_minor": 4
}
